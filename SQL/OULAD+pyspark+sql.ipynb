{
 "cells": [
  {
   "cell_type": "code",
   "execution_count": 1,
   "id": "68864fb9-e3be-456f-ab78-a958442d6249",
   "metadata": {},
   "outputs": [],
   "source": [
    "from pyspark.sql import SparkSession"
   ]
  },
  {
   "cell_type": "code",
   "execution_count": null,
   "id": "6c1f11a0-6429-4512-b72b-70ff1074f13e",
   "metadata": {},
   "outputs": [],
   "source": []
  },
  {
   "cell_type": "code",
   "execution_count": 2,
   "id": "a57965e3-00ac-4631-a6cf-2c7a57a3cb2a",
   "metadata": {},
   "outputs": [
    {
     "name": "stderr",
     "output_type": "stream",
     "text": [
      "25/02/12 10:19:04 WARN Utils: Your hostname, alehak-ThinkPad-S5-S540 resolves to a loopback address: 127.0.1.1; using 10.1.0.118 instead (on interface enp3s0)\n",
      "25/02/12 10:19:04 WARN Utils: Set SPARK_LOCAL_IP if you need to bind to another address\n",
      "Setting default log level to \"WARN\".\n",
      "To adjust logging level use sc.setLogLevel(newLevel). For SparkR, use setLogLevel(newLevel).\n",
      "25/02/12 10:19:12 WARN NativeCodeLoader: Unable to load native-hadoop library for your platform... using builtin-java classes where applicable\n"
     ]
    }
   ],
   "source": [
    "spark = SparkSession.builder \\\n",
    "    .appName(\"OULAD Analys;is\") \\\n",
    "    .config(\"spark.driver.memory\", \"4g\") \\\n",
    "    .getOrCreate()"
   ]
  },
  {
   "cell_type": "code",
   "execution_count": null,
   "id": "96f4db3a-6a18-4000-a4e9-07ff8e53f5be",
   "metadata": {},
   "outputs": [],
   "source": []
  },
  {
   "cell_type": "raw",
   "id": "ed4dc774-04b2-4527-a018-e1238787a2b6",
   "metadata": {},
   "source": [
    "1. Title of Database: Open University Learning Analytics dataset\n",
    "\n",
    "2. Sources:\n",
    "\n",
    "   (a) Original owners of database:\n",
    "  The Open University\n",
    "  Walton Hall, Milton Keynes\n",
    "  MK7 6AA\n",
    "  United Kingdom\n",
    "  contact: Zdenek Zdrahal (zdenek.zdrahal@open.ac.uk)\n",
    "\n",
    "   (b) Donor of database:\n",
    "  Jakub Kuzilek (jakub.kuzilek@gmail.com)\n",
    "  Knowledge Media Institute, The Open University\n",
    "  Walton Hall, Milton Keynes, MK7 6AA, UK\n",
    "  CIIRC, CTU in Prague\n",
    "  Zikova 1903/4, Prague, CZ\n",
    "  Martin Hlosta (martin.hlosta@open.ac.uk)\n",
    "  Knowledge Media Institute, The Open University\n",
    "  Walton Hall, Milton Keynes, MK7 6AA, UK\n",
    "  Zdenek Zdrahal (zdenek.zdrahal@open.ac.uk)\n",
    "  Knowledge Media Institute, The Open University\n",
    "  Walton Hall, Milton Keynes, MK7 6AA, UK\n",
    "  CIIRC, CTU in Prague\n",
    "  Zikova 1903/4, Prague, CZ\n",
    "\n",
    "   (c) Date received: December 2015\n",
    "\n",
    "\n",
    "3. Past Usage:\n",
    "  - none -\n",
    "\n",
    "4. Relevant Information Paragraph:\n",
    "\n",
    "    Open University Learning Analytics Dataset (OULAD) contains data about \n",
    "    courses, students and their interactions with Virtual Learning \n",
    "    Environment (VLE) for seven selected courses (called modules). Presentations\n",
    "    of courses start in February and October - they are marked by \"B\" and \"J\" \n",
    "    respectively. The dataset consists of tables connected using unique \n",
    "    identifiers. Dataset is stored in several csv files.  \n",
    "    \n",
    "    More information, examples and news can be found at: \n",
    "      https://analyse.kmi.open.ac.uk/open_dataset\n",
    "\n",
    "5. Number of Instances: \n",
    "    - students in courses: 32953\n",
    "    - course-presentations: 22\n",
    "    - VLE pages: 6364\n",
    "    - VLE log entries: 10655280\n",
    "    - registration entries: 32953\n",
    "    - assessments: 206\n",
    "    - assessment entries: 173912\n",
    "\n",
    "\n",
    "6. Number of Attributes: 43\n",
    "\n",
    "\n",
    "7. Attribute information:\n",
    "   Name\t\t              Data Type\t  Meas.\t Description\n",
    "\t ----                 ---------   -----  -------------------------------------\n",
    "   -----------------------------------------------------------------------------\n",
    "   courses.csv\n",
    "   -----------------------------------------------------------------------------\n",
    "   code_module          nominal            code name of the module, which serves \n",
    "                                           as the identifier\n",
    "   code_presentation    nominal            code name of the presentation. It \n",
    "                                           consists of the year and B for the \n",
    "                                           presentation starting in February and \n",
    "                                           J for the presentation starting \n",
    "                                           in October\n",
    "   length               integer     days   length of the module-presentation \n",
    "                                           in days\n",
    "   -----------------------------------------------------------------------------                                      \n",
    "   assessments.csv\n",
    "   -----------------------------------------------------------------------------\n",
    "   code_module          nominal            identification code of the module, \n",
    "                                           to which the assessment belongs\n",
    "   code_presentation    nominal            identification code of the \n",
    "                                           presentation, to which the assessment \n",
    "                                           belongs\n",
    "   id_assessment        integer            identification number of the \n",
    "                                           assessment\n",
    "   assessment_type      nominal            type of assessment\n",
    "   date                 integer     days   information about the final \n",
    "                                           submission date of the assessment \n",
    "                                           calculated as the number of days \n",
    "                                           since the start of the \n",
    "                                           module-presentation. The starting \n",
    "                                           date of the presentation has \n",
    "                                           number 0 (zero)\n",
    "   weight               integer    %       weight of the assessment in %. \n",
    "                                           Typically, Exams are treated separa-\n",
    "                                           tely and have the weight 100%; \n",
    "                                           the sum of all other assessments \n",
    "                                           is 100%\n",
    "   -----------------------------------------------------------------------------                                      \n",
    "   vle.csv\n",
    "   -----------------------------------------------------------------------------\n",
    "   id_site              integer            an identification number \n",
    "                                           of the material\n",
    "   code_module          nominal            an identification code for module\n",
    "   code_presentation    nominal            the identification code of presenta-\n",
    "                                           tion\n",
    "   activity_type        nominal            the role associated with the module \n",
    "                                           material\n",
    "   week_from            integer    week    the week from which the material \n",
    "                                           is planned to be used\n",
    "   week_to              integer    week    week until which the material is \n",
    "                                           planned to be used\n",
    "   -----------------------------------------------------------------------------\n",
    "   studentInfo.csv\n",
    "   -----------------------------------------------------------------------------\n",
    "   code_module          nominal            an identification code for a module \n",
    "                                           on which the student is registered\n",
    "   code_presentation    nominal            the identification code of the \n",
    "                                           presentation during which the student \n",
    "                                           is registered on the module\n",
    "   id_student           integer            a unique identification number \n",
    "                                           for the student\n",
    "   gender               nominal            the students gender\n",
    "   region               nominal            identifies the geographic region, \n",
    "                                           where the student lived while taking \n",
    "                                           the module-presentation\n",
    "   highest_education    nominal            highest student education level \n",
    "                                           on entry to the module presentation\n",
    "   imd_band             nominal            specifies the Index of Multiple \n",
    "                                           Depravation band of the place where \n",
    "                                           the student lived during \n",
    "                                           the module-presentation\n",
    "   age_band             nominal            band of the students age\n",
    "   num_of_prev_attempts integer            the number times the student has \n",
    "                                           attempted this module\n",
    "   studied_credits      integer            the total number of credits for the \n",
    "                                           modules the student is currently \n",
    "                                           studying\n",
    "   disability           nominal            indicates whether the student has \n",
    "                                           declared a disability\n",
    "   final_result         nominal            students final result in the \n",
    "                                           module-presentation\n",
    "   -----------------------------------------------------------------------------                                        \n",
    "   studentRegistration.csv\n",
    "   -----------------------------------------------------------------------------\n",
    "   code_module          nominal            an identification code for a module\n",
    "   code_presentation    nominal            the identification code \n",
    "                                           of the presentation\n",
    "   id_student           integer            a unique identification number \n",
    "                                           for the student\n",
    "   date_registration    integer    days    the date of students registration on\n",
    "                                           the module presentation, this is the \n",
    "                                           number of days measured relative to \n",
    "                                           the start of the module-presentation \n",
    "                                           (e.g. the negative value -30 means \n",
    "                                           that the student registered to module\n",
    "                                           presentation 30 days before \n",
    "                                           it started)\n",
    "   date_unregistration  integer    days    date of student unregistration from \n",
    "                                           the module presentation, this is the \n",
    "                                           number of days measured relative to \n",
    "                                           the start of the module-presentation.\n",
    "                                           Students, who completed the course \n",
    "                                           have this field empty. Students who \n",
    "                                           unregistered have Withdrawal as the \n",
    "                                           value of the final_result column in \n",
    "                                           the studentInfo.csv file\n",
    "   -----------------------------------------------------------------------------                                       \n",
    "   studentAssessment.csv\n",
    "   -----------------------------------------------------------------------------\n",
    "   id_assessment        integer            the identification number \n",
    "                                           of the assessment\n",
    "   id_student           integer            a unique identification number \n",
    "                                           for the student\n",
    "   date_submitted       integer    days    the date of student submission, \n",
    "                                           measured as the number of days since \n",
    "                                           the start of the module presentation\n",
    "   is_banked            integer            a status flag indicating that the \n",
    "                                           assessment result has been \n",
    "                                           transferred from a previous \n",
    "                                           presentation\n",
    "   score                integer            the students score in \n",
    "                                           this assessment. The range is from\n",
    "                                           0 to 100. The score lower than 40 is \n",
    "                                           interpreted as Fail. The marks are in\n",
    "                                           the range from 0 to 100\n",
    "   -----------------------------------------------------------------------------\n",
    "   studentVle.csv\n",
    "   -----------------------------------------------------------------------------\n",
    "   code_module          nominal            an identification code for a module\n",
    "   code_presentation    nominal            the identification code of the \n",
    "                                           module presentation\n",
    "   id_student           integer            a unique identification number \n",
    "                                           for the student\n",
    "   id_site              integer            an identification number for the \n",
    "                                           VLE material\n",
    "   date                 integer    days    the date of students interaction \n",
    "                                           with the material measured as the \n",
    "                                           number of days since the start of \n",
    "                                           the module-presentation\n",
    "   sum_click            integer            the number of times a student \n",
    "                                           interacts with the material in \n",
    "                                           that day \n",
    "\n",
    "8. Missing Attribute Values: Yes\n",
    "\n",
    "\n",
    "9. Class Distribution:\n",
    "\n",
    "\tClass\t      Examples\n",
    "\t----------- ---------\n",
    "\tDistinction 3024\n",
    "  Fail        7052 \n",
    "  Pass        12361\n",
    "  Withdrawn   10156\n",
    "  ----------- ---------\n",
    "  Total       32593"
   ]
  },
  {
   "cell_type": "markdown",
   "id": "d8dcc1e0-40b9-4253-8eb0-567e5ffe76e7",
   "metadata": {},
   "source": [
    "## Read csv files into spark"
   ]
  },
  {
   "cell_type": "code",
   "execution_count": 3,
   "id": "5e6348b7-dba7-42d0-8262-5b2474a4922d",
   "metadata": {},
   "outputs": [
    {
     "name": "stderr",
     "output_type": "stream",
     "text": [
      "                                                                                \r"
     ]
    }
   ],
   "source": [
    "data_courses = spark.read.csv(\"archive/courses.csv\", header=True, inferSchema=True)\n",
    "data_assessments = spark.read.csv(\"archive/assessments.csv\", header=True, inferSchema=True)\n",
    "data_studentAssessment = spark.read.csv(\"archive/studentAssessment.csv\", header=True, inferSchema=True)\n",
    "data_studentInfo = spark.read.csv(\"archive/studentInfo.csv\", header=True, inferSchema=True)\n",
    "data_studentRegistration = spark.read.csv(\"archive/studentRegistration.csv\", header=True, inferSchema=True)\n",
    "data_studentVle = spark.read.csv(\"archive/studentVle.csv\", header=True, inferSchema=True)"
   ]
  },
  {
   "cell_type": "code",
   "execution_count": 4,
   "id": "e1d97d82-409c-4b9a-8751-774b917553d6",
   "metadata": {},
   "outputs": [],
   "source": [
    "data_courses.createOrReplaceTempView(\"data_courses\")\n",
    "data_assessments.createOrReplaceTempView(\"data_assessments\")\n",
    "data_studentAssessment.createOrReplaceTempView(\"data_studentAssessment\")\n",
    "data_studentInfo.createOrReplaceTempView(\"data_studentInfo\")\n",
    "data_studentRegistration.createOrReplaceTempView(\"data_studentRegistration\")\n",
    "data_studentVle.createOrReplaceTempView(\"data_studentVle\")"
   ]
  },
  {
   "cell_type": "code",
   "execution_count": 5,
   "id": "2b602d72-ddde-4a87-a03f-a41636f40419",
   "metadata": {},
   "outputs": [],
   "source": [
    "from pyspark.sql import functions as F"
   ]
  },
  {
   "cell_type": "code",
   "execution_count": 6,
   "id": "6f6db304-abcb-4feb-9c2e-4fe74e652c58",
   "metadata": {},
   "outputs": [
    {
     "name": "stderr",
     "output_type": "stream",
     "text": [
      "                                                                                \r"
     ]
    },
    {
     "data": {
      "text/plain": [
       "32593"
      ]
     },
     "execution_count": 6,
     "metadata": {},
     "output_type": "execute_result"
    }
   ],
   "source": [
    "data_studentInfo.count()"
   ]
  },
  {
   "cell_type": "markdown",
   "id": "42377371-9f44-4057-bd6b-47e51c04b9ff",
   "metadata": {
    "jp-MarkdownHeadingCollapsed": true
   },
   "source": [
    "# Basic SQL Questions"
   ]
  },
  {
   "cell_type": "markdown",
   "id": "91cfb705-7a77-47f3-99c4-24965fbed7b4",
   "metadata": {},
   "source": [
    "## 1) List all students in the dataset"
   ]
  },
  {
   "cell_type": "code",
   "execution_count": 260,
   "id": "599595d4-aa51-4267-89ad-2bfda4ef73ac",
   "metadata": {},
   "outputs": [
    {
     "data": {
      "text/plain": [
       "28785"
      ]
     },
     "execution_count": 260,
     "metadata": {},
     "output_type": "execute_result"
    }
   ],
   "source": [
    "data_studentInfo.select(\"id_student\").distinct().count()"
   ]
  },
  {
   "cell_type": "markdown",
   "id": "82b5e427-8f2c-4bf9-908f-3cac5019c7f2",
   "metadata": {
    "scrolled": true
   },
   "source": [
    "## 3) Get all students who studied module ‘AAA’ in presentation ‘2014B’."
   ]
  },
  {
   "cell_type": "code",
   "execution_count": 22,
   "id": "2784ea2f-e17e-4b86-b8cb-0bb40a55a9e8",
   "metadata": {},
   "outputs": [],
   "source": [
    "# spark syntax"
   ]
  },
  {
   "cell_type": "code",
   "execution_count": 261,
   "id": "52702f15-daf2-42c7-b81f-a6fe3b502834",
   "metadata": {},
   "outputs": [
    {
     "name": "stdout",
     "output_type": "stream",
     "text": [
      "+----------+\n",
      "|id_student|\n",
      "+----------+\n",
      "+----------+\n",
      "\n"
     ]
    }
   ],
   "source": [
    "data_studentInfo.select(\"id_student\").where((data_studentInfo[\"code_module\"] == \"AAA\")\n",
    "                                            & (data_studentInfo[\"code_presentation\"] == \"2014B\")).distinct().show()"
   ]
  },
  {
   "cell_type": "code",
   "execution_count": 52,
   "id": "ea3a60ee-b6d1-421c-8106-39752dddaa61",
   "metadata": {},
   "outputs": [],
   "source": [
    "# sql syntax"
   ]
  },
  {
   "cell_type": "code",
   "execution_count": 30,
   "id": "77d04494-01b0-45fd-a494-07babc596b99",
   "metadata": {},
   "outputs": [],
   "source": [
    "# register df as temp view\n",
    "data_studentInfo.createOrReplaceTempView(\"data_studentInfo\")"
   ]
  },
  {
   "cell_type": "code",
   "execution_count": 263,
   "id": "694081c5-e5cd-4466-9060-bf8aac8c5c65",
   "metadata": {},
   "outputs": [
    {
     "data": {
      "text/plain": [
       "0"
      ]
     },
     "execution_count": 263,
     "metadata": {},
     "output_type": "execute_result"
    }
   ],
   "source": [
    "res_df = spark.sql(\"SELECT DISTINCT(id_student) FROM data_studentInfo WHERE code_module = 'AAA' and code_presentation='2014B'\")\n",
    "res_df.count()"
   ]
  },
  {
   "cell_type": "markdown",
   "id": "fbcea7b8-3725-4c0f-ab8d-e089f2ab29bc",
   "metadata": {},
   "source": [
    "## 5) Get all students who have withdrawn from their course."
   ]
  },
  {
   "cell_type": "code",
   "execution_count": 46,
   "id": "ecbbf6ad-0c77-4479-8266-877f9d1af1fb",
   "metadata": {},
   "outputs": [],
   "source": [
    "# Students who unregistered have Withdrawn as the value of the final_result in the studentInfo table. "
   ]
  },
  {
   "cell_type": "code",
   "execution_count": 47,
   "id": "76052299-0a68-4da3-94ec-d1926834a43f",
   "metadata": {},
   "outputs": [],
   "source": [
    "# spark syntax"
   ]
  },
  {
   "cell_type": "code",
   "execution_count": 264,
   "id": "f4170e3e-98c6-433d-ae21-322c0d378dfc",
   "metadata": {},
   "outputs": [],
   "source": [
    "withdrawn_df = data_studentInfo.select(\"id_student\").filter(\n",
    "    data_studentInfo[\"final_result\"] == \"Withdrawn\").distinct()"
   ]
  },
  {
   "cell_type": "code",
   "execution_count": 265,
   "id": "e704eebe-70ef-4828-ad80-4a5e1c058900",
   "metadata": {},
   "outputs": [
    {
     "name": "stdout",
     "output_type": "stream",
     "text": [
      "+----------+\n",
      "|id_student|\n",
      "+----------+\n",
      "|    302550|\n",
      "|    534217|\n",
      "|    579256|\n",
      "|    597532|\n",
      "|    631190|\n",
      "|    514006|\n",
      "|    650961|\n",
      "|    686093|\n",
      "|    530113|\n",
      "|    574830|\n",
      "|   1619251|\n",
      "|    442823|\n",
      "|    512861|\n",
      "|    587195|\n",
      "|    697283|\n",
      "|    535220|\n",
      "|    580595|\n",
      "|    594599|\n",
      "|   2336922|\n",
      "|    431136|\n",
      "+----------+\n",
      "only showing top 20 rows\n",
      "\n"
     ]
    }
   ],
   "source": [
    "withdrawn_df.show()"
   ]
  },
  {
   "cell_type": "code",
   "execution_count": 266,
   "id": "4749a2dd-c8d2-40e3-92c2-a77b66ff446d",
   "metadata": {},
   "outputs": [
    {
     "data": {
      "text/plain": [
       "9155"
      ]
     },
     "execution_count": 266,
     "metadata": {},
     "output_type": "execute_result"
    }
   ],
   "source": [
    "withdrawn_df.count()"
   ]
  },
  {
   "cell_type": "code",
   "execution_count": 53,
   "id": "4163c13a-d1cc-4f24-bc92-6b6f71bd6e74",
   "metadata": {},
   "outputs": [],
   "source": [
    "# sql syntax"
   ]
  },
  {
   "cell_type": "code",
   "execution_count": 267,
   "id": "19f61385-d6ac-4d39-9c7f-bf220771dc82",
   "metadata": {},
   "outputs": [
    {
     "data": {
      "text/plain": [
       "9155"
      ]
     },
     "execution_count": 267,
     "metadata": {},
     "output_type": "execute_result"
    }
   ],
   "source": [
    "res_df = spark.sql(\"SELECT DISTINCT(id_student) FROM data_studentInfo WHERE final_result = 'Withdrawn'\")\n",
    "res_df.count()"
   ]
  },
  {
   "cell_type": "markdown",
   "id": "b28c5da8-96fb-4445-a2d4-6da38e64382f",
   "metadata": {},
   "source": [
    "## 7) List students who registered late (after course start date)."
   ]
  },
  {
   "cell_type": "code",
   "execution_count": 57,
   "id": "12d31edc-72dc-464d-89c6-04fdd3b675b1",
   "metadata": {},
   "outputs": [],
   "source": [
    "# use date_registration from studentRegistration"
   ]
  },
  {
   "cell_type": "code",
   "execution_count": 56,
   "id": "ab9b0363-d2f4-4c1b-a127-c5eb1cb115e3",
   "metadata": {},
   "outputs": [],
   "source": [
    "# spark syntax"
   ]
  },
  {
   "cell_type": "code",
   "execution_count": 270,
   "id": "82698a69-a925-4912-b179-477dd4c46b74",
   "metadata": {},
   "outputs": [],
   "source": [
    "late_students = data_studentRegistration.select(\"id_student\", \"code_module\").filter(data_studentRegistration[\"date_registration\"] > 0).distinct()"
   ]
  },
  {
   "cell_type": "code",
   "execution_count": 271,
   "id": "105ab1f7-acb2-4a2f-9639-5ac33a61a21f",
   "metadata": {},
   "outputs": [
    {
     "data": {
      "text/plain": [
       "233"
      ]
     },
     "execution_count": 271,
     "metadata": {},
     "output_type": "execute_result"
    }
   ],
   "source": [
    "late_students.count()"
   ]
  },
  {
   "cell_type": "code",
   "execution_count": 62,
   "id": "4b79919f-f838-40a2-9e48-6e35ef2b1eb6",
   "metadata": {},
   "outputs": [],
   "source": [
    "# sql syntax"
   ]
  },
  {
   "cell_type": "code",
   "execution_count": 272,
   "id": "8796f013-a39b-4cd8-be29-6d8e9be9191b",
   "metadata": {},
   "outputs": [],
   "source": [
    "data_studentRegistration.createOrReplaceTempView(\"data_studentRegistration\")"
   ]
  },
  {
   "cell_type": "code",
   "execution_count": 323,
   "id": "a0cb0b49-e189-41ca-9b95-ef8051e635cc",
   "metadata": {},
   "outputs": [],
   "source": [
    "res_df = spark.sql(\"SELECT DISTINCT(id_student) FROM data_studentRegistration WHERE date_registration>0\")"
   ]
  },
  {
   "cell_type": "code",
   "execution_count": 324,
   "id": "cc1695ed-ddf3-4780-af7a-3747eec181dc",
   "metadata": {},
   "outputs": [
    {
     "data": {
      "text/plain": [
       "233"
      ]
     },
     "execution_count": 324,
     "metadata": {},
     "output_type": "execute_result"
    }
   ],
   "source": [
    "res_df.count()"
   ]
  },
  {
   "cell_type": "code",
   "execution_count": 275,
   "id": "027b9622-82ce-4ab8-85e7-4d30b5c46528",
   "metadata": {},
   "outputs": [
    {
     "data": {
      "text/plain": [
       "233"
      ]
     },
     "execution_count": 275,
     "metadata": {},
     "output_type": "execute_result"
    }
   ],
   "source": [
    "res_df.count()"
   ]
  },
  {
   "cell_type": "markdown",
   "id": "5d135c9a-08ba-47ae-bb6f-08d89f947995",
   "metadata": {},
   "source": [
    "## 9) Find the average assessment weight by module."
   ]
  },
  {
   "cell_type": "code",
   "execution_count": 80,
   "id": "6baafe26-a11e-4522-9589-8b0b68e8361a",
   "metadata": {},
   "outputs": [],
   "source": [
    "from pyspark.sql import functions as F"
   ]
  },
  {
   "cell_type": "code",
   "execution_count": 79,
   "id": "e5e192e4-7e9b-4b5a-aa75-d2e604841939",
   "metadata": {},
   "outputs": [],
   "source": [
    "# spark syntax"
   ]
  },
  {
   "cell_type": "code",
   "execution_count": 77,
   "id": "aa8467e5-038e-497f-b175-faad775cfa81",
   "metadata": {},
   "outputs": [],
   "source": [
    "average_weight_df = data_assessments.groupBy(\"code_module\").avg(\"weight\")"
   ]
  },
  {
   "cell_type": "code",
   "execution_count": 78,
   "id": "cdca46f9-8d23-4036-8d1b-daf192b50c7e",
   "metadata": {},
   "outputs": [
    {
     "name": "stdout",
     "output_type": "stream",
     "text": [
      "+-----------+------------------+\n",
      "|code_module|       avg(weight)|\n",
      "+-----------+------------------+\n",
      "|        CCC|              30.0|\n",
      "|        BBB|19.047619047619047|\n",
      "|        DDD|22.857142857142858|\n",
      "|        FFF|15.384615384615385|\n",
      "|        EEE|              40.0|\n",
      "|        AAA|33.333333333333336|\n",
      "|        GGG|              10.0|\n",
      "+-----------+------------------+\n",
      "\n"
     ]
    }
   ],
   "source": [
    "average_weight_df.show()"
   ]
  },
  {
   "cell_type": "code",
   "execution_count": 82,
   "id": "207325d6-9111-480d-b627-314b74510bc9",
   "metadata": {},
   "outputs": [],
   "source": [
    "average_weight_df = data_assessments.groupBy(\"code_module\").agg(F.avg(\"weight\").alias(\"average_weight\"))"
   ]
  },
  {
   "cell_type": "code",
   "execution_count": 83,
   "id": "dbbda661-24da-41c8-809f-b98b1929b65a",
   "metadata": {},
   "outputs": [
    {
     "name": "stdout",
     "output_type": "stream",
     "text": [
      "+-----------+------------------+\n",
      "|code_module|    average_weight|\n",
      "+-----------+------------------+\n",
      "|        CCC|              30.0|\n",
      "|        BBB|19.047619047619047|\n",
      "|        DDD|22.857142857142858|\n",
      "|        FFF|15.384615384615385|\n",
      "|        EEE|              40.0|\n",
      "|        AAA|33.333333333333336|\n",
      "|        GGG|              10.0|\n",
      "+-----------+------------------+\n",
      "\n"
     ]
    }
   ],
   "source": [
    "average_weight_df.show()"
   ]
  },
  {
   "cell_type": "code",
   "execution_count": 84,
   "id": "087891fb-2b39-4f38-852c-5e5c3ee49291",
   "metadata": {},
   "outputs": [],
   "source": [
    "# sql syntax"
   ]
  },
  {
   "cell_type": "code",
   "execution_count": 85,
   "id": "fd91a416-1c06-41f8-830c-a64414aa47ee",
   "metadata": {},
   "outputs": [],
   "source": [
    "data_assessments.createOrReplaceTempView(\"data_assessments\")"
   ]
  },
  {
   "cell_type": "code",
   "execution_count": 89,
   "id": "fb5082d7-67cb-438a-9a8c-343c88bb0c7f",
   "metadata": {},
   "outputs": [],
   "source": [
    "res_df = spark.sql(\"SELECT code_module, AVG(weight) as avg_weigth FROM data_assessments GROUP BY code_module\")"
   ]
  },
  {
   "cell_type": "code",
   "execution_count": 90,
   "id": "c23c14e1-cdfb-47fb-89ad-715f0b3c1543",
   "metadata": {},
   "outputs": [
    {
     "name": "stdout",
     "output_type": "stream",
     "text": [
      "+-----------+------------------+\n",
      "|code_module|        avg_weigth|\n",
      "+-----------+------------------+\n",
      "|        CCC|              30.0|\n",
      "|        BBB|19.047619047619047|\n",
      "|        DDD|22.857142857142858|\n",
      "|        FFF|15.384615384615385|\n",
      "|        EEE|              40.0|\n",
      "|        AAA|33.333333333333336|\n",
      "|        GGG|              10.0|\n",
      "+-----------+------------------+\n",
      "\n"
     ]
    }
   ],
   "source": [
    "res_df.show()"
   ]
  },
  {
   "cell_type": "markdown",
   "id": "ab78b20d-8382-487d-a23a-ceb97baad70a",
   "metadata": {},
   "source": [
    "## 11) Find students who have never submitted an assessment."
   ]
  },
  {
   "cell_type": "code",
   "execution_count": 94,
   "id": "225e375e-608d-4ef0-bd94-c66b69212706",
   "metadata": {},
   "outputs": [],
   "source": [
    "# spark syntax"
   ]
  },
  {
   "cell_type": "code",
   "execution_count": 277,
   "id": "cee31552-8866-497a-8a3e-c90110ba3ddd",
   "metadata": {},
   "outputs": [],
   "source": [
    "noAssesments_student_df = data_studentInfo.join(data_studentAssessment, on=[\"id_student\"], how=\"left_anti\").select(\"id_student\").distinct()"
   ]
  },
  {
   "cell_type": "code",
   "execution_count": 278,
   "id": "8268a9af-1f92-477a-bde5-188cc17833db",
   "metadata": {},
   "outputs": [
    {
     "name": "stdout",
     "output_type": "stream",
     "text": [
      "+----------+\n",
      "|id_student|\n",
      "+----------+\n",
      "|    302550|\n",
      "|    534217|\n",
      "|    579256|\n",
      "|    631190|\n",
      "|    514006|\n",
      "|    621856|\n",
      "|   1619251|\n",
      "|    442823|\n",
      "|    580595|\n",
      "|    594599|\n",
      "|    510532|\n",
      "|    636590|\n",
      "|    650829|\n",
      "|    651481|\n",
      "|    681960|\n",
      "|   2355701|\n",
      "|    566970|\n",
      "|    595515|\n",
      "|    247653|\n",
      "|    699140|\n",
      "+----------+\n",
      "only showing top 20 rows\n",
      "\n"
     ]
    }
   ],
   "source": [
    "noAssesments_student_df.show()"
   ]
  },
  {
   "cell_type": "code",
   "execution_count": 279,
   "id": "4123e743-cc37-4ead-8944-ab89d5212522",
   "metadata": {},
   "outputs": [
    {
     "name": "stderr",
     "output_type": "stream",
     "text": [
      "                                                                                \r"
     ]
    },
    {
     "data": {
      "text/plain": [
       "5416"
      ]
     },
     "execution_count": 279,
     "metadata": {},
     "output_type": "execute_result"
    }
   ],
   "source": [
    "noAssesments_student_df.count()"
   ]
  },
  {
   "cell_type": "code",
   "execution_count": 98,
   "id": "5ed447d0-45d5-4c06-9694-fd5de7f1da93",
   "metadata": {},
   "outputs": [],
   "source": [
    "# sql syntax"
   ]
  },
  {
   "cell_type": "code",
   "execution_count": 280,
   "id": "78e1134b-7373-48c4-bf36-88087e16c98e",
   "metadata": {},
   "outputs": [],
   "source": [
    "data_studentAssessment.createOrReplaceTempView(\"data_studentAssessment\")"
   ]
  },
  {
   "cell_type": "code",
   "execution_count": 281,
   "id": "e7a2b766-34a3-49f9-8da5-60504da791c2",
   "metadata": {},
   "outputs": [],
   "source": [
    "# with anti join\n",
    "res_df = spark.sql(\"SELECT DISTINCT(id_student) FROM data_studentInfo LEFT ANTI JOIN data_studentAssessment USING (id_student)\")"
   ]
  },
  {
   "cell_type": "code",
   "execution_count": 282,
   "id": "628c11d3-a587-4d5d-9a81-bfeeaac9c218",
   "metadata": {},
   "outputs": [
    {
     "data": {
      "text/plain": [
       "5416"
      ]
     },
     "execution_count": 282,
     "metadata": {},
     "output_type": "execute_result"
    }
   ],
   "source": [
    "res_df.count()"
   ]
  },
  {
   "cell_type": "code",
   "execution_count": 283,
   "id": "5841a97f-7aa5-4fd9-8caa-71c2a39aa591",
   "metadata": {},
   "outputs": [],
   "source": [
    "# with not exists\n",
    "res_df = spark.sql(\"\"\"\n",
    "            SELECT \n",
    "            DISTINCT(id_student) \n",
    "            FROM data_studentInfo d_si\n",
    "            WHERE NOT EXISTS (\n",
    "            SELECT 1 FROM data_studentAssessment d_sa WHERE d_sa.id_student = d_si.id_student)\"\"\")"
   ]
  },
  {
   "cell_type": "code",
   "execution_count": 284,
   "id": "cea73397-0718-4243-a3dc-ea796f77a44b",
   "metadata": {},
   "outputs": [
    {
     "data": {
      "text/plain": [
       "5416"
      ]
     },
     "execution_count": 284,
     "metadata": {},
     "output_type": "execute_result"
    }
   ],
   "source": [
    "res_df.count()"
   ]
  },
  {
   "cell_type": "markdown",
   "id": "648c17f4-25a5-4be8-bf25-02214e8e220a",
   "metadata": {},
   "source": [
    "# Intermediate SQL Questions"
   ]
  },
  {
   "cell_type": "markdown",
   "id": "33ce46bd-7ed1-46df-9374-c6698b2927f3",
   "metadata": {},
   "source": [
    "## 1) Get the average score per module."
   ]
  },
  {
   "cell_type": "code",
   "execution_count": 285,
   "id": "969aed38-3745-4c97-addc-94577db8fe45",
   "metadata": {},
   "outputs": [],
   "source": [
    "# join assessments with studentRegistration, group by code_module"
   ]
  },
  {
   "cell_type": "code",
   "execution_count": 286,
   "id": "295e93ba-2207-4e81-aa0b-9d1141a66780",
   "metadata": {},
   "outputs": [],
   "source": [
    "# spark syntax"
   ]
  },
  {
   "cell_type": "code",
   "execution_count": 287,
   "id": "68ccb063-71dd-49d1-b484-5877158c664d",
   "metadata": {},
   "outputs": [],
   "source": [
    "avgScored_df = data_assessments.join(data_studentAssessment, on=[\"id_assessment\"]) \\\n",
    "        .groupBy(\"code_module\").agg(F.avg(\"score\").alias(\"avg_score\")).select(\"code_module\", \"avg_score\")"
   ]
  },
  {
   "cell_type": "code",
   "execution_count": 288,
   "id": "d0aaf177-cbe3-479b-820e-b0121b7e3076",
   "metadata": {},
   "outputs": [
    {
     "name": "stdout",
     "output_type": "stream",
     "text": [
      "+-----------+-----------------+\n",
      "|code_module|        avg_score|\n",
      "+-----------+-----------------+\n",
      "|        CCC| 73.2613978551429|\n",
      "|        BBB| 76.7063682263431|\n",
      "|        DDD|70.09079993509654|\n",
      "|        FFF|77.70759006007047|\n",
      "|        EEE|81.18006593963987|\n",
      "|        AAA|69.03051493960585|\n",
      "|        GGG|79.70049293460401|\n",
      "+-----------+-----------------+\n",
      "\n"
     ]
    }
   ],
   "source": [
    "avgScored_df.show()"
   ]
  },
  {
   "cell_type": "code",
   "execution_count": 289,
   "id": "3931b2f0-5842-425e-82fb-ef0c8fb6c073",
   "metadata": {},
   "outputs": [],
   "source": [
    "# sql syntax"
   ]
  },
  {
   "cell_type": "code",
   "execution_count": 290,
   "id": "f46e3132-60d0-4786-a18c-b48b14c6e4eb",
   "metadata": {},
   "outputs": [],
   "source": [
    "data_assessments.createOrReplaceTempView(\"data_assessments\")"
   ]
  },
  {
   "cell_type": "code",
   "execution_count": 131,
   "id": "d31e9ff2-9bda-4dec-83f4-d08519d31a38",
   "metadata": {},
   "outputs": [],
   "source": [
    "res_df = spark.sql(\"\"\"\n",
    "    SELECT code_module, AVG(score) as avg_score\n",
    "    FROM data_assessments d_a\n",
    "    JOIN data_studentAssessment d_sa\n",
    "    ON d_a.id_assessment = d_sa.id_assessment\n",
    "    GROUP BY code_module\n",
    "    \"\"\")"
   ]
  },
  {
   "cell_type": "code",
   "execution_count": 132,
   "id": "d924e4e2-31a2-454d-8192-d827d6b2fd55",
   "metadata": {},
   "outputs": [
    {
     "name": "stderr",
     "output_type": "stream",
     "text": [
      "[Stage 104:============================>                            (1 + 1) / 2]\r"
     ]
    },
    {
     "name": "stdout",
     "output_type": "stream",
     "text": [
      "+-----------+-----------------+\n",
      "|code_module|        avg_score|\n",
      "+-----------+-----------------+\n",
      "|        CCC| 73.2613978551429|\n",
      "|        BBB| 76.7063682263431|\n",
      "|        DDD|70.09079993509654|\n",
      "|        FFF|77.70759006007047|\n",
      "|        EEE|81.18006593963987|\n",
      "|        AAA|69.03051493960585|\n",
      "|        GGG|79.70049293460401|\n",
      "+-----------+-----------------+\n",
      "\n"
     ]
    },
    {
     "name": "stderr",
     "output_type": "stream",
     "text": [
      "                                                                                \r"
     ]
    }
   ],
   "source": [
    "res_df.show()"
   ]
  },
  {
   "cell_type": "code",
   "execution_count": 133,
   "id": "95ac1736-47b1-40be-a9d5-284bd1058713",
   "metadata": {},
   "outputs": [
    {
     "name": "stderr",
     "output_type": "stream",
     "text": [
      "                                                                                \r"
     ]
    },
    {
     "data": {
      "text/plain": [
       "True"
      ]
     },
     "execution_count": 133,
     "metadata": {},
     "output_type": "execute_result"
    }
   ],
   "source": [
    "# check if two dfs are equal\n",
    "avgScored_df.collect() == res_df.collect()"
   ]
  },
  {
   "cell_type": "markdown",
   "id": "54fbbf58-2ffa-4a3d-b6ed-d7d3780a5659",
   "metadata": {},
   "source": [
    "## 2) Find the students who scored the highest in any assessment."
   ]
  },
  {
   "cell_type": "code",
   "execution_count": 7,
   "id": "45045cb0-618e-4339-be44-9feb73b29a87",
   "metadata": {},
   "outputs": [],
   "source": [
    "from pyspark.sql.window import Window"
   ]
  },
  {
   "cell_type": "code",
   "execution_count": 8,
   "id": "64b2f4fb-f3ae-4942-b9d3-1aee016f7b87",
   "metadata": {},
   "outputs": [],
   "source": [
    "# spark syntax - using rank window function"
   ]
  },
  {
   "cell_type": "code",
   "execution_count": 9,
   "id": "b22b0e19-07e3-4d36-b301-e57790a14c9d",
   "metadata": {},
   "outputs": [],
   "source": [
    "windowPartition = Window.partitionBy(\"id_assessment\").orderBy(F.desc(\"score\"))"
   ]
  },
  {
   "cell_type": "code",
   "execution_count": 10,
   "id": "d15df87d-00f4-44cd-9a09-3b29a6918e48",
   "metadata": {},
   "outputs": [],
   "source": [
    "best_students = data_studentAssessment.withColumn(\"score_rank\", F.rank().over(windowPartition))\\\n",
    "        .filter(\"score_rank=1\")\\\n",
    "        .select(\"id_student\").distinct()"
   ]
  },
  {
   "cell_type": "code",
   "execution_count": 12,
   "id": "32819211-92e9-49a7-ae34-e2cb9a23056b",
   "metadata": {},
   "outputs": [
    {
     "name": "stderr",
     "output_type": "stream",
     "text": [
      "                                                                                \r"
     ]
    },
    {
     "data": {
      "text/plain": [
       "7764"
      ]
     },
     "execution_count": 12,
     "metadata": {},
     "output_type": "execute_result"
    }
   ],
   "source": [
    "best_students.count()"
   ]
  },
  {
   "cell_type": "code",
   "execution_count": 13,
   "id": "93020613-63d3-4d6d-b560-29ededa67b86",
   "metadata": {},
   "outputs": [],
   "source": [
    "# sql syntax - using cte to find max results"
   ]
  },
  {
   "cell_type": "code",
   "execution_count": 15,
   "id": "53b7e0bd-2b89-4036-8803-dab0b2d12219",
   "metadata": {},
   "outputs": [],
   "source": [
    "res_df = spark.sql(\"\"\"\n",
    "    WITH max_scores AS (\n",
    "        SELECT MAX(score) as max_score, id_assessment\n",
    "        FROM data_studentAssessment\n",
    "        GROUP BY id_assessment\n",
    "    )\n",
    "    SELECT \n",
    "    DISTINCT(id_student)\n",
    "    FROM data_studentAssessment d_sa\n",
    "    WHERE score IN ( SELECT \n",
    "                        max_score \n",
    "                    FROM max_scores \n",
    "                    WHERE \n",
    "                        d_sa.id_assessment = max_scores.id_assessment    \n",
    "                        );\n",
    "\"\"\")"
   ]
  },
  {
   "cell_type": "code",
   "execution_count": 16,
   "id": "8cf99c0e-818b-4553-b516-9cee1212bdc5",
   "metadata": {},
   "outputs": [
    {
     "name": "stderr",
     "output_type": "stream",
     "text": [
      "                                                                                \r"
     ]
    },
    {
     "data": {
      "text/plain": [
       "7764"
      ]
     },
     "execution_count": 16,
     "metadata": {},
     "output_type": "execute_result"
    }
   ],
   "source": [
    "res_df.count()"
   ]
  },
  {
   "cell_type": "markdown",
   "id": "8679969f-b910-4996-8eb8-ac74d9569ebc",
   "metadata": {},
   "source": [
    "## 3) Calculate the overall average score of students who passed."
   ]
  },
  {
   "cell_type": "code",
   "execution_count": 291,
   "id": "52c251b4-de61-4f46-95b0-e3942cf00faf",
   "metadata": {},
   "outputs": [],
   "source": [
    "# spark syntax"
   ]
  },
  {
   "cell_type": "code",
   "execution_count": 292,
   "id": "96df928d-3fff-4654-b798-4fb61de7019a",
   "metadata": {},
   "outputs": [
    {
     "name": "stdout",
     "output_type": "stream",
     "text": [
      "+------------+\n",
      "|final_result|\n",
      "+------------+\n",
      "|        Fail|\n",
      "| Distinction|\n",
      "|   Withdrawn|\n",
      "|        Pass|\n",
      "+------------+\n",
      "\n"
     ]
    }
   ],
   "source": [
    "data_studentInfo.select(\"final_result\").distinct().show()"
   ]
  },
  {
   "cell_type": "code",
   "execution_count": 49,
   "id": "58937397-4214-42c0-b305-2d381ef5bde6",
   "metadata": {},
   "outputs": [],
   "source": [
    "data_Assesment_ext = data_studentAssessment.join(data_assessments, on=[\"id_assessment\"])"
   ]
  },
  {
   "cell_type": "code",
   "execution_count": 50,
   "id": "a899cc2d-637e-42e9-88f9-2166489818ce",
   "metadata": {},
   "outputs": [],
   "source": [
    "avg_score = data_studentInfo.join(data_Assesment_ext, on=[\"id_student\", \"code_module\", \"code_presentation\"])\\\n",
    "        .filter((F.col(\"final_result\").isin(\"Pass\", \"Distinction\"))).agg(F.avg(\"score\").alias(\"avg_passed_score\"))"
   ]
  },
  {
   "cell_type": "code",
   "execution_count": 51,
   "id": "12ad68e6-bdaf-4f4a-9be5-857f4bc9e4f0",
   "metadata": {},
   "outputs": [
    {
     "name": "stderr",
     "output_type": "stream",
     "text": [
      "                                                                                \r"
     ]
    },
    {
     "data": {
      "text/plain": [
       "[Row(avg_passed_score=79.1411761149361)]"
      ]
     },
     "execution_count": 51,
     "metadata": {},
     "output_type": "execute_result"
    }
   ],
   "source": [
    "avg_score.collect()"
   ]
  },
  {
   "cell_type": "code",
   "execution_count": 296,
   "id": "14844be1-e78d-48f6-beee-c5d37cce3e39",
   "metadata": {},
   "outputs": [],
   "source": [
    "# sql syntax"
   ]
  },
  {
   "cell_type": "code",
   "execution_count": 54,
   "id": "f34b9487-a11f-49d9-a3ec-5d17e0a01528",
   "metadata": {},
   "outputs": [],
   "source": [
    "res_df = spark.sql(\"\"\"\n",
    "    SELECT AVG(d_sa.score) as avg_passed_score\n",
    "    FROM data_studentAssessment d_sa\n",
    "    JOIN data_assessments d_a\n",
    "        ON d_sa.id_assessment = d_a.id_assessment\n",
    "    JOIN data_studentInfo d_si\n",
    "        ON d_si.id_student = d_sa.id_student\n",
    "        AND d_si.code_module = d_a.code_module\n",
    "        AND d_si.code_presentation = d_a.code_presentation\n",
    "    WHERE d_si.final_result IN ('Pass', 'Distinction');\n",
    "\"\"\")\n"
   ]
  },
  {
   "cell_type": "code",
   "execution_count": 55,
   "id": "66564940-fc4c-46ed-99bf-23b3a8ee4a3c",
   "metadata": {},
   "outputs": [
    {
     "data": {
      "text/plain": [
       "[Row(avg_passed_score=79.1411761149361)]"
      ]
     },
     "execution_count": 55,
     "metadata": {},
     "output_type": "execute_result"
    }
   ],
   "source": [
    "res_df.collect()"
   ]
  },
  {
   "cell_type": "markdown",
   "id": "d013b5bc-75b6-445c-9c02-b3c66fea4bea",
   "metadata": {},
   "source": [
    "## 4) Find courses where more than 50% of students passed."
   ]
  },
  {
   "cell_type": "code",
   "execution_count": 31,
   "id": "079810bd-c127-4bc7-af95-bad86638e255",
   "metadata": {},
   "outputs": [],
   "source": [
    "# pyspark syntax"
   ]
  },
  {
   "cell_type": "code",
   "execution_count": 30,
   "id": "8bc60c6e-c23b-4f3b-962e-ace92e71df14",
   "metadata": {},
   "outputs": [
    {
     "name": "stdout",
     "output_type": "stream",
     "text": [
      "+-----------+-----------------+-----------------+\n",
      "|code_module|code_presentation|     pass_percent|\n",
      "+-----------+-----------------+-----------------+\n",
      "|        AAA|            2014J|62.73972602739726|\n",
      "|        AAA|            2013J|67.36292428198433|\n",
      "+-----------+-----------------+-----------------+\n",
      "\n"
     ]
    }
   ],
   "source": [
    "data_studentInfo.groupBy(\"code_module\", \"code_presentation\")\\\n",
    "    .agg((F.count(F.when(F.col(\"final_result\") == 'Pass',1)) / F.count(\"id_student\") * 100).alias(\"pass_percent\"))\\\n",
    "    .filter(\"pass_percent > 50.0\").show()"
   ]
  },
  {
   "cell_type": "code",
   "execution_count": 33,
   "id": "1acf260c-53bd-47c4-bd87-26bf6c2f28e5",
   "metadata": {},
   "outputs": [],
   "source": [
    "# sql syntax"
   ]
  },
  {
   "cell_type": "code",
   "execution_count": 45,
   "id": "49de3d65-c890-4b42-bbb7-5e37b14815b9",
   "metadata": {},
   "outputs": [],
   "source": [
    "res_df = spark.sql(\"\"\"\n",
    "        SELECT code_module, code_presentation, COUNT(CASE WHEN final_result = 'Pass' THEN 1 ELSE NULL END)/COUNT(id_student)*100.0 as pass_percent\n",
    "        FROM data_studentInfo\n",
    "        GROUP BY code_module, code_presentation\n",
    "        HAVING COUNT(CASE WHEN final_result = 'Pass' THEN 1 ELSE NULL END)/COUNT(id_student)*100.0 > 50.0\n",
    "        \"\"\")"
   ]
  },
  {
   "cell_type": "code",
   "execution_count": 46,
   "id": "86523776-c133-497b-82d7-f2453ac4f940",
   "metadata": {},
   "outputs": [
    {
     "name": "stdout",
     "output_type": "stream",
     "text": [
      "+-----------+-----------------+-----------------+\n",
      "|code_module|code_presentation|     pass_percent|\n",
      "+-----------+-----------------+-----------------+\n",
      "|        AAA|            2014J|62.73972602739726|\n",
      "|        AAA|            2013J|67.36292428198433|\n",
      "+-----------+-----------------+-----------------+\n",
      "\n"
     ]
    }
   ],
   "source": [
    "res_df.show()"
   ]
  },
  {
   "cell_type": "markdown",
   "id": "06cc1320-bc4c-47d6-aad6-06ad83b41aac",
   "metadata": {},
   "source": [
    "## 5) Find students with a final result of ‘Distinction’ but never submitted an assessment."
   ]
  },
  {
   "cell_type": "code",
   "execution_count": 320,
   "id": "16bdf578-680f-41f4-833e-68856583610f",
   "metadata": {},
   "outputs": [],
   "source": [
    "# pyspark syntax\n",
    "data_Assesment_ext = data_studentAssessment.join(data_assessments, on=[\"id_assessment\"])"
   ]
  },
  {
   "cell_type": "code",
   "execution_count": 321,
   "id": "47ebfa2d-cc6c-44d1-a3a8-f5966de12172",
   "metadata": {},
   "outputs": [],
   "source": [
    "\n",
    "fav_students = data_studentInfo.join(data_Assesment_ext, on=[\"id_student\", \"code_module\", \"code_presentation\"], how=\"leftanti\")\\\n",
    "            .filter(data_studentInfo[\"final_result\"] == \"Distinction\").distinct()"
   ]
  },
  {
   "cell_type": "code",
   "execution_count": 322,
   "id": "1efb8171-0fed-47a7-ae4c-654ba287215f",
   "metadata": {},
   "outputs": [
    {
     "name": "stderr",
     "output_type": "stream",
     "text": [
      "[Stage 391:============================>                            (1 + 1) / 2]\r"
     ]
    },
    {
     "name": "stdout",
     "output_type": "stream",
     "text": [
      "+----------+-----------+-----------------+------+------+-----------------+--------+--------+--------------------+---------------+----------+------------+\n",
      "|id_student|code_module|code_presentation|gender|region|highest_education|imd_band|age_band|num_of_prev_attempts|studied_credits|disability|final_result|\n",
      "+----------+-----------+-----------------+------+------+-----------------+--------+--------+--------------------+---------------+----------+------------+\n",
      "+----------+-----------+-----------------+------+------+-----------------+--------+--------+--------------------+---------------+----------+------------+\n",
      "\n"
     ]
    },
    {
     "name": "stderr",
     "output_type": "stream",
     "text": [
      "                                                                                \r"
     ]
    }
   ],
   "source": [
    "fav_students.show()"
   ]
  },
  {
   "cell_type": "code",
   "execution_count": 302,
   "id": "5a1dbbb2-14d6-4770-b832-8952f6431186",
   "metadata": {},
   "outputs": [],
   "source": [
    "# sql syntax"
   ]
  },
  {
   "cell_type": "code",
   "execution_count": 157,
   "id": "3409160e-f704-4775-92e7-b648f2174461",
   "metadata": {},
   "outputs": [],
   "source": [
    "res_df = spark.sql(\"\"\"\n",
    "    WITH assessments_ext AS (\n",
    "        SELECT id_student FROM\n",
    "        data_assessments d_a\n",
    "        JOIN data_studentAssessment d_sa\n",
    "        USING (id_assessment)\n",
    "    )\n",
    "    SELECT DISTINCT(id_student) \n",
    "    FROM data_studentInfo\n",
    "    LEFT ANTI JOIN assessments_ext\n",
    "    USING (id_student)\n",
    "    WHERE final_result = 'Distinction'\n",
    "\"\"\")"
   ]
  },
  {
   "cell_type": "code",
   "execution_count": 158,
   "id": "9519e267-f257-4f12-b934-c6677f2155d7",
   "metadata": {},
   "outputs": [
    {
     "name": "stderr",
     "output_type": "stream",
     "text": [
      "                                                                                \r"
     ]
    },
    {
     "data": {
      "text/plain": [
       "0"
      ]
     },
     "execution_count": 158,
     "metadata": {},
     "output_type": "execute_result"
    }
   ],
   "source": [
    "res_df.count()"
   ]
  },
  {
   "cell_type": "code",
   "execution_count": 317,
   "id": "55a4aa69-5f9a-4efe-b05b-ec164ee12041",
   "metadata": {},
   "outputs": [],
   "source": [
    "res_df = spark.sql(\"\"\"\n",
    "    SELECT DISTINCT(id_student)\n",
    "    FROM data_studentInfo d_si\n",
    "    WHERE final_result = 'Distinction'\n",
    "    AND NOT EXISTS (\n",
    "        SELECT 1 FROM\n",
    "        data_assessments d_a\n",
    "        JOIN data_studentAssessment d_sa\n",
    "        USING (id_assessment)\n",
    "        WHERE d_sa.id_student = d_si.id_student\n",
    "    )\n",
    "\"\"\")"
   ]
  },
  {
   "cell_type": "code",
   "execution_count": 318,
   "id": "6ee8852a-e19d-48b6-b5ae-8d246a858489",
   "metadata": {},
   "outputs": [
    {
     "name": "stderr",
     "output_type": "stream",
     "text": [
      "[Stage 384:============================>                            (1 + 1) / 2]\r"
     ]
    },
    {
     "name": "stdout",
     "output_type": "stream",
     "text": [
      "+----------+\n",
      "|id_student|\n",
      "+----------+\n",
      "+----------+\n",
      "\n"
     ]
    },
    {
     "name": "stderr",
     "output_type": "stream",
     "text": [
      "                                                                                \r"
     ]
    }
   ],
   "source": [
    "res_df.show()"
   ]
  },
  {
   "cell_type": "markdown",
   "id": "a5c373e6-1bbf-41b3-9577-a7476f114b43",
   "metadata": {},
   "source": [
    "## 6) Find assessments where more than 80% of students scored below 50."
   ]
  },
  {
   "cell_type": "code",
   "execution_count": 57,
   "id": "bd3ebe4a-e858-4500-bfdf-26b3ceb8f811",
   "metadata": {},
   "outputs": [],
   "source": [
    "# spark syntax"
   ]
  },
  {
   "cell_type": "code",
   "execution_count": 75,
   "id": "7cbf2138-e2f5-4a48-b497-e64031988c20",
   "metadata": {},
   "outputs": [],
   "source": [
    "hard_assessments = data_studentAssessment.groupBy(\"id_assessment\").agg((F.sum(F.when(F.col(\"score\") < 50, 1))/F.count(\"id_student\") * 100.0).alias(\"below_p\"))\\\n",
    "    .filter(F.col(\"below_p\") > 80).select(\"id_assessment\")"
   ]
  },
  {
   "cell_type": "code",
   "execution_count": 76,
   "id": "539916ae-285e-490f-aa4a-bcfa15115459",
   "metadata": {},
   "outputs": [
    {
     "data": {
      "text/plain": [
       "0"
      ]
     },
     "execution_count": 76,
     "metadata": {},
     "output_type": "execute_result"
    }
   ],
   "source": [
    "hard_assessments.count()"
   ]
  },
  {
   "cell_type": "code",
   "execution_count": 74,
   "id": "914a8b3d-ce2c-445a-a06a-b234ef7fcba2",
   "metadata": {},
   "outputs": [],
   "source": [
    "# sql syntax"
   ]
  },
  {
   "cell_type": "code",
   "execution_count": 79,
   "id": "ac11faa8-abe1-44b5-8ade-93abaebc16b2",
   "metadata": {},
   "outputs": [],
   "source": [
    "res_df = spark.sql(\n",
    "    \"\"\"\n",
    "    SELECT id_assessment\n",
    "    FROM data_studentAssessment\n",
    "    GROUP BY id_assessment\n",
    "    HAVING SUM(CASE WHEN score < 50 THEN 1 END)/COUNT(*) * 100.0 > 80.0\n",
    "    \"\"\"\n",
    ")"
   ]
  },
  {
   "cell_type": "code",
   "execution_count": 81,
   "id": "16ad1ec6-3288-4554-a898-fe3f89f6ca9b",
   "metadata": {},
   "outputs": [
    {
     "name": "stderr",
     "output_type": "stream",
     "text": [
      "                                                                                \r"
     ]
    },
    {
     "data": {
      "text/plain": [
       "0"
      ]
     },
     "execution_count": 81,
     "metadata": {},
     "output_type": "execute_result"
    }
   ],
   "source": [
    "res_df.count()"
   ]
  },
  {
   "cell_type": "markdown",
   "id": "129ddeb2-7ff0-481e-bed6-ccdd20974e0b",
   "metadata": {},
   "source": [
    "## 7) Find students who submitted the same assessment multiple times."
   ]
  },
  {
   "cell_type": "code",
   "execution_count": 327,
   "id": "43d66438-c66d-4c23-b754-66c6208fad1f",
   "metadata": {},
   "outputs": [],
   "source": [
    "# pyspark syntax"
   ]
  },
  {
   "cell_type": "code",
   "execution_count": 351,
   "id": "0deadc78-02ec-4d01-92c8-6d527c4512c2",
   "metadata": {},
   "outputs": [],
   "source": [
    "mutiple_tries_df = data_studentInfo.join(data_studentAssessment, on=[\"id_student\"])\\\n",
    "        .groupBy(\"id_student\", \"id_assessment\").agg(F.count(\"id_assessment\").alias(\"n_submissions\"))\\\n",
    "        .filter(F.col(\"n_submissions\") > 1)"
   ]
  },
  {
   "cell_type": "code",
   "execution_count": 352,
   "id": "0eade5b9-9c73-47bc-96b1-050e0e796c6f",
   "metadata": {},
   "outputs": [
    {
     "name": "stderr",
     "output_type": "stream",
     "text": [
      "                                                                                \r"
     ]
    },
    {
     "data": {
      "text/plain": [
       "3136"
      ]
     },
     "execution_count": 352,
     "metadata": {},
     "output_type": "execute_result"
    }
   ],
   "source": [
    "mutiple_tries_df.select(\"id_student\").distinct().count()"
   ]
  },
  {
   "cell_type": "code",
   "execution_count": 353,
   "id": "0ce0144e-e5b9-4194-a305-84d9272a4189",
   "metadata": {},
   "outputs": [],
   "source": [
    "# sql syntax"
   ]
  },
  {
   "cell_type": "code",
   "execution_count": 361,
   "id": "be7e7c16-df2b-496e-9301-4992908af104",
   "metadata": {},
   "outputs": [],
   "source": [
    "res_df = spark.sql(\"\"\"\n",
    "        SELECT DISTINCT(d_si.id_student)\n",
    "        FROM data_studentInfo d_si\n",
    "        JOIN data_studentAssessment d_sa\n",
    "        ON d_si.id_student = d_sa.id_student\n",
    "        GROUP BY d_si.id_student, id_assessment\n",
    "        HAVING COUNT(id_assessment) > 1\n",
    "        \"\"\")"
   ]
  },
  {
   "cell_type": "code",
   "execution_count": 362,
   "id": "721139b3-a213-416b-8b72-8410e95a444f",
   "metadata": {},
   "outputs": [
    {
     "data": {
      "text/plain": [
       "3136"
      ]
     },
     "execution_count": 362,
     "metadata": {},
     "output_type": "execute_result"
    }
   ],
   "source": [
    "res_df.count()"
   ]
  },
  {
   "cell_type": "markdown",
   "id": "2a8fc436-c9c0-4862-acb9-bec5de155bb4",
   "metadata": {},
   "source": [
    "## 8) Find courses with the highest dropout rate."
   ]
  },
  {
   "cell_type": "code",
   "execution_count": 97,
   "id": "85ab6423-79c4-4442-afc7-2cd05419781c",
   "metadata": {},
   "outputs": [],
   "source": [
    "# spark syntax"
   ]
  },
  {
   "cell_type": "code",
   "execution_count": 89,
   "id": "a0da0bd5-638d-4372-a011-d8211909d802",
   "metadata": {},
   "outputs": [
    {
     "name": "stdout",
     "output_type": "stream",
     "text": [
      "+------------+\n",
      "|final_result|\n",
      "+------------+\n",
      "|        Fail|\n",
      "| Distinction|\n",
      "|   Withdrawn|\n",
      "|        Pass|\n",
      "+------------+\n",
      "\n"
     ]
    }
   ],
   "source": [
    "data_studentInfo.select(\"final_result\").distinct().show()"
   ]
  },
  {
   "cell_type": "code",
   "execution_count": 91,
   "id": "56078732-66df-4c96-b94c-baecbceaa231",
   "metadata": {},
   "outputs": [],
   "source": [
    "droupout_df = data_studentInfo.groupBy(\"code_module\", \"code_presentation\")\\\n",
    "        .agg((F.sum(F.when(F.col(\"final_result\") == 'Withdrawn', 1)) / F.count(\"id_student\") ).alias(\"dropout_rate\"))"
   ]
  },
  {
   "cell_type": "code",
   "execution_count": 93,
   "id": "d519294b-8fb6-436f-b1d2-3d9ae3150e30",
   "metadata": {},
   "outputs": [
    {
     "name": "stderr",
     "output_type": "stream",
     "text": [
      "[Stage 149:>                                                        (0 + 1) / 1]\r"
     ]
    },
    {
     "name": "stdout",
     "output_type": "stream",
     "text": [
      "+-----------+-----------------+-------------------+\n",
      "|code_module|code_presentation|       dropout_rate|\n",
      "+-----------+-----------------+-------------------+\n",
      "|        CCC|            2014B|0.46384297520661155|\n",
      "|        CCC|            2014J| 0.4311449159327462|\n",
      "|        DDD|            2014B| 0.3990228013029316|\n",
      "|        FFF|            2014J|0.36152219873150104|\n",
      "|        DDD|            2014J|0.35884636716583473|\n",
      "+-----------+-----------------+-------------------+\n",
      "only showing top 5 rows\n",
      "\n"
     ]
    },
    {
     "name": "stderr",
     "output_type": "stream",
     "text": [
      "                                                                                \r"
     ]
    }
   ],
   "source": [
    "droupout_df.orderBy(F.desc(\"dropout_rate\")).show(5)"
   ]
  },
  {
   "cell_type": "code",
   "execution_count": 98,
   "id": "4431d6ae-459e-474b-96dd-1294bb5bc595",
   "metadata": {},
   "outputs": [],
   "source": [
    "# sql syntax"
   ]
  },
  {
   "cell_type": "code",
   "execution_count": 96,
   "id": "010b51c8-4787-4145-a64c-37579aa549fe",
   "metadata": {},
   "outputs": [],
   "source": [
    "res_df = spark.sql(\n",
    "    \"\"\"\n",
    "    SELECT \n",
    "        code_module, code_presentation,\n",
    "        SUM(CASE WHEN final_result = 'Withdrawn' THEN 1 END)/COUNT(id_student) AS dropout_rate\n",
    "    FROM data_studentInfo \n",
    "    GROUP BY code_module, code_presentation\n",
    "    ORDER BY dropout_rate DESC\n",
    "    LIMIT 5\n",
    "    \"\"\")"
   ]
  },
  {
   "cell_type": "code",
   "execution_count": 99,
   "id": "3d8ff3ac-0ac4-4e3a-a75a-efc0db49cfdd",
   "metadata": {},
   "outputs": [
    {
     "name": "stdout",
     "output_type": "stream",
     "text": [
      "+-----------+-----------------+-------------------+\n",
      "|code_module|code_presentation|       dropout_rate|\n",
      "+-----------+-----------------+-------------------+\n",
      "|        CCC|            2014B|0.46384297520661155|\n",
      "|        CCC|            2014J| 0.4311449159327462|\n",
      "|        DDD|            2014B| 0.3990228013029316|\n",
      "|        FFF|            2014J|0.36152219873150104|\n",
      "|        DDD|            2014J|0.35884636716583473|\n",
      "+-----------+-----------------+-------------------+\n",
      "\n"
     ]
    }
   ],
   "source": [
    "res_df.show()"
   ]
  },
  {
   "cell_type": "markdown",
   "id": "e14193cc-48ac-4b58-94ef-281fbd2650d6",
   "metadata": {},
   "source": [
    "## 9) Calculate the number of interactions (clicks) per student."
   ]
  },
  {
   "cell_type": "code",
   "execution_count": 368,
   "id": "781bb67a-94a1-4972-9e73-394c49c8a127",
   "metadata": {},
   "outputs": [],
   "source": [
    "total_clicks = data_studentVle.groupBy(\"id_student\").agg(F.sum(\"sum_click\").alias(\"total_clicks\"))\\\n",
    "        .select(\"id_student\", \"total_clicks\")"
   ]
  },
  {
   "cell_type": "code",
   "execution_count": 371,
   "id": "b47a3c8a-fcca-4f9f-a14b-a017f04c3a59",
   "metadata": {},
   "outputs": [
    {
     "name": "stderr",
     "output_type": "stream",
     "text": [
      "[Stage 506:============================>                            (2 + 2) / 4]\r"
     ]
    },
    {
     "name": "stdout",
     "output_type": "stream",
     "text": [
      "+----------+------------+\n",
      "|id_student|total_clicks|\n",
      "+----------+------------+\n",
      "|     80868|       28615|\n",
      "|    630905|       28264|\n",
      "|    537811|       25159|\n",
      "|    619927|       24368|\n",
      "|    434476|       21204|\n",
      "|    517269|       21123|\n",
      "|    611417|       20391|\n",
      "|    622374|       19928|\n",
      "|    368315|       19734|\n",
      "|    607900|       19673|\n",
      "|    583487|       19461|\n",
      "|    644361|       19415|\n",
      "|    499813|       19199|\n",
      "|   2088765|       19196|\n",
      "|    898594|       19126|\n",
      "|    560431|       18039|\n",
      "|   2063578|       17957|\n",
      "|    298040|       17503|\n",
      "|    609229|       17482|\n",
      "|    617580|       17481|\n",
      "+----------+------------+\n",
      "only showing top 20 rows\n",
      "\n"
     ]
    },
    {
     "name": "stderr",
     "output_type": "stream",
     "text": [
      "                                                                                \r"
     ]
    }
   ],
   "source": [
    "total_clicks.orderBy(\"total_clicks\", ascending=False).show()"
   ]
  },
  {
   "cell_type": "code",
   "execution_count": 372,
   "id": "3502752a-7014-4f80-aba0-d99ad07219d4",
   "metadata": {},
   "outputs": [],
   "source": [
    "# sql syntax"
   ]
  },
  {
   "cell_type": "code",
   "execution_count": 374,
   "id": "42ac70a5-8c00-4e49-a455-114840405b25",
   "metadata": {},
   "outputs": [],
   "source": [
    "data_studentVle.createOrReplaceTempView(\"data_studentVle\")"
   ]
  },
  {
   "cell_type": "code",
   "execution_count": 379,
   "id": "4db98d27-19e9-475f-a441-dca07451385b",
   "metadata": {},
   "outputs": [],
   "source": [
    "res_df = spark.sql(\"\"\"\n",
    "    SELECT id_student, SUM(sum_click) as total_clicks\n",
    "    FROM data_studentVle\n",
    "    GROUP BY id_student\n",
    "    ORDER BY total_clicks ASC\n",
    "    \"\"\")"
   ]
  },
  {
   "cell_type": "code",
   "execution_count": 380,
   "id": "e1fb017e-8936-451a-8002-e79b4080375e",
   "metadata": {},
   "outputs": [
    {
     "name": "stderr",
     "output_type": "stream",
     "text": [
      "[Stage 512:==========================================>              (3 + 1) / 4]\r"
     ]
    },
    {
     "name": "stdout",
     "output_type": "stream",
     "text": [
      "+----------+------------+\n",
      "|id_student|total_clicks|\n",
      "+----------+------------+\n",
      "|    102849|           1|\n",
      "|    500031|           1|\n",
      "|    689107|           1|\n",
      "|    623319|           1|\n",
      "|    628053|           1|\n",
      "|    516447|           1|\n",
      "|    485782|           1|\n",
      "|    654888|           1|\n",
      "|    646455|           1|\n",
      "|    693934|           1|\n",
      "|    521666|           1|\n",
      "|    592124|           1|\n",
      "|    639232|           1|\n",
      "|    651831|           1|\n",
      "|    594208|           1|\n",
      "|    685841|           1|\n",
      "|    611852|           1|\n",
      "|    595877|           1|\n",
      "|    552640|           1|\n",
      "|    554766|           1|\n",
      "+----------+------------+\n",
      "only showing top 20 rows\n",
      "\n"
     ]
    },
    {
     "name": "stderr",
     "output_type": "stream",
     "text": [
      "                                                                                \r"
     ]
    }
   ],
   "source": [
    "res_df.show()"
   ]
  },
  {
   "cell_type": "markdown",
   "id": "f443c8ae-b42f-4c17-9658-58042fdf61b7",
   "metadata": {},
   "source": [
    "## 10) Find the median score per module."
   ]
  },
  {
   "cell_type": "code",
   "execution_count": 106,
   "id": "a9b9c4ae-3942-438a-b99f-fffc0bca986e",
   "metadata": {},
   "outputs": [],
   "source": [
    "# pyspark syntax"
   ]
  },
  {
   "cell_type": "code",
   "execution_count": 114,
   "id": "2ff2f586-3d48-4011-8760-264ce270577a",
   "metadata": {},
   "outputs": [],
   "source": [
    "median_module_scores = data_studentAssessment.join(data_assessments, on=[\"id_assessment\"])\\\n",
    "    .groupBy(\"code_module\")\\\n",
    "    .agg(F.median(\"score\").alias(\"med_score\"))"
   ]
  },
  {
   "cell_type": "code",
   "execution_count": 116,
   "id": "cb5b7981-61c7-476f-a933-76aa919fdf91",
   "metadata": {},
   "outputs": [
    {
     "name": "stderr",
     "output_type": "stream",
     "text": [
      "[Stage 164:============================>                            (1 + 1) / 2]\r"
     ]
    },
    {
     "name": "stdout",
     "output_type": "stream",
     "text": [
      "+-----------+---------+\n",
      "|code_module|med_score|\n",
      "+-----------+---------+\n",
      "|        EEE|     85.0|\n",
      "|        BBB|     80.0|\n",
      "|        FFF|     80.0|\n",
      "|        GGG|     80.0|\n",
      "|        CCC|     78.0|\n",
      "|        DDD|     74.0|\n",
      "|        AAA|     71.0|\n",
      "+-----------+---------+\n",
      "\n"
     ]
    },
    {
     "name": "stderr",
     "output_type": "stream",
     "text": [
      "                                                                                \r"
     ]
    }
   ],
   "source": [
    "median_module_scores.orderBy(F.desc(\"med_score\")).show()"
   ]
  },
  {
   "cell_type": "code",
   "execution_count": 107,
   "id": "e36aa6f2-03e2-42e4-82c1-adaf8f67f3a1",
   "metadata": {},
   "outputs": [],
   "source": [
    "# sql syntax"
   ]
  },
  {
   "cell_type": "code",
   "execution_count": 117,
   "id": "678d4eb0-a069-4556-a912-b2a27d2705e2",
   "metadata": {},
   "outputs": [],
   "source": [
    "res_df = spark.sql(\n",
    "    \"\"\"\n",
    "    SELECT code_module, MEDIAN(score) as med_score\n",
    "    FROM data_studentAssessment\n",
    "    JOIN data_assessments\n",
    "    USING (id_assessment)\n",
    "    GROUP BY code_module\n",
    "    ORDER BY med_score DESC\n",
    "    \"\"\")"
   ]
  },
  {
   "cell_type": "code",
   "execution_count": 118,
   "id": "257bf52c-ca06-4581-a976-770581609d26",
   "metadata": {},
   "outputs": [
    {
     "name": "stderr",
     "output_type": "stream",
     "text": [
      "[Stage 168:============================>                            (1 + 1) / 2]\r"
     ]
    },
    {
     "name": "stdout",
     "output_type": "stream",
     "text": [
      "+-----------+---------+\n",
      "|code_module|med_score|\n",
      "+-----------+---------+\n",
      "|        EEE|     85.0|\n",
      "|        BBB|     80.0|\n",
      "|        FFF|     80.0|\n",
      "|        GGG|     80.0|\n",
      "|        CCC|     78.0|\n",
      "|        DDD|     74.0|\n",
      "|        AAA|     71.0|\n",
      "+-----------+---------+\n",
      "\n"
     ]
    },
    {
     "name": "stderr",
     "output_type": "stream",
     "text": [
      "                                                                                \r"
     ]
    }
   ],
   "source": [
    "res_df.show()"
   ]
  },
  {
   "cell_type": "markdown",
   "id": "589f36fe-4d1b-41ce-8eb6-ff13e677a4b8",
   "metadata": {},
   "source": [
    "## 11) Calculate submission delay patterns."
   ]
  },
  {
   "cell_type": "code",
   "execution_count": 136,
   "id": "98dbbc27-1742-4a2d-983c-305fd7ecbf5e",
   "metadata": {},
   "outputs": [],
   "source": [
    "# both date_submitted in data_studentAssessment and \n",
    "# date in data_assessments are relative: the number of days \n",
    "#                                            since the start of the \n",
    "#                                            module-presentation"
   ]
  },
  {
   "cell_type": "code",
   "execution_count": 142,
   "id": "69b2e599-1c39-42ee-af88-ca9157d71277",
   "metadata": {},
   "outputs": [],
   "source": [
    "delay_submissions = data_studentAssessment.join(data_assessments, on=[\"id_assessment\"])\\\n",
    "    .withColumn(\"delay_days\", F.col(\"date\") - F.col(\"date_submitted\"))\\\n",
    "    .filter(F.col(\"delay_days\") < 0)"
   ]
  },
  {
   "cell_type": "code",
   "execution_count": 150,
   "id": "ce5919ed-91fa-4e51-bb81-4df7884f8ff8",
   "metadata": {},
   "outputs": [
    {
     "name": "stderr",
     "output_type": "stream",
     "text": [
      "[Stage 213:============================>                            (1 + 1) / 2]\r"
     ]
    },
    {
     "name": "stdout",
     "output_type": "stream",
     "text": [
      "+-----------+-------------------+\n",
      "|code_module|   avg_delay_delays|\n",
      "+-----------+-------------------+\n",
      "|        CCC|-37.929292157162514|\n",
      "|        BBB|  -4.67028613352898|\n",
      "|        DDD|-28.424370636767506|\n",
      "|        FFF| -9.091562883704613|\n",
      "|        EEE| -8.336221837088388|\n",
      "|        AAA|-7.8049079754601225|\n",
      "|        GGG| -8.507832898172325|\n",
      "+-----------+-------------------+\n",
      "\n"
     ]
    },
    {
     "name": "stderr",
     "output_type": "stream",
     "text": [
      "                                                                                \r"
     ]
    }
   ],
   "source": [
    "# average delay days per code_module\n",
    "delay_submissions.groupBy(\"code_module\").agg(F.mean(\"delay_days\").alias(\"avg_delay_delays\")).show()"
   ]
  },
  {
   "cell_type": "code",
   "execution_count": null,
   "id": "b29d6bad-f37c-4997-82b3-270814388c69",
   "metadata": {},
   "outputs": [],
   "source": []
  },
  {
   "cell_type": "markdown",
   "id": "6b1dfd0f-e8c4-4753-abf9-7e032439009e",
   "metadata": {},
   "source": [
    "## 12) Compare performance across age bands."
   ]
  },
  {
   "cell_type": "code",
   "execution_count": 119,
   "id": "7a479f26-047a-4bce-b630-ea577f1fc94c",
   "metadata": {},
   "outputs": [],
   "source": [
    "# find avergage scores per each age group"
   ]
  },
  {
   "cell_type": "code",
   "execution_count": 133,
   "id": "68339e42-1db5-4a21-a454-ac795ffb7633",
   "metadata": {},
   "outputs": [
    {
     "name": "stderr",
     "output_type": "stream",
     "text": [
      "[Stage 186:============================>                            (1 + 1) / 2]\r"
     ]
    },
    {
     "name": "stdout",
     "output_type": "stream",
     "text": [
      "+--------+-----------------+---------+------------------+\n",
      "|age_band|        avg_score|med_score|      stddev_score|\n",
      "+--------+-----------------+---------+------------------+\n",
      "|    0-35|74.55190257051278|     78.0| 19.11424095514945|\n",
      "|    55<=|79.57217165149545|     83.0| 17.35466631878093|\n",
      "|   35-55|77.25301108206502|     80.0|18.901193297000425|\n",
      "+--------+-----------------+---------+------------------+\n",
      "\n"
     ]
    },
    {
     "name": "stderr",
     "output_type": "stream",
     "text": [
      "                                                                                \r"
     ]
    }
   ],
   "source": [
    "data_studentInfo.join(data_studentAssessment, on=\"id_student\")\\\n",
    "    .groupBy(\"age_band\")\\\n",
    "    .agg(F.mean(\"score\").alias(\"avg_score\"), \n",
    "         F.median(\"score\").alias(\"med_score\"),\n",
    "         F.stddev(\"score\").alias(\"stddev_score\")).show()"
   ]
  },
  {
   "cell_type": "code",
   "execution_count": 124,
   "id": "fc4725f2-67a2-49db-9446-a5b21820b5fb",
   "metadata": {},
   "outputs": [],
   "source": [
    "# sql syntax"
   ]
  },
  {
   "cell_type": "code",
   "execution_count": 134,
   "id": "42f8c898-13e4-45dd-ad7b-8464b957f520",
   "metadata": {},
   "outputs": [],
   "source": [
    "res_df = spark.sql(\n",
    "    \"\"\"\n",
    "    SELECT age_band, AVG(score)\n",
    "    FROM data_studentInfo \n",
    "    JOIN data_studentAssessment\n",
    "    USING (id_student)\n",
    "    GROUP BY age_band\n",
    "    \"\"\"\n",
    ")"
   ]
  },
  {
   "cell_type": "code",
   "execution_count": 127,
   "id": "85e07879-4bb6-4f79-95fe-f95923a5e6bd",
   "metadata": {},
   "outputs": [
    {
     "name": "stderr",
     "output_type": "stream",
     "text": [
      "[Stage 179:============================>                            (1 + 1) / 2]\r"
     ]
    },
    {
     "name": "stdout",
     "output_type": "stream",
     "text": [
      "+--------+-----------------+\n",
      "|age_band|       avg(score)|\n",
      "+--------+-----------------+\n",
      "|    0-35|74.55190257051278|\n",
      "|    55<=|79.57217165149545|\n",
      "|   35-55|77.25301108206502|\n",
      "+--------+-----------------+\n",
      "\n"
     ]
    },
    {
     "name": "stderr",
     "output_type": "stream",
     "text": [
      "                                                                                \r"
     ]
    }
   ],
   "source": [
    "res_df.show()"
   ]
  },
  {
   "cell_type": "code",
   "execution_count": null,
   "id": "a5705e00-b884-44af-8eeb-238b3834d0af",
   "metadata": {},
   "outputs": [],
   "source": []
  },
  {
   "cell_type": "code",
   "execution_count": null,
   "id": "f411db3d-2b7a-40f5-9432-35f1178c9bc1",
   "metadata": {},
   "outputs": [],
   "source": []
  },
  {
   "cell_type": "markdown",
   "id": "52d151b2-3190-4684-9fb3-f657133fd165",
   "metadata": {},
   "source": [
    "# List differences between pyspark sql and sl syntax"
   ]
  },
  {
   "cell_type": "code",
   "execution_count": null,
   "id": "7b7b720c-2152-4810-9259-21c3bf8ea997",
   "metadata": {},
   "outputs": [],
   "source": []
  }
 ],
 "metadata": {
  "kernelspec": {
   "display_name": "spark_env",
   "language": "python",
   "name": "your_environment_name"
  },
  "language_info": {
   "codemirror_mode": {
    "name": "ipython",
    "version": 3
   },
   "file_extension": ".py",
   "mimetype": "text/x-python",
   "name": "python",
   "nbconvert_exporter": "python",
   "pygments_lexer": "ipython3",
   "version": "3.12.3"
  }
 },
 "nbformat": 4,
 "nbformat_minor": 5
}
