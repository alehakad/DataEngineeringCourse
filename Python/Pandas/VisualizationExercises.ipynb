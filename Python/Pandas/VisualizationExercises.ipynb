{
 "cells": [
  {
   "cell_type": "code",
   "execution_count": 2,
   "id": "ccb80442-177f-40d5-9220-609bf80f098e",
   "metadata": {},
   "outputs": [],
   "source": [
    "import pandas as pd\n",
    "import matplotlib.pyplot as plt\n",
    "import numpy as np"
   ]
  },
  {
   "cell_type": "markdown",
   "id": "f322e415-62b4-4492-a7b6-fb803a86884f",
   "metadata": {},
   "source": [
    "- ### Visualize the evolution of Bitcoin over the year 2019: Find a common way to plot this kind of data, and recreate it."
   ]
  },
  {
   "cell_type": "code",
   "execution_count": 1,
   "id": "12126c28-ca8b-4d6b-aaad-ea99d6111d9f",
   "metadata": {},
   "outputs": [],
   "source": [
    "# download bitcoin data"
   ]
  },
  {
   "cell_type": "code",
   "execution_count": 3,
   "id": "a8cefcda-b7ca-4978-9886-d4fee6cae1cc",
   "metadata": {},
   "outputs": [],
   "source": [
    "bitcoin_2019_df = pd.read_csv(\"BTC-2019min.csv\")"
   ]
  },
  {
   "cell_type": "code",
   "execution_count": 10,
   "id": "d1f188c3-93be-4e7c-b1d0-0f24ea21e98a",
   "metadata": {},
   "outputs": [
    {
     "data": {
      "text/html": [
       "<div>\n",
       "<style scoped>\n",
       "    .dataframe tbody tr th:only-of-type {\n",
       "        vertical-align: middle;\n",
       "    }\n",
       "\n",
       "    .dataframe tbody tr th {\n",
       "        vertical-align: top;\n",
       "    }\n",
       "\n",
       "    .dataframe thead th {\n",
       "        text-align: right;\n",
       "    }\n",
       "</style>\n",
       "<table border=\"1\" class=\"dataframe\">\n",
       "  <thead>\n",
       "    <tr style=\"text-align: right;\">\n",
       "      <th></th>\n",
       "      <th>unix</th>\n",
       "      <th>date</th>\n",
       "      <th>symbol</th>\n",
       "      <th>open</th>\n",
       "      <th>high</th>\n",
       "      <th>low</th>\n",
       "      <th>close</th>\n",
       "      <th>Volume BTC</th>\n",
       "      <th>Volume USD</th>\n",
       "    </tr>\n",
       "  </thead>\n",
       "  <tbody>\n",
       "    <tr>\n",
       "      <th>0</th>\n",
       "      <td>1577836740</td>\n",
       "      <td>2019-12-31 23:59:00</td>\n",
       "      <td>BTC/USD</td>\n",
       "      <td>7167.30</td>\n",
       "      <td>7171.22</td>\n",
       "      <td>7167.30</td>\n",
       "      <td>7168.36</td>\n",
       "      <td>0.191448</td>\n",
       "      <td>1372.366393</td>\n",
       "    </tr>\n",
       "    <tr>\n",
       "      <th>1</th>\n",
       "      <td>1577836680</td>\n",
       "      <td>2019-12-31 23:58:00</td>\n",
       "      <td>BTC/USD</td>\n",
       "      <td>7166.89</td>\n",
       "      <td>7167.30</td>\n",
       "      <td>7161.99</td>\n",
       "      <td>7167.30</td>\n",
       "      <td>0.568868</td>\n",
       "      <td>4077.245538</td>\n",
       "    </tr>\n",
       "    <tr>\n",
       "      <th>2</th>\n",
       "      <td>1577836620</td>\n",
       "      <td>2019-12-31 23:57:00</td>\n",
       "      <td>BTC/USD</td>\n",
       "      <td>7164.22</td>\n",
       "      <td>7170.80</td>\n",
       "      <td>7161.65</td>\n",
       "      <td>7166.89</td>\n",
       "      <td>3.959440</td>\n",
       "      <td>28376.874525</td>\n",
       "    </tr>\n",
       "    <tr>\n",
       "      <th>3</th>\n",
       "      <td>1577836560</td>\n",
       "      <td>2019-12-31 23:56:00</td>\n",
       "      <td>BTC/USD</td>\n",
       "      <td>7182.49</td>\n",
       "      <td>7182.49</td>\n",
       "      <td>7170.20</td>\n",
       "      <td>7170.20</td>\n",
       "      <td>6.248892</td>\n",
       "      <td>44805.802550</td>\n",
       "    </tr>\n",
       "    <tr>\n",
       "      <th>4</th>\n",
       "      <td>1577836500</td>\n",
       "      <td>2019-12-31 23:55:00</td>\n",
       "      <td>BTC/USD</td>\n",
       "      <td>7175.69</td>\n",
       "      <td>7176.68</td>\n",
       "      <td>7175.69</td>\n",
       "      <td>7176.68</td>\n",
       "      <td>0.016877</td>\n",
       "      <td>121.122623</td>\n",
       "    </tr>\n",
       "  </tbody>\n",
       "</table>\n",
       "</div>"
      ],
      "text/plain": [
       "         unix                 date   symbol     open     high      low  \\\n",
       "0  1577836740  2019-12-31 23:59:00  BTC/USD  7167.30  7171.22  7167.30   \n",
       "1  1577836680  2019-12-31 23:58:00  BTC/USD  7166.89  7167.30  7161.99   \n",
       "2  1577836620  2019-12-31 23:57:00  BTC/USD  7164.22  7170.80  7161.65   \n",
       "3  1577836560  2019-12-31 23:56:00  BTC/USD  7182.49  7182.49  7170.20   \n",
       "4  1577836500  2019-12-31 23:55:00  BTC/USD  7175.69  7176.68  7175.69   \n",
       "\n",
       "     close  Volume BTC    Volume USD  \n",
       "0  7168.36    0.191448   1372.366393  \n",
       "1  7167.30    0.568868   4077.245538  \n",
       "2  7166.89    3.959440  28376.874525  \n",
       "3  7170.20    6.248892  44805.802550  \n",
       "4  7176.68    0.016877    121.122623  "
      ]
     },
     "execution_count": 10,
     "metadata": {},
     "output_type": "execute_result"
    }
   ],
   "source": [
    "bitcoin_2019_df.head()"
   ]
  },
  {
   "cell_type": "code",
   "execution_count": 9,
   "id": "76a73761-d676-4cc2-8276-661e21df4609",
   "metadata": {},
   "outputs": [
    {
     "data": {
      "text/plain": [
       "unix            int64\n",
       "date           object\n",
       "symbol         object\n",
       "open          float64\n",
       "high          float64\n",
       "low           float64\n",
       "close         float64\n",
       "Volume BTC    float64\n",
       "Volume USD    float64\n",
       "dtype: object"
      ]
     },
     "execution_count": 9,
     "metadata": {},
     "output_type": "execute_result"
    }
   ],
   "source": [
    "bitcoin_2019_df.dtypes"
   ]
  },
  {
   "cell_type": "code",
   "execution_count": 13,
   "id": "a724db51-9e75-42d4-8ac1-a4627f387409",
   "metadata": {},
   "outputs": [],
   "source": [
    "# convert date to datetime\n",
    "bitcoin_2019_df['date'] = pd.to_datetime(bitcoin_2019_df['date'])"
   ]
  },
  {
   "cell_type": "code",
   "execution_count": 16,
   "id": "d5e3d253-7fe6-4148-b0ba-bcd4e1e42545",
   "metadata": {},
   "outputs": [
    {
     "data": {
      "text/html": [
       "<div>\n",
       "<style scoped>\n",
       "    .dataframe tbody tr th:only-of-type {\n",
       "        vertical-align: middle;\n",
       "    }\n",
       "\n",
       "    .dataframe tbody tr th {\n",
       "        vertical-align: top;\n",
       "    }\n",
       "\n",
       "    .dataframe thead th {\n",
       "        text-align: right;\n",
       "    }\n",
       "</style>\n",
       "<table border=\"1\" class=\"dataframe\">\n",
       "  <thead>\n",
       "    <tr style=\"text-align: right;\">\n",
       "      <th></th>\n",
       "      <th>unix</th>\n",
       "      <th>date</th>\n",
       "      <th>open</th>\n",
       "      <th>high</th>\n",
       "      <th>low</th>\n",
       "      <th>close</th>\n",
       "      <th>Volume BTC</th>\n",
       "      <th>Volume USD</th>\n",
       "    </tr>\n",
       "  </thead>\n",
       "  <tbody>\n",
       "    <tr>\n",
       "      <th>count</th>\n",
       "      <td>5.255990e+05</td>\n",
       "      <td>525599</td>\n",
       "      <td>525599.000000</td>\n",
       "      <td>525599.000000</td>\n",
       "      <td>525599.000000</td>\n",
       "      <td>525599.000000</td>\n",
       "      <td>525599.000000</td>\n",
       "      <td>5.255990e+05</td>\n",
       "    </tr>\n",
       "    <tr>\n",
       "      <th>mean</th>\n",
       "      <td>1.562069e+09</td>\n",
       "      <td>2019-07-02 11:59:59.999999488</td>\n",
       "      <td>7352.473001</td>\n",
       "      <td>7356.741980</td>\n",
       "      <td>7348.083072</td>\n",
       "      <td>7352.196526</td>\n",
       "      <td>5.693435</td>\n",
       "      <td>4.404477e+04</td>\n",
       "    </tr>\n",
       "    <tr>\n",
       "      <th>min</th>\n",
       "      <td>1.546301e+09</td>\n",
       "      <td>2019-01-01 00:01:00</td>\n",
       "      <td>3334.000000</td>\n",
       "      <td>3346.120000</td>\n",
       "      <td>3322.190000</td>\n",
       "      <td>3334.000000</td>\n",
       "      <td>0.000000</td>\n",
       "      <td>0.000000e+00</td>\n",
       "    </tr>\n",
       "    <tr>\n",
       "      <th>25%</th>\n",
       "      <td>1.554185e+09</td>\n",
       "      <td>2019-04-02 06:00:30</td>\n",
       "      <td>4696.460000</td>\n",
       "      <td>4701.495000</td>\n",
       "      <td>4690.500000</td>\n",
       "      <td>4696.875000</td>\n",
       "      <td>0.198557</td>\n",
       "      <td>1.369119e+03</td>\n",
       "    </tr>\n",
       "    <tr>\n",
       "      <th>50%</th>\n",
       "      <td>1.562069e+09</td>\n",
       "      <td>2019-07-02 12:00:00</td>\n",
       "      <td>7823.560000</td>\n",
       "      <td>7830.000000</td>\n",
       "      <td>7816.970000</td>\n",
       "      <td>7823.110000</td>\n",
       "      <td>1.234636</td>\n",
       "      <td>8.328121e+03</td>\n",
       "    </tr>\n",
       "    <tr>\n",
       "      <th>75%</th>\n",
       "      <td>1.569953e+09</td>\n",
       "      <td>2019-10-01 17:59:30</td>\n",
       "      <td>9570.310000</td>\n",
       "      <td>9576.595000</td>\n",
       "      <td>9562.610000</td>\n",
       "      <td>9569.065000</td>\n",
       "      <td>5.089315</td>\n",
       "      <td>3.514645e+04</td>\n",
       "    </tr>\n",
       "    <tr>\n",
       "      <th>max</th>\n",
       "      <td>1.577837e+09</td>\n",
       "      <td>2019-12-31 23:59:00</td>\n",
       "      <td>13853.250000</td>\n",
       "      <td>13880.000000</td>\n",
       "      <td>13830.060000</td>\n",
       "      <td>13850.570000</td>\n",
       "      <td>862.230064</td>\n",
       "      <td>7.719620e+06</td>\n",
       "    </tr>\n",
       "    <tr>\n",
       "      <th>std</th>\n",
       "      <td>9.103650e+06</td>\n",
       "      <td>NaN</td>\n",
       "      <td>2646.660663</td>\n",
       "      <td>2649.205786</td>\n",
       "      <td>2643.894545</td>\n",
       "      <td>2646.383716</td>\n",
       "      <td>15.542761</td>\n",
       "      <td>1.322508e+05</td>\n",
       "    </tr>\n",
       "  </tbody>\n",
       "</table>\n",
       "</div>"
      ],
      "text/plain": [
       "               unix                           date           open  \\\n",
       "count  5.255990e+05                         525599  525599.000000   \n",
       "mean   1.562069e+09  2019-07-02 11:59:59.999999488    7352.473001   \n",
       "min    1.546301e+09            2019-01-01 00:01:00    3334.000000   \n",
       "25%    1.554185e+09            2019-04-02 06:00:30    4696.460000   \n",
       "50%    1.562069e+09            2019-07-02 12:00:00    7823.560000   \n",
       "75%    1.569953e+09            2019-10-01 17:59:30    9570.310000   \n",
       "max    1.577837e+09            2019-12-31 23:59:00   13853.250000   \n",
       "std    9.103650e+06                            NaN    2646.660663   \n",
       "\n",
       "                high            low          close     Volume BTC  \\\n",
       "count  525599.000000  525599.000000  525599.000000  525599.000000   \n",
       "mean     7356.741980    7348.083072    7352.196526       5.693435   \n",
       "min      3346.120000    3322.190000    3334.000000       0.000000   \n",
       "25%      4701.495000    4690.500000    4696.875000       0.198557   \n",
       "50%      7830.000000    7816.970000    7823.110000       1.234636   \n",
       "75%      9576.595000    9562.610000    9569.065000       5.089315   \n",
       "max     13880.000000   13830.060000   13850.570000     862.230064   \n",
       "std      2649.205786    2643.894545    2646.383716      15.542761   \n",
       "\n",
       "         Volume USD  \n",
       "count  5.255990e+05  \n",
       "mean   4.404477e+04  \n",
       "min    0.000000e+00  \n",
       "25%    1.369119e+03  \n",
       "50%    8.328121e+03  \n",
       "75%    3.514645e+04  \n",
       "max    7.719620e+06  \n",
       "std    1.322508e+05  "
      ]
     },
     "execution_count": 16,
     "metadata": {},
     "output_type": "execute_result"
    }
   ],
   "source": [
    "bitcoin_2019_df.describe()"
   ]
  },
  {
   "cell_type": "code",
   "execution_count": 33,
   "id": "e846d25d-f1f8-469d-bb69-f89135e3ef03",
   "metadata": {},
   "outputs": [],
   "source": [
    "# line plot of open price per minute"
   ]
  },
  {
   "cell_type": "code",
   "execution_count": 68,
   "id": "f7e0aa9e-972a-434c-abf0-42174967b1d1",
   "metadata": {},
   "outputs": [
    {
     "data": {
      "image/png": "[encoded data removed]",
      "text/plain": [
       "<Figure size 1000x600 with 1 Axes>"
      ]
     },
     "metadata": {},
     "output_type": "display_data"
    }
   ],
   "source": [
    "plt.figure(figsize=(10, 6))\n",
    "\n",
    "# Plot Open Price with improved styling\n",
    "plt.plot(bitcoin_2019_df['date'], bitcoin_2019_df['open'], \n",
    "         label=\"Open Price\", \n",
    "         color='blue', \n",
    "         linewidth=2, \n",
    "         linestyle='-', \n",
    "         alpha=0.7)\n",
    "# Title with larger font\n",
    "plt.title(\"Bitcoin Price for 2019\", fontsize=16, fontweight='bold', color='blue')\n",
    "\n",
    "# Labels with custom fonts\n",
    "plt.xlabel(\"Time\", fontsize=12, color='darkred')\n",
    "plt.ylabel(\"Price (USD)\", fontsize=12, color='darkred')\n",
    "\n",
    "# Grid for better readability\n",
    "plt.grid(True, linestyle='--', alpha=0.5)\n",
    "\n",
    "# Improve the appearance of the legend\n",
    "plt.legend(loc='upper left', fontsize=10, frameon=False, title=\"Price Type\", title_fontsize=12)\n",
    "\n",
    "# Rotate date labels for better readability\n",
    "plt.xticks(rotation=45, ha='right')\n",
    "\n",
    "# Add tight layout for proper spacing\n",
    "plt.tight_layout()\n",
    "\n",
    "# Show the plot\n",
    "plt.show()"
   ]
  },
  {
   "cell_type": "code",
   "execution_count": 35,
   "id": "e3d458b0-4b0a-4f8d-83d0-850d9eefe325",
   "metadata": {},
   "outputs": [],
   "source": [
    "# calculate daily open and close and plot candlestick"
   ]
  },
  {
   "cell_type": "code",
   "execution_count": 53,
   "id": "9e059a59-3b37-4dfa-8c21-2582a4592d68",
   "metadata": {},
   "outputs": [],
   "source": [
    "# make date index\n",
    "bitcoin_2019_dated = bitcoin_2019_df.set_index('date')\n",
    "# convert to numeric types\n",
    "bitcoin_2019_dated = bitcoin_2019_dated.apply(pd.to_numeric, errors='coerce')"
   ]
  },
  {
   "cell_type": "code",
   "execution_count": 61,
   "id": "53dc2d5c-7408-426f-b7d5-07de79d534e3",
   "metadata": {},
   "outputs": [],
   "source": [
    "bitcoin_daily = bitcoin_2019_dated.resample('D').agg({\n",
    "    'open': 'first',    # First open price of the day\n",
    "    'high': 'max',      # Maximum high price of the day\n",
    "    'low': 'min',       # Minimum low price of the day\n",
    "    'close': 'last'     # Last close price of the day\n",
    "})"
   ]
  },
  {
   "cell_type": "code",
   "execution_count": 62,
   "id": "2aa000f6-8b43-4c72-b03d-aea79231dec3",
   "metadata": {},
   "outputs": [
    {
     "data": {
      "application/vnd.plotly.v1+json": {
       "config": {
        "plotlyServerURL": "https://plot.ly"
       },
       "data": [
        {
         "close": [
          3823.44,
          3885.87,
          3787.81,
          3817.71,
          3791.84,
          4040.71,
          4005.45,
          3994.9,
          4005.15,
          3627.51,
          3632.02,
          3617.13,
          3515.95,
          3664.28,
          3576.93,
          3605.91,
          3638.01,
          3609.21,
          3681,
          3536.72,
          3531.51,
          3576.81,
          3552.32,
          3570.73,
          3560,
          3555.56,
          3533.23,
          3429.5,
          3390.5,
          3437.35,
          3413.11,
          3434.83,
          3462.82,
          3414.82,
          3410.87,
          3431.39,
          3364.62,
          3359.33,
          3622.94,
          3622.62,
          3650.37,
          3588.7,
          3585.94,
          3574.93,
          3560.46,
          3566.29,
          3579.92,
          3625.6,
          3869.8,
          3888.46,
          3936.53,
          3900.4,
          3939.82,
          4113.53,
          3730.68,
          3820.71,
          3795.06,
          3798.47,
          3791.36,
          3807.05,
          3810.46,
          3789.52,
          3698.66,
          3844.07,
          3851.55,
          3856.64,
          3844.64,
          3916.43,
          3897.92,
          3849.25,
          3859.74,
          3848.48,
          3854.77,
          3901.21,
          3990,
          3965.5,
          3969.59,
          3998.13,
          4031.59,
          3974.21,
          3982.07,
          3982.52,
          3969.99,
          3910.51,
          3922.58,
          4025.5,
          4012.23,
          4090,
          4094.92,
          4096.08,
          4136.32,
          4899.63,
          4978.23,
          4907.94,
          5039.73,
          5041.39,
          5190.85,
          5287.88,
          5192.6,
          5323.47,
          5040.2,
          5076.35,
          5063.63,
          5162.72,
          5027.31,
          5202.43,
          5233.72,
          5281.58,
          5289.91,
          5318.89,
          5295.65,
          5386.8,
          5531.32,
          5440.95,
          5132.55,
          5155.19,
          5168.91,
          5160.98,
          5149.11,
          5269,
          5318.42,
          5385,
          5658.22,
          5764.65,
          5709.32,
          5685.46,
          5751.54,
          5940.89,
          6156.7,
          6342.84,
          7217.47,
          6974.35,
          7810.05,
          7986,
          8208.69,
          7880,
          7351.71,
          7260.12,
          8200,
          8005.64,
          7955.16,
          7624.95,
          7880.22,
          7999.02,
          8064.64,
          8733.26,
          8770.73,
          8717.96,
          8663.41,
          8277.76,
          8547.2,
          8556.27,
          8734.49,
          8103.64,
          7665.53,
          7785.94,
          7806.07,
          8001.25,
          7932.27,
          7632.99,
          8021.1,
          7919.1,
          8176.27,
          8238,
          8697.54,
          8857.19,
          8974.19,
          9333.48,
          9078.84,
          9278.27,
          9534.99,
          10222.12,
          10661.3,
          10831.95,
          11029.63,
          11751.01,
          12920.54,
          11153.74,
          12354.43,
          11858.62,
          10760.1,
          10577.43,
          10828.9,
          11967.43,
          11146.34,
          10997.84,
          11240,
          11469.96,
          12286.14,
          12567.23,
          12098.95,
          11349.24,
          11808.91,
          11378.79,
          10191.87,
          10850,
          9412.81,
          9699.35,
          10648.6,
          10535.43,
          10750.11,
          10600.24,
          10328.83,
          9847.02,
          9763.67,
          9883.96,
          9846.94,
          9481.37,
          9533.19,
          9495.39,
          9593.62,
          10085.34,
          10407.71,
          10529.51,
          10821.52,
          10986.96,
          11800,
          11470,
          11971.57,
          11983.43,
          11859.32,
          11273.2,
          11528.73,
          11385.11,
          10862.28,
          10022.99,
          10301.44,
          10354.34,
          10210.89,
          10318.99,
          10927.3,
          10772.22,
          10134.75,
          10112.01,
          10401.6,
          10149.7,
          10136.75,
          10360.97,
          10167.29,
          9711.78,
          9490,
          9579.75,
          9594.15,
          9767.53,
          10384.48,
          10617.61,
          10586.26,
          10573.66,
          10311.09,
          10484.39,
          10400.18,
          10307.45,
          10096,
          10154.46,
          10420.34,
          10368.65,
          10355.37,
          10305.74,
          10269.98,
          10195.73,
          10152.09,
          10271.53,
          10169.02,
          9985.28,
          10020.58,
          9682.19,
          8536.82,
          8432.16,
          8055.03,
          8187.72,
          8218.07,
          8047.6,
          8298.45,
          8319.01,
          8373.42,
          8239.92,
          8152.07,
          8145.17,
          7854.12,
          8205.53,
          8178.54,
          8586.34,
          8582.11,
          8265.55,
          8303.43,
          8282.96,
          8362.99,
          8155.13,
          7995.89,
          8073.32,
          7955.08,
          7960.49,
          8235.74,
          8213.65,
          8025.9,
          7470.77,
          7435,
          8662.66,
          9252.75,
          9557.08,
          9216.44,
          9426.94,
          9159.94,
          9150.07,
          9250.45,
          9304.75,
          9207,
          9410.76,
          9320.14,
          9344.78,
          9199.36,
          8767.37,
          8812.21,
          9024.49,
          8720.36,
          8813.91,
          8755.24,
          8636.9,
          8463.49,
          8484.63,
          8499.31,
          8170.65,
          8121.63,
          8088.44,
          7611.51,
          7285.85,
          7320.39,
          6908.36,
          7122.14,
          7159.22,
          7527.84,
          7436.72,
          7753.69,
          7550.67,
          7412.66,
          7309.64,
          7300.43,
          7197.78,
          7390.42,
          7541.79,
          7502.65,
          7524.26,
          7340.52,
          7216.07,
          7207.42,
          7188.42,
          7257.47,
          7059.03,
          7115.08,
          6882.19,
          6612.3,
          7286.91,
          7149.57,
          7194.11,
          7147.4,
          7509.7,
          7316.17,
          7251.52,
          7195.79,
          7188.3,
          7246,
          7296.24,
          7385.54,
          7220.24,
          7168.36
         ],
         "high": [
          3845.46,
          3918.67,
          3893.4,
          3850.33,
          3887.09,
          4090,
          4070,
          4112,
          4060,
          4036.22,
          3704.6,
          3650.35,
          3654.02,
          3714,
          3687.02,
          3669,
          3660,
          3641.9,
          3774,
          3703.27,
          3573.29,
          3615.8,
          3620.23,
          3598,
          3578.79,
          3657.89,
          3564.12,
          3536.77,
          3438.76,
          3465.05,
          3474.2,
          3460,
          3485,
          3476.33,
          3439.46,
          3435,
          3445.6,
          3383.29,
          3711.04,
          3639.74,
          3662.43,
          3652.56,
          3619.93,
          3629.81,
          3590.74,
          3620.53,
          3609,
          3663.34,
          3916.47,
          4000,
          3967.52,
          3989.99,
          3957,
          4157.87,
          4190,
          3861.81,
          3830,
          3822.85,
          3897.62,
          3845.3,
          3818.75,
          3822.39,
          3806.9,
          3877.1,
          3895.12,
          3891.04,
          3924.37,
          3950.25,
          3916.43,
          3912.89,
          3877.69,
          3874.68,
          3903.98,
          3912.06,
          4040,
          3992.42,
          4016.63,
          4012.63,
          4050,
          4055.35,
          4000.81,
          4001.17,
          3980.97,
          3980.22,
          3936.36,
          4037.11,
          4025.56,
          4102.57,
          4130.36,
          4101.7,
          4150,
          5080,
          5345,
          5077.35,
          5067.62,
          5240,
          5253.49,
          5347.37,
          5288.95,
          5466.06,
          5344.31,
          5122.48,
          5122.01,
          5185.26,
          5192.01,
          5231.96,
          5275.07,
          5325,
          5357.96,
          5362.97,
          5346.91,
          5439.12,
          5627,
          5623.3,
          5510,
          5291.48,
          5218.31,
          5213.23,
          5191.96,
          5287.4,
          5357.96,
          5422.94,
          5796.56,
          5846.13,
          5782.55,
          5755.79,
          5970,
          5986,
          6172,
          6426.8,
          7445,
          7585,
          8167.5,
          8335.56,
          8300,
          8390.95,
          7942.09,
          7493.85,
          8299.99,
          8199.97,
          8117.48,
          8049.22,
          7980,
          8188.87,
          8158.45,
          8802.29,
          8939.18,
          8817.41,
          8762.39,
          9096.79,
          8589.99,
          8624.72,
          8833.97,
          8745.96,
          8103.63,
          7924.48,
          7878.62,
          8134.99,
          8061.12,
          7966.58,
          8090,
          8057.32,
          8266,
          8335.56,
          8737.37,
          8911.98,
          9391.85,
          9477.7,
          9361.87,
          9325.85,
          9600,
          10229.49,
          11200,
          11247.62,
          11099,
          11796.37,
          13880,
          13355.61,
          12447.46,
          12386.76,
          12200.06,
          11200.41,
          10942.63,
          12009,
          12061.04,
          11440,
          11735,
          11627,
          12398,
          12883.48,
          13200,
          12104.97,
          11942.39,
          11846.61,
          11467.3,
          11080.37,
          11042.11,
          9993,
          10797,
          10776.99,
          11120,
          10839.09,
          10686.89,
          10327.33,
          9911.5,
          10187,
          9897.46,
          10235,
          9634.5,
          9725.17,
          9775,
          10143.2,
          10499,
          10670,
          10919,
          11085.99,
          11959.36,
          12325,
          12145.42,
          12061.1,
          12040,
          11976.68,
          11589.73,
          11551.57,
          11446.94,
          10862.25,
          10444.66,
          10540,
          10472.93,
          10515,
          10940,
          10955.48,
          10807.54,
          10238.29,
          10479,
          10432,
          10355.89,
          10650,
          10375.53,
          10280.71,
          9720.2,
          9700,
          9682.73,
          9832,
          10471,
          10783,
          10834.15,
          10664.13,
          10949,
          10580,
          10594.88,
          10542.93,
          10390.09,
          10243.01,
          10465,
          10458.13,
          10441.47,
          10383.2,
          10378.07,
          10280.53,
          10263.65,
          10380.07,
          10308.04,
          10180.43,
          10093.24,
          10048.06,
          9782,
          8746.83,
          8467.89,
          8294.04,
          8356.4,
          8244.07,
          8368.5,
          8531.25,
          8393.39,
          8419.23,
          8244.93,
          8195,
          8176.46,
          8313.7,
          8344.12,
          8707.8,
          8666.84,
          8820,
          8427.76,
          8474.48,
          8416.67,
          8420.85,
          8179.1,
          8130.71,
          8120.77,
          8096.76,
          8314.77,
          8352,
          8314.77,
          8052.04,
          7512,
          8784.29,
          10350,
          9819.92,
          9950,
          9573.35,
          9437.06,
          9438.61,
          9303.53,
          9396.91,
          9384.32,
          9586.5,
          9485,
          9448.19,
          9373.48,
          9253.39,
          8876.94,
          9142.33,
          9075.32,
          8872.47,
          8839.46,
          8791.78,
          8799.03,
          8539.53,
          8631.6,
          8508.4,
          8197.77,
          8231.04,
          8116.92,
          7714.7,
          7356.49,
          7349.68,
          7380,
          7344.91,
          7676.27,
          7659.92,
          7870.35,
          7815,
          7560.2,
          7431.07,
          7415,
          7772.71,
          7500,
          7618.99,
          7638.88,
          7580,
          7666,
          7400,
          7271,
          7296.19,
          7302.35,
          7269,
          7225.23,
          7147.91,
          6938.77,
          7449.68,
          7372.12,
          7218.11,
          7194.13,
          7530,
          7692.98,
          7431.1,
          7266.81,
          7432,
          7255.37,
          7349.65,
          7524.46,
          7384.9,
          7302.35
         ],
         "low": [
          3629.66,
          3770,
          3760,
          3732.38,
          3780,
          3753,
          3964.01,
          3934.73,
          3948.44,
          3503.44,
          3569.85,
          3557.09,
          3476,
          3506,
          3534.68,
          3570.48,
          3534.25,
          3577,
          3602.6,
          3470,
          3485.58,
          3401.36,
          3518,
          3524,
          3511,
          3536.51,
          3456,
          3357.3,
          3322.19,
          3372.34,
          3392.6,
          3364.53,
          3406.38,
          3384.67,
          3394.85,
          3396,
          3328.7,
          3350,
          3337.91,
          3589.52,
          3576.16,
          3578.7,
          3548.28,
          3541,
          3531.01,
          3544.88,
          3561.96,
          3553.98,
          3614.82,
          3840.08,
          3861.49,
          3866.25,
          3882.59,
          3905.63,
          3714.42,
          3732.6,
          3760.09,
          3658.19,
          3755,
          3789.5,
          3760,
          3756,
          3670,
          3690,
          3808.8,
          3826.13,
          3760.1,
          3835.66,
          3862,
          3812.64,
          3791.07,
          3820,
          3775.01,
          3843.09,
          3899.12,
          3927.28,
          3929.83,
          3947.15,
          3962.6,
          3919.63,
          3958.94,
          3957.11,
          3942.04,
          3850.45,
          3879.5,
          3912.19,
          3992.6,
          4005,
          4040,
          4074.29,
          4052.56,
          4130.64,
          4800.5,
          4778.59,
          4883.83,
          4900,
          5028.3,
          5127.68,
          5136.01,
          5161,
          4966.87,
          4912,
          5033.73,
          5012.73,
          4948.57,
          5014.77,
          5170.01,
          5218.23,
          5180.37,
          5253.82,
          5212.8,
          5249,
          5363.24,
          5372,
          4991.42,
          5046.31,
          5113,
          5099,
          5071.58,
          5127.05,
          5263.03,
          5304.99,
          5363.1,
          5510,
          5624.25,
          5562.44,
          5686.88,
          5658.66,
          5932.83,
          6105,
          6338.93,
          6762.57,
          6863.75,
          7618.99,
          7838,
          7654.93,
          6178,
          7205.57,
          7247.86,
          7581.03,
          7676.27,
          7505.69,
          7468.31,
          7795.95,
          7939.76,
          7888.91,
          8653.68,
          8540.94,
          8421.12,
          8000,
          8109.74,
          8457.33,
          8546.01,
          8049.22,
          7432.84,
          7570.9,
          7449.68,
          7758.93,
          7777.67,
          7511.41,
          7523.16,
          7713.34,
          7821.73,
          8049.22,
          8174.92,
          8623.52,
          8805,
          8973.02,
          8918,
          9036.19,
          9211.08,
          9534.97,
          10085.5,
          10483.33,
          10551.51,
          11000.02,
          11647.07,
          10300,
          10739.1,
          11317.03,
          10651.3,
          9950,
          9614.08,
          10830.1,
          11052.74,
          10769.15,
          10982.89,
          11083.76,
          11332.19,
          12030.43,
          11550,
          10966.81,
          11083.52,
          10810,
          10090,
          9855,
          9366,
          9049.54,
          9280.33,
          10102.58,
          10359.17,
          10325,
          10052.25,
          9801.88,
          9514.96,
          9734.19,
          9650,
          9299,
          9111,
          9360,
          9373.48,
          9574.09,
          9878.09,
          10318.47,
          10502.8,
          10564.96,
          10986.55,
          11200,
          11388.01,
          11450.93,
          11650,
          11200,
          11080.37,
          11194.04,
          10738.58,
          9888.57,
          9467.57,
          9736.96,
          9974.51,
          10065.41,
          10267.56,
          10549.74,
          9853.45,
          9755.53,
          10051,
          9885.48,
          9907.86,
          10136.75,
          10019.1,
          9555,
          9320,
          9350.1,
          9443.19,
          9538.75,
          9753.24,
          10286,
          10378.7,
          10461.97,
          10204.18,
          10297.58,
          10229.49,
          10060,
          9910,
          9855.11,
          10027.52,
          10153.87,
          10217.01,
          10258.49,
          10060.95,
          10130.59,
          10080,
          9600,
          10055,
          9913.35,
          9842.35,
          9606,
          7998,
          8216,
          7733.99,
          7866,
          8009.84,
          7902.66,
          7714.7,
          8195.42,
          8170.91,
          8029.14,
          7986.65,
          8016.26,
          7772.71,
          7763.54,
          8109.74,
          8110,
          8450.61,
          8222.88,
          8254.68,
          8132.91,
          8215.41,
          8086,
          7912.66,
          7936.71,
          7811.62,
          7875,
          7874.68,
          8156,
          7989.15,
          7293.55,
          7356,
          7393.14,
          8642.46,
          9092.66,
          9177.84,
          9051.48,
          8985.25,
          8961.53,
          9054.6,
          9201.19,
          9067,
          9122.33,
          9165.2,
          9254.68,
          9080,
          8661,
          8720,
          8750.85,
          8593,
          8549,
          8700,
          8555,
          8363,
          8423,
          8375,
          8010.7,
          7989.15,
          8027.28,
          7394.09,
          6785,
          7102.16,
          6861.96,
          6515,
          7018.78,
          6847.72,
          7372.19,
          7411.17,
          7452.08,
          7233.87,
          7140.08,
          7238.04,
          7087.09,
          7150.06,
          7305.56,
          7486.7,
          7382.69,
          7268.03,
          7150.23,
          7122.28,
          7072.2,
          7179.65,
          7007.48,
          7007,
          6820,
          6550,
          6425,
          7000,
          7072.61,
          7109.73,
          7124.52,
          7247.86,
          7156,
          7110.73,
          7150,
          7052,
          7231,
          7274.43,
          7199,
          7112.55
         ],
         "open": [
          3694.72,
          3825.41,
          3890.27,
          3785.64,
          3822,
          3795.38,
          4040.71,
          4005,
          3994.75,
          4003.09,
          3627.65,
          3631,
          3617.75,
          3517.03,
          3664.28,
          3576.92,
          3609.5,
          3638.01,
          3609.29,
          3680,
          3537.42,
          3531.51,
          3574.44,
          3553.2,
          3570.67,
          3560.94,
          3555.31,
          3532.23,
          3431.43,
          3391.25,
          3438,
          3413.69,
          3434.83,
          3470.5,
          3413.75,
          3409.81,
          3431.81,
          3364,
          3358.39,
          3626.12,
          3622.74,
          3651.32,
          3588.99,
          3585.7,
          3575.01,
          3560.45,
          3566.29,
          3580.43,
          3625.6,
          3870.97,
          3889.92,
          3936.8,
          3900.64,
          3939.83,
          4113.56,
          3733.78,
          3817.93,
          3794.42,
          3796.49,
          3791.02,
          3805,
          3810.47,
          3789.7,
          3698.65,
          3844.07,
          3851.26,
          3856.64,
          3841.27,
          3916.42,
          3898.14,
          3848.86,
          3861.37,
          3848.1,
          3857.33,
          3899.19,
          3990,
          3965.63,
          3969.94,
          3999.5,
          4033.7,
          3974.5,
          3980.4,
          3979.19,
          3970.23,
          3910,
          3922.58,
          4025.5,
          4011,
          4090,
          4094.92,
          4092.02,
          4133.93,
          4899.01,
          4972.83,
          4911.14,
          5041,
          5041.92,
          5192.92,
          5287.97,
          5184.03,
          5323.47,
          5037.82,
          5075.74,
          5064,
          5160.54,
          5027.33,
          5201.47,
          5227.6,
          5283,
          5289.91,
          5318.94,
          5295.96,
          5388.22,
          5531.29,
          5440.95,
          5132.5,
          5154.11,
          5171.51,
          5152.98,
          5150.21,
          5267.86,
          5322.28,
          5385,
          5659.82,
          5766.46,
          5714.4,
          5686.88,
          5751.54,
          5945.32,
          6151.66,
          6338.93,
          7214.4,
          6968.84,
          7810.72,
          7991.72,
          8203.97,
          7879.28,
          7352.39,
          7257.82,
          8193.45,
          8007.67,
          7949.18,
          7622.9,
          7880.4,
          7999.02,
          8066.15,
          8733.27,
          8774.45,
          8715.35,
          8663.07,
          8277.76,
          8545.8,
          8560.1,
          8735.84,
          8103.63,
          7673.41,
          7784.62,
          7801.97,
          8002.68,
          7933.17,
          7629.98,
          8017.99,
          7915.7,
          8171.12,
          8235.44,
          8694.74,
          8857.19,
          8973.02,
          9333.48,
          9076.51,
          9280.17,
          9534.99,
          10222.13,
          10665.66,
          10827.23,
          11030,
          11760,
          12927.44,
          11153.73,
          12354.45,
          11867.35,
          10759.24,
          10581.78,
          10830.1,
          11970,
          11144.82,
          10996.82,
          11233.21,
          11478.43,
          12299.94,
          12574.88,
          12101.44,
          11352.74,
          11811.08,
          11382.03,
          10191.87,
          10848.27,
          9427.45,
          9712.15,
          10638.44,
          10533.71,
          10757.15,
          10605.03,
          10315.87,
          9841.42,
          9781.52,
          9886.08,
          9846.94,
          9467.84,
          9538.73,
          9508.21,
          9592.26,
          10096.01,
          10416.79,
          10529.51,
          10812.58,
          10986.55,
          11800,
          11471.58,
          11973.46,
          11985.6,
          11859.32,
          11273.03,
          11527.44,
          11380.61,
          10862.25,
          10022.5,
          10294.9,
          10351.18,
          10221.94,
          10318.99,
          10927.3,
          10778.75,
          10123.56,
          10112.45,
          10401.87,
          10149.38,
          10136.75,
          10355.11,
          10171.39,
          9720.2,
          9490.56,
          9569.3,
          9593.5,
          9767.56,
          10384.07,
          10617.72,
          10586.26,
          10573.04,
          10309.04,
          10497.57,
          10387.33,
          10317.62,
          10093.39,
          10163.81,
          10423.99,
          10365.81,
          10362.52,
          10305.74,
          10257.2,
          10182.96,
          10161.59,
          10284.72,
          10169.02,
          9973,
          10022.38,
          9685.69,
          8536.71,
          8443.44,
          8055.25,
          8199.96,
          8218.07,
          8060.13,
          8304.47,
          8326.41,
          8377.68,
          8243.39,
          8157.89,
          8150.73,
          7863.75,
          8211.04,
          8185.85,
          8586.57,
          8589.08,
          8265.16,
          8303.43,
          8278.39,
          8353.33,
          8162.45,
          7995.73,
          8069.26,
          7950.48,
          7965.39,
          8236.49,
          8206.53,
          8021.57,
          7470.77,
          7427,
          8677.09,
          9262.72,
          9547.32,
          9216.39,
          9426.94,
          9169.55,
          9158.08,
          9250.7,
          9304.75,
          9207,
          9410.76,
          9319.1,
          9346.02,
          9209.3,
          8760.38,
          8806.85,
          9029.88,
          8720.36,
          8817,
          8765.53,
          8632.07,
          8459.38,
          8485.61,
          8499.53,
          8176.9,
          8124.08,
          8085.54,
          7612.23,
          7276.21,
          7330.98,
          6900.9,
          7127.12,
          7168.74,
          7517.82,
          7429.32,
          7753.69,
          7560.2,
          7411.75,
          7317.94,
          7299.2,
          7199.58,
          7397.35,
          7535.46,
          7505.86,
          7516.8,
          7332.05,
          7224.5,
          7208.95,
          7185.15,
          7255.94,
          7066.35,
          7115.08,
          6882.08,
          6619.53,
          7286.91,
          7157.53,
          7194.13,
          7147.4,
          7521.88,
          7317.47,
          7247.45,
          7195.8,
          7195.17,
          7247.7,
          7297.43,
          7372.79,
          7222.74
         ],
         "type": "candlestick",
         "x": [
          "2019-01-01T00:00:00",
          "2019-01-02T00:00:00",
          "2019-01-03T00:00:00",
          "2019-01-04T00:00:00",
          "2019-01-05T00:00:00",
          "2019-01-06T00:00:00",
          "2019-01-07T00:00:00",
          "2019-01-08T00:00:00",
          "2019-01-09T00:00:00",
          "2019-01-10T00:00:00",
          "2019-01-11T00:00:00",
          "2019-01-12T00:00:00",
          "2019-01-13T00:00:00",
          "2019-01-14T00:00:00",
          "2019-01-15T00:00:00",
          "2019-01-16T00:00:00",
          "2019-01-17T00:00:00",
          "2019-01-18T00:00:00",
          "2019-01-19T00:00:00",
          "2019-01-20T00:00:00",
          "2019-01-21T00:00:00",
          "2019-01-22T00:00:00",
          "2019-01-23T00:00:00",
          "2019-01-24T00:00:00",
          "2019-01-25T00:00:00",
          "2019-01-26T00:00:00",
          "2019-01-27T00:00:00",
          "2019-01-28T00:00:00",
          "2019-01-29T00:00:00",
          "2019-01-30T00:00:00",
          "2019-01-31T00:00:00",
          "2019-02-01T00:00:00",
          "2019-02-02T00:00:00",
          "2019-02-03T00:00:00",
          "2019-02-04T00:00:00",
          "2019-02-05T00:00:00",
          "2019-02-06T00:00:00",
          "2019-02-07T00:00:00",
          "2019-02-08T00:00:00",
          "2019-02-09T00:00:00",
          "2019-02-10T00:00:00",
          "2019-02-11T00:00:00",
          "2019-02-12T00:00:00",
          "2019-02-13T00:00:00",
          "2019-02-14T00:00:00",
          "2019-02-15T00:00:00",
          "2019-02-16T00:00:00",
          "2019-02-17T00:00:00",
          "2019-02-18T00:00:00",
          "2019-02-19T00:00:00",
          "2019-02-20T00:00:00",
          "2019-02-21T00:00:00",
          "2019-02-22T00:00:00",
          "2019-02-23T00:00:00",
          "2019-02-24T00:00:00",
          "2019-02-25T00:00:00",
          "2019-02-26T00:00:00",
          "2019-02-27T00:00:00",
          "2019-02-28T00:00:00",
          "2019-03-01T00:00:00",
          "2019-03-02T00:00:00",
          "2019-03-03T00:00:00",
          "2019-03-04T00:00:00",
          "2019-03-05T00:00:00",
          "2019-03-06T00:00:00",
          "2019-03-07T00:00:00",
          "2019-03-08T00:00:00",
          "2019-03-09T00:00:00",
          "2019-03-10T00:00:00",
          "2019-03-11T00:00:00",
          "2019-03-12T00:00:00",
          "2019-03-13T00:00:00",
          "2019-03-14T00:00:00",
          "2019-03-15T00:00:00",
          "2019-03-16T00:00:00",
          "2019-03-17T00:00:00",
          "2019-03-18T00:00:00",
          "2019-03-19T00:00:00",
          "2019-03-20T00:00:00",
          "2019-03-21T00:00:00",
          "2019-03-22T00:00:00",
          "2019-03-23T00:00:00",
          "2019-03-24T00:00:00",
          "2019-03-25T00:00:00",
          "2019-03-26T00:00:00",
          "2019-03-27T00:00:00",
          "2019-03-28T00:00:00",
          "2019-03-29T00:00:00",
          "2019-03-30T00:00:00",
          "2019-03-31T00:00:00",
          "2019-04-01T00:00:00",
          "2019-04-02T00:00:00",
          "2019-04-03T00:00:00",
          "2019-04-04T00:00:00",
          "2019-04-05T00:00:00",
          "2019-04-06T00:00:00",
          "2019-04-07T00:00:00",
          "2019-04-08T00:00:00",
          "2019-04-09T00:00:00",
          "2019-04-10T00:00:00",
          "2019-04-11T00:00:00",
          "2019-04-12T00:00:00",
          "2019-04-13T00:00:00",
          "2019-04-14T00:00:00",
          "2019-04-15T00:00:00",
          "2019-04-16T00:00:00",
          "2019-04-17T00:00:00",
          "2019-04-18T00:00:00",
          "2019-04-19T00:00:00",
          "2019-04-20T00:00:00",
          "2019-04-21T00:00:00",
          "2019-04-22T00:00:00",
          "2019-04-23T00:00:00",
          "2019-04-24T00:00:00",
          "2019-04-25T00:00:00",
          "2019-04-26T00:00:00",
          "2019-04-27T00:00:00",
          "2019-04-28T00:00:00",
          "2019-04-29T00:00:00",
          "2019-04-30T00:00:00",
          "2019-05-01T00:00:00",
          "2019-05-02T00:00:00",
          "2019-05-03T00:00:00",
          "2019-05-04T00:00:00",
          "2019-05-05T00:00:00",
          "2019-05-06T00:00:00",
          "2019-05-07T00:00:00",
          "2019-05-08T00:00:00",
          "2019-05-09T00:00:00",
          "2019-05-10T00:00:00",
          "2019-05-11T00:00:00",
          "2019-05-12T00:00:00",
          "2019-05-13T00:00:00",
          "2019-05-14T00:00:00",
          "2019-05-15T00:00:00",
          "2019-05-16T00:00:00",
          "2019-05-17T00:00:00",
          "2019-05-18T00:00:00",
          "2019-05-19T00:00:00",
          "2019-05-20T00:00:00",
          "2019-05-21T00:00:00",
          "2019-05-22T00:00:00",
          "2019-05-23T00:00:00",
          "2019-05-24T00:00:00",
          "2019-05-25T00:00:00",
          "2019-05-26T00:00:00",
          "2019-05-27T00:00:00",
          "2019-05-28T00:00:00",
          "2019-05-29T00:00:00",
          "2019-05-30T00:00:00",
          "2019-05-31T00:00:00",
          "2019-06-01T00:00:00",
          "2019-06-02T00:00:00",
          "2019-06-03T00:00:00",
          "2019-06-04T00:00:00",
          "2019-06-05T00:00:00",
          "2019-06-06T00:00:00",
          "2019-06-07T00:00:00",
          "2019-06-08T00:00:00",
          "2019-06-09T00:00:00",
          "2019-06-10T00:00:00",
          "2019-06-11T00:00:00",
          "2019-06-12T00:00:00",
          "2019-06-13T00:00:00",
          "2019-06-14T00:00:00",
          "2019-06-15T00:00:00",
          "2019-06-16T00:00:00",
          "2019-06-17T00:00:00",
          "2019-06-18T00:00:00",
          "2019-06-19T00:00:00",
          "2019-06-20T00:00:00",
          "2019-06-21T00:00:00",
          "2019-06-22T00:00:00",
          "2019-06-23T00:00:00",
          "2019-06-24T00:00:00",
          "2019-06-25T00:00:00",
          "2019-06-26T00:00:00",
          "2019-06-27T00:00:00",
          "2019-06-28T00:00:00",
          "2019-06-29T00:00:00",
          "2019-06-30T00:00:00",
          "2019-07-01T00:00:00",
          "2019-07-02T00:00:00",
          "2019-07-03T00:00:00",
          "2019-07-04T00:00:00",
          "2019-07-05T00:00:00",
          "2019-07-06T00:00:00",
          "2019-07-07T00:00:00",
          "2019-07-08T00:00:00",
          "2019-07-09T00:00:00",
          "2019-07-10T00:00:00",
          "2019-07-11T00:00:00",
          "2019-07-12T00:00:00",
          "2019-07-13T00:00:00",
          "2019-07-14T00:00:00",
          "2019-07-15T00:00:00",
          "2019-07-16T00:00:00",
          "2019-07-17T00:00:00",
          "2019-07-18T00:00:00",
          "2019-07-19T00:00:00",
          "2019-07-20T00:00:00",
          "2019-07-21T00:00:00",
          "2019-07-22T00:00:00",
          "2019-07-23T00:00:00",
          "2019-07-24T00:00:00",
          "2019-07-25T00:00:00",
          "2019-07-26T00:00:00",
          "2019-07-27T00:00:00",
          "2019-07-28T00:00:00",
          "2019-07-29T00:00:00",
          "2019-07-30T00:00:00",
          "2019-07-31T00:00:00",
          "2019-08-01T00:00:00",
          "2019-08-02T00:00:00",
          "2019-08-03T00:00:00",
          "2019-08-04T00:00:00",
          "2019-08-05T00:00:00",
          "2019-08-06T00:00:00",
          "2019-08-07T00:00:00",
          "2019-08-08T00:00:00",
          "2019-08-09T00:00:00",
          "2019-08-10T00:00:00",
          "2019-08-11T00:00:00",
          "2019-08-12T00:00:00",
          "2019-08-13T00:00:00",
          "2019-08-14T00:00:00",
          "2019-08-15T00:00:00",
          "2019-08-16T00:00:00",
          "2019-08-17T00:00:00",
          "2019-08-18T00:00:00",
          "2019-08-19T00:00:00",
          "2019-08-20T00:00:00",
          "2019-08-21T00:00:00",
          "2019-08-22T00:00:00",
          "2019-08-23T00:00:00",
          "2019-08-24T00:00:00",
          "2019-08-25T00:00:00",
          "2019-08-26T00:00:00",
          "2019-08-27T00:00:00",
          "2019-08-28T00:00:00",
          "2019-08-29T00:00:00",
          "2019-08-30T00:00:00",
          "2019-08-31T00:00:00",
          "2019-09-01T00:00:00",
          "2019-09-02T00:00:00",
          "2019-09-03T00:00:00",
          "2019-09-04T00:00:00",
          "2019-09-05T00:00:00",
          "2019-09-06T00:00:00",
          "2019-09-07T00:00:00",
          "2019-09-08T00:00:00",
          "2019-09-09T00:00:00",
          "2019-09-10T00:00:00",
          "2019-09-11T00:00:00",
          "2019-09-12T00:00:00",
          "2019-09-13T00:00:00",
          "2019-09-14T00:00:00",
          "2019-09-15T00:00:00",
          "2019-09-16T00:00:00",
          "2019-09-17T00:00:00",
          "2019-09-18T00:00:00",
          "2019-09-19T00:00:00",
          "2019-09-20T00:00:00",
          "2019-09-21T00:00:00",
          "2019-09-22T00:00:00",
          "2019-09-23T00:00:00",
          "2019-09-24T00:00:00",
          "2019-09-25T00:00:00",
          "2019-09-26T00:00:00",
          "2019-09-27T00:00:00",
          "2019-09-28T00:00:00",
          "2019-09-29T00:00:00",
          "2019-09-30T00:00:00",
          "2019-10-01T00:00:00",
          "2019-10-02T00:00:00",
          "2019-10-03T00:00:00",
          "2019-10-04T00:00:00",
          "2019-10-05T00:00:00",
          "2019-10-06T00:00:00",
          "2019-10-07T00:00:00",
          "2019-10-08T00:00:00",
          "2019-10-09T00:00:00",
          "2019-10-10T00:00:00",
          "2019-10-11T00:00:00",
          "2019-10-12T00:00:00",
          "2019-10-13T00:00:00",
          "2019-10-14T00:00:00",
          "2019-10-15T00:00:00",
          "2019-10-16T00:00:00",
          "2019-10-17T00:00:00",
          "2019-10-18T00:00:00",
          "2019-10-19T00:00:00",
          "2019-10-20T00:00:00",
          "2019-10-21T00:00:00",
          "2019-10-22T00:00:00",
          "2019-10-23T00:00:00",
          "2019-10-24T00:00:00",
          "2019-10-25T00:00:00",
          "2019-10-26T00:00:00",
          "2019-10-27T00:00:00",
          "2019-10-28T00:00:00",
          "2019-10-29T00:00:00",
          "2019-10-30T00:00:00",
          "2019-10-31T00:00:00",
          "2019-11-01T00:00:00",
          "2019-11-02T00:00:00",
          "2019-11-03T00:00:00",
          "2019-11-04T00:00:00",
          "2019-11-05T00:00:00",
          "2019-11-06T00:00:00",
          "2019-11-07T00:00:00",
          "2019-11-08T00:00:00",
          "2019-11-09T00:00:00",
          "2019-11-10T00:00:00",
          "2019-11-11T00:00:00",
          "2019-11-12T00:00:00",
          "2019-11-13T00:00:00",
          "2019-11-14T00:00:00",
          "2019-11-15T00:00:00",
          "2019-11-16T00:00:00",
          "2019-11-17T00:00:00",
          "2019-11-18T00:00:00",
          "2019-11-19T00:00:00",
          "2019-11-20T00:00:00",
          "2019-11-21T00:00:00",
          "2019-11-22T00:00:00",
          "2019-11-23T00:00:00",
          "2019-11-24T00:00:00",
          "2019-11-25T00:00:00",
          "2019-11-26T00:00:00",
          "2019-11-27T00:00:00",
          "2019-11-28T00:00:00",
          "2019-11-29T00:00:00",
          "2019-11-30T00:00:00",
          "2019-12-01T00:00:00",
          "2019-12-02T00:00:00",
          "2019-12-03T00:00:00",
          "2019-12-04T00:00:00",
          "2019-12-05T00:00:00",
          "2019-12-06T00:00:00",
          "2019-12-07T00:00:00",
          "2019-12-08T00:00:00",
          "2019-12-09T00:00:00",
          "2019-12-10T00:00:00",
          "2019-12-11T00:00:00",
          "2019-12-12T00:00:00",
          "2019-12-13T00:00:00",
          "2019-12-14T00:00:00",
          "2019-12-15T00:00:00",
          "2019-12-16T00:00:00",
          "2019-12-17T00:00:00",
          "2019-12-18T00:00:00",
          "2019-12-19T00:00:00",
          "2019-12-20T00:00:00",
          "2019-12-21T00:00:00",
          "2019-12-22T00:00:00",
          "2019-12-23T00:00:00",
          "2019-12-24T00:00:00",
          "2019-12-25T00:00:00",
          "2019-12-26T00:00:00",
          "2019-12-27T00:00:00",
          "2019-12-28T00:00:00",
          "2019-12-29T00:00:00",
          "2019-12-30T00:00:00",
          "2019-12-31T00:00:00"
         ]
        }
       ],
       "layout": {
        "autosize": true,
        "template": {
         "data": {
          "bar": [
           {
            "error_x": {
             "color": "#2a3f5f"
            },
            "error_y": {
             "color": "#2a3f5f"
            },
            "marker": {
             "line": {
              "color": "#E5ECF6",
              "width": 0.5
             },
             "pattern": {
              "fillmode": "overlay",
              "size": 10,
              "solidity": 0.2
             }
            },
            "type": "bar"
           }
          ],
          "barpolar": [
           {
            "marker": {
             "line": {
              "color": "#E5ECF6",
              "width": 0.5
             },
             "pattern": {
              "fillmode": "overlay",
              "size": 10,
              "solidity": 0.2
             }
            },
            "type": "barpolar"
           }
          ],
          "carpet": [
           {
            "aaxis": {
             "endlinecolor": "#2a3f5f",
             "gridcolor": "white",
             "linecolor": "white",
             "minorgridcolor": "white",
             "startlinecolor": "#2a3f5f"
            },
            "baxis": {
             "endlinecolor": "#2a3f5f",
             "gridcolor": "white",
             "linecolor": "white",
             "minorgridcolor": "white",
             "startlinecolor": "#2a3f5f"
            },
            "type": "carpet"
           }
          ],
          "choropleth": [
           {
            "colorbar": {
             "outlinewidth": 0,
             "ticks": ""
            },
            "type": "choropleth"
           }
          ],
          "contour": [
           {
            "colorbar": {
             "outlinewidth": 0,
             "ticks": ""
            },
            "colorscale": [
             [
              0,
              "#0d0887"
             ],
             [
              0.1111111111111111,
              "#46039f"
             ],
             [
              0.2222222222222222,
              "#7201a8"
             ],
             [
              0.3333333333333333,
              "#9c179e"
             ],
             [
              0.4444444444444444,
              "#bd3786"
             ],
             [
              0.5555555555555556,
              "#d8576b"
             ],
             [
              0.6666666666666666,
              "#ed7953"
             ],
             [
              0.7777777777777778,
              "#fb9f3a"
             ],
             [
              0.8888888888888888,
              "#fdca26"
             ],
             [
              1,
              "#f0f921"
             ]
            ],
            "type": "contour"
           }
          ],
          "contourcarpet": [
           {
            "colorbar": {
             "outlinewidth": 0,
             "ticks": ""
            },
            "type": "contourcarpet"
           }
          ],
          "heatmap": [
           {
            "colorbar": {
             "outlinewidth": 0,
             "ticks": ""
            },
            "colorscale": [
             [
              0,
              "#0d0887"
             ],
             [
              0.1111111111111111,
              "#46039f"
             ],
             [
              0.2222222222222222,
              "#7201a8"
             ],
             [
              0.3333333333333333,
              "#9c179e"
             ],
             [
              0.4444444444444444,
              "#bd3786"
             ],
             [
              0.5555555555555556,
              "#d8576b"
             ],
             [
              0.6666666666666666,
              "#ed7953"
             ],
             [
              0.7777777777777778,
              "#fb9f3a"
             ],
             [
              0.8888888888888888,
              "#fdca26"
             ],
             [
              1,
              "#f0f921"
             ]
            ],
            "type": "heatmap"
           }
          ],
          "heatmapgl": [
           {
            "colorbar": {
             "outlinewidth": 0,
             "ticks": ""
            },
            "colorscale": [
             [
              0,
              "#0d0887"
             ],
             [
              0.1111111111111111,
              "#46039f"
             ],
             [
              0.2222222222222222,
              "#7201a8"
             ],
             [
              0.3333333333333333,
              "#9c179e"
             ],
             [
              0.4444444444444444,
              "#bd3786"
             ],
             [
              0.5555555555555556,
              "#d8576b"
             ],
             [
              0.6666666666666666,
              "#ed7953"
             ],
             [
              0.7777777777777778,
              "#fb9f3a"
             ],
             [
              0.8888888888888888,
              "#fdca26"
             ],
             [
              1,
              "#f0f921"
             ]
            ],
            "type": "heatmapgl"
           }
          ],
          "histogram": [
           {
            "marker": {
             "pattern": {
              "fillmode": "overlay",
              "size": 10,
              "solidity": 0.2
             }
            },
            "type": "histogram"
           }
          ],
          "histogram2d": [
           {
            "colorbar": {
             "outlinewidth": 0,
             "ticks": ""
            },
            "colorscale": [
             [
              0,
              "#0d0887"
             ],
             [
              0.1111111111111111,
              "#46039f"
             ],
             [
              0.2222222222222222,
              "#7201a8"
             ],
             [
              0.3333333333333333,
              "#9c179e"
             ],
             [
              0.4444444444444444,
              "#bd3786"
             ],
             [
              0.5555555555555556,
              "#d8576b"
             ],
             [
              0.6666666666666666,
              "#ed7953"
             ],
             [
              0.7777777777777778,
              "#fb9f3a"
             ],
             [
              0.8888888888888888,
              "#fdca26"
             ],
             [
              1,
              "#f0f921"
             ]
            ],
            "type": "histogram2d"
           }
          ],
          "histogram2dcontour": [
           {
            "colorbar": {
             "outlinewidth": 0,
             "ticks": ""
            },
            "colorscale": [
             [
              0,
              "#0d0887"
             ],
             [
              0.1111111111111111,
              "#46039f"
             ],
             [
              0.2222222222222222,
              "#7201a8"
             ],
             [
              0.3333333333333333,
              "#9c179e"
             ],
             [
              0.4444444444444444,
              "#bd3786"
             ],
             [
              0.5555555555555556,
              "#d8576b"
             ],
             [
              0.6666666666666666,
              "#ed7953"
             ],
             [
              0.7777777777777778,
              "#fb9f3a"
             ],
             [
              0.8888888888888888,
              "#fdca26"
             ],
             [
              1,
              "#f0f921"
             ]
            ],
            "type": "histogram2dcontour"
           }
          ],
          "mesh3d": [
           {
            "colorbar": {
             "outlinewidth": 0,
             "ticks": ""
            },
            "type": "mesh3d"
           }
          ],
          "parcoords": [
           {
            "line": {
             "colorbar": {
              "outlinewidth": 0,
              "ticks": ""
             }
            },
            "type": "parcoords"
           }
          ],
          "pie": [
           {
            "automargin": true,
            "type": "pie"
           }
          ],
          "scatter": [
           {
            "fillpattern": {
             "fillmode": "overlay",
             "size": 10,
             "solidity": 0.2
            },
            "type": "scatter"
           }
          ],
          "scatter3d": [
           {
            "line": {
             "colorbar": {
              "outlinewidth": 0,
              "ticks": ""
             }
            },
            "marker": {
             "colorbar": {
              "outlinewidth": 0,
              "ticks": ""
             }
            },
            "type": "scatter3d"
           }
          ],
          "scattercarpet": [
           {
            "marker": {
             "colorbar": {
              "outlinewidth": 0,
              "ticks": ""
             }
            },
            "type": "scattercarpet"
           }
          ],
          "scattergeo": [
           {
            "marker": {
             "colorbar": {
              "outlinewidth": 0,
              "ticks": ""
             }
            },
            "type": "scattergeo"
           }
          ],
          "scattergl": [
           {
            "marker": {
             "colorbar": {
              "outlinewidth": 0,
              "ticks": ""
             }
            },
            "type": "scattergl"
           }
          ],
          "scattermapbox": [
           {
            "marker": {
             "colorbar": {
              "outlinewidth": 0,
              "ticks": ""
             }
            },
            "type": "scattermapbox"
           }
          ],
          "scatterpolar": [
           {
            "marker": {
             "colorbar": {
              "outlinewidth": 0,
              "ticks": ""
             }
            },
            "type": "scatterpolar"
           }
          ],
          "scatterpolargl": [
           {
            "marker": {
             "colorbar": {
              "outlinewidth": 0,
              "ticks": ""
             }
            },
            "type": "scatterpolargl"
           }
          ],
          "scatterternary": [
           {
            "marker": {
             "colorbar": {
              "outlinewidth": 0,
              "ticks": ""
             }
            },
            "type": "scatterternary"
           }
          ],
          "surface": [
           {
            "colorbar": {
             "outlinewidth": 0,
             "ticks": ""
            },
            "colorscale": [
             [
              0,
              "#0d0887"
             ],
             [
              0.1111111111111111,
              "#46039f"
             ],
             [
              0.2222222222222222,
              "#7201a8"
             ],
             [
              0.3333333333333333,
              "#9c179e"
             ],
             [
              0.4444444444444444,
              "#bd3786"
             ],
             [
              0.5555555555555556,
              "#d8576b"
             ],
             [
              0.6666666666666666,
              "#ed7953"
             ],
             [
              0.7777777777777778,
              "#fb9f3a"
             ],
             [
              0.8888888888888888,
              "#fdca26"
             ],
             [
              1,
              "#f0f921"
             ]
            ],
            "type": "surface"
           }
          ],
          "table": [
           {
            "cells": {
             "fill": {
              "color": "#EBF0F8"
             },
             "line": {
              "color": "white"
             }
            },
            "header": {
             "fill": {
              "color": "#C8D4E3"
             },
             "line": {
              "color": "white"
             }
            },
            "type": "table"
           }
          ]
         },
         "layout": {
          "annotationdefaults": {
           "arrowcolor": "#2a3f5f",
           "arrowhead": 0,
           "arrowwidth": 1
          },
          "autotypenumbers": "strict",
          "coloraxis": {
           "colorbar": {
            "outlinewidth": 0,
            "ticks": ""
           }
          },
          "colorscale": {
           "diverging": [
            [
             0,
             "#8e0152"
            ],
            [
             0.1,
             "#c51b7d"
            ],
            [
             0.2,
             "#de77ae"
            ],
            [
             0.3,
             "#f1b6da"
            ],
            [
             0.4,
             "#fde0ef"
            ],
            [
             0.5,
             "#f7f7f7"
            ],
            [
             0.6,
             "#e6f5d0"
            ],
            [
             0.7,
             "#b8e186"
            ],
            [
             0.8,
             "#7fbc41"
            ],
            [
             0.9,
             "#4d9221"
            ],
            [
             1,
             "#276419"
            ]
           ],
           "sequential": [
            [
             0,
             "#0d0887"
            ],
            [
             0.1111111111111111,
             "#46039f"
            ],
            [
             0.2222222222222222,
             "#7201a8"
            ],
            [
             0.3333333333333333,
             "#9c179e"
            ],
            [
             0.4444444444444444,
             "#bd3786"
            ],
            [
             0.5555555555555556,
             "#d8576b"
            ],
            [
             0.6666666666666666,
             "#ed7953"
            ],
            [
             0.7777777777777778,
             "#fb9f3a"
            ],
            [
             0.8888888888888888,
             "#fdca26"
            ],
            [
             1,
             "#f0f921"
            ]
           ],
           "sequentialminus": [
            [
             0,
             "#0d0887"
            ],
            [
             0.1111111111111111,
             "#46039f"
            ],
            [
             0.2222222222222222,
             "#7201a8"
            ],
            [
             0.3333333333333333,
             "#9c179e"
            ],
            [
             0.4444444444444444,
             "#bd3786"
            ],
            [
             0.5555555555555556,
             "#d8576b"
            ],
            [
             0.6666666666666666,
             "#ed7953"
            ],
            [
             0.7777777777777778,
             "#fb9f3a"
            ],
            [
             0.8888888888888888,
             "#fdca26"
            ],
            [
             1,
             "#f0f921"
            ]
           ]
          },
          "colorway": [
           "#636efa",
           "#EF553B",
           "#00cc96",
           "#ab63fa",
           "#FFA15A",
           "#19d3f3",
           "#FF6692",
           "#B6E880",
           "#FF97FF",
           "#FECB52"
          ],
          "font": {
           "color": "#2a3f5f"
          },
          "geo": {
           "bgcolor": "white",
           "lakecolor": "white",
           "landcolor": "#E5ECF6",
           "showlakes": true,
           "showland": true,
           "subunitcolor": "white"
          },
          "hoverlabel": {
           "align": "left"
          },
          "hovermode": "closest",
          "mapbox": {
           "style": "light"
          },
          "paper_bgcolor": "white",
          "plot_bgcolor": "#E5ECF6",
          "polar": {
           "angularaxis": {
            "gridcolor": "white",
            "linecolor": "white",
            "ticks": ""
           },
           "bgcolor": "#E5ECF6",
           "radialaxis": {
            "gridcolor": "white",
            "linecolor": "white",
            "ticks": ""
           }
          },
          "scene": {
           "xaxis": {
            "backgroundcolor": "#E5ECF6",
            "gridcolor": "white",
            "gridwidth": 2,
            "linecolor": "white",
            "showbackground": true,
            "ticks": "",
            "zerolinecolor": "white"
           },
           "yaxis": {
            "backgroundcolor": "#E5ECF6",
            "gridcolor": "white",
            "gridwidth": 2,
            "linecolor": "white",
            "showbackground": true,
            "ticks": "",
            "zerolinecolor": "white"
           },
           "zaxis": {
            "backgroundcolor": "#E5ECF6",
            "gridcolor": "white",
            "gridwidth": 2,
            "linecolor": "white",
            "showbackground": true,
            "ticks": "",
            "zerolinecolor": "white"
           }
          },
          "shapedefaults": {
           "line": {
            "color": "#2a3f5f"
           }
          },
          "ternary": {
           "aaxis": {
            "gridcolor": "white",
            "linecolor": "white",
            "ticks": ""
           },
           "baxis": {
            "gridcolor": "white",
            "linecolor": "white",
            "ticks": ""
           },
           "bgcolor": "#E5ECF6",
           "caxis": {
            "gridcolor": "white",
            "linecolor": "white",
            "ticks": ""
           }
          },
          "title": {
           "x": 0.05
          },
          "xaxis": {
           "automargin": true,
           "gridcolor": "white",
           "linecolor": "white",
           "ticks": "",
           "title": {
            "standoff": 15
           },
           "zerolinecolor": "white",
           "zerolinewidth": 2
          },
          "yaxis": {
           "automargin": true,
           "gridcolor": "white",
           "linecolor": "white",
           "ticks": "",
           "title": {
            "standoff": 15
           },
           "zerolinecolor": "white",
           "zerolinewidth": 2
          }
         }
        },
        "title": {
         "text": "Bitcoin Candlestick Chart"
        },
        "xaxis": {
         "autorange": true,
         "range": [
          "2018-12-31 12:00",
          "2019-12-31 12:00"
         ],
         "rangeslider": {
          "autorange": true,
          "range": [
           "2018-12-31 12:00",
           "2019-12-31 12:00"
          ],
          "yaxis": {
           "_template": null,
           "rangemode": "match"
          }
         },
         "showspikes": false,
         "title": {
          "text": "Date"
         },
         "type": "date"
        },
        "yaxis": {
         "autorange": true,
         "range": [
          2735.645,
          14466.545
         ],
         "title": {
          "text": "Price (USD)"
         }
        }
       }
      },
      "image/png": "[encoded data removed]",
      "text/html": [
       "<div>                            <div id=\"3b09a879-fd03-4140-a381-6e0c2949437e\" class=\"plotly-graph-div\" style=\"height:525px; width:100%;\"></div>            <script type=\"text/javascript\">                require([\"plotly\"], function(Plotly) {                    window.PLOTLYENV=window.PLOTLYENV || {};                                    if (document.getElementById(\"3b09a879-fd03-4140-a381-6e0c2949437e\")) {                    Plotly.newPlot(                        \"3b09a879-fd03-4140-a381-6e0c2949437e\",                        [{\"close\":[3823.44,3885.87,3787.81,3817.71,3791.84,4040.71,4005.45,3994.9,4005.15,3627.51,3632.02,3617.13,3515.95,3664.28,3576.93,3605.91,3638.01,3609.21,3681.0,3536.72,3531.51,3576.81,3552.32,3570.73,3560.0,3555.56,3533.23,3429.5,3390.5,3437.35,3413.11,3434.83,3462.82,3414.82,3410.87,3431.39,3364.62,3359.33,3622.94,3622.62,3650.37,3588.7,3585.94,3574.93,3560.46,3566.29,3579.92,3625.6,3869.8,3888.46,3936.53,3900.4,3939.82,4113.53,3730.68,3820.71,3795.06,3798.47,3791.36,3807.05,3810.46,3789.52,3698.66,3844.07,3851.55,3856.64,3844.64,3916.43,3897.92,3849.25,3859.74,3848.48,3854.77,3901.21,3990.0,3965.5,3969.59,3998.13,4031.59,3974.21,3982.07,3982.52,3969.99,3910.51,3922.58,4025.5,4012.23,4090.0,4094.92,4096.08,4136.32,4899.63,4978.23,4907.94,5039.73,5041.39,5190.85,5287.88,5192.6,5323.47,5040.2,5076.35,5063.63,5162.72,5027.31,5202.43,5233.72,5281.58,5289.91,5318.89,5295.65,5386.8,5531.32,5440.95,5132.55,5155.19,5168.91,5160.98,5149.11,5269.0,5318.42,5385.0,5658.22,5764.65,5709.32,5685.46,5751.54,5940.89,6156.7,6342.84,7217.47,6974.35,7810.05,7986.0,8208.69,7880.0,7351.71,7260.12,8200.0,8005.64,7955.16,7624.95,7880.22,7999.02,8064.64,8733.26,8770.73,8717.96,8663.41,8277.76,8547.2,8556.27,8734.49,8103.64,7665.53,7785.94,7806.07,8001.25,7932.27,7632.99,8021.1,7919.1,8176.27,8238.0,8697.54,8857.19,8974.19,9333.48,9078.84,9278.27,9534.99,10222.12,10661.3,10831.95,11029.63,11751.01,12920.54,11153.74,12354.43,11858.62,10760.1,10577.43,10828.9,11967.43,11146.34,10997.84,11240.0,11469.96,12286.14,12567.23,12098.95,11349.24,11808.91,11378.79,10191.87,10850.0,9412.81,9699.35,10648.6,10535.43,10750.11,10600.24,10328.83,9847.02,9763.67,9883.96,9846.94,9481.37,9533.19,9495.39,9593.62,10085.34,10407.71,10529.51,10821.52,10986.96,11800.0,11470.0,11971.57,11983.43,11859.32,11273.2,11528.73,11385.11,10862.28,10022.99,10301.44,10354.34,10210.89,10318.99,10927.3,10772.22,10134.75,10112.01,10401.6,10149.7,10136.75,10360.97,10167.29,9711.78,9490.0,9579.75,9594.15,9767.53,10384.48,10617.61,10586.26,10573.66,10311.09,10484.39,10400.18,10307.45,10096.0,10154.46,10420.34,10368.65,10355.37,10305.74,10269.98,10195.73,10152.09,10271.53,10169.02,9985.28,10020.58,9682.19,8536.82,8432.16,8055.03,8187.72,8218.07,8047.6,8298.45,8319.01,8373.42,8239.92,8152.07,8145.17,7854.12,8205.53,8178.54,8586.34,8582.11,8265.55,8303.43,8282.96,8362.99,8155.13,7995.89,8073.32,7955.08,7960.49,8235.74,8213.65,8025.9,7470.77,7435.0,8662.66,9252.75,9557.08,9216.44,9426.94,9159.94,9150.07,9250.45,9304.75,9207.0,9410.76,9320.14,9344.78,9199.36,8767.37,8812.21,9024.49,8720.36,8813.91,8755.24,8636.9,8463.49,8484.63,8499.31,8170.65,8121.63,8088.44,7611.51,7285.85,7320.39,6908.36,7122.14,7159.22,7527.84,7436.72,7753.69,7550.67,7412.66,7309.64,7300.43,7197.78,7390.42,7541.79,7502.65,7524.26,7340.52,7216.07,7207.42,7188.42,7257.47,7059.03,7115.08,6882.19,6612.3,7286.91,7149.57,7194.11,7147.4,7509.7,7316.17,7251.52,7195.79,7188.3,7246.0,7296.24,7385.54,7220.24,7168.36],\"high\":[3845.46,3918.67,3893.4,3850.33,3887.09,4090.0,4070.0,4112.0,4060.0,4036.22,3704.6,3650.35,3654.02,3714.0,3687.02,3669.0,3660.0,3641.9,3774.0,3703.27,3573.29,3615.8,3620.23,3598.0,3578.79,3657.89,3564.12,3536.77,3438.76,3465.05,3474.2,3460.0,3485.0,3476.33,3439.46,3435.0,3445.6,3383.29,3711.04,3639.74,3662.43,3652.56,3619.93,3629.81,3590.74,3620.53,3609.0,3663.34,3916.47,4000.0,3967.52,3989.99,3957.0,4157.87,4190.0,3861.81,3830.0,3822.85,3897.62,3845.3,3818.75,3822.39,3806.9,3877.1,3895.12,3891.04,3924.37,3950.25,3916.43,3912.89,3877.69,3874.68,3903.98,3912.06,4040.0,3992.42,4016.63,4012.63,4050.0,4055.35,4000.81,4001.17,3980.97,3980.22,3936.36,4037.11,4025.56,4102.57,4130.36,4101.7,4150.0,5080.0,5345.0,5077.35,5067.62,5240.0,5253.49,5347.37,5288.95,5466.06,5344.31,5122.48,5122.01,5185.26,5192.01,5231.96,5275.07,5325.0,5357.96,5362.97,5346.91,5439.12,5627.0,5623.3,5510.0,5291.48,5218.31,5213.23,5191.96,5287.4,5357.96,5422.94,5796.56,5846.13,5782.55,5755.79,5970.0,5986.0,6172.0,6426.8,7445.0,7585.0,8167.5,8335.56,8300.0,8390.95,7942.09,7493.85,8299.99,8199.97,8117.48,8049.22,7980.0,8188.87,8158.45,8802.29,8939.18,8817.41,8762.39,9096.79,8589.99,8624.72,8833.97,8745.96,8103.63,7924.48,7878.62,8134.99,8061.12,7966.58,8090.0,8057.32,8266.0,8335.56,8737.37,8911.98,9391.85,9477.7,9361.87,9325.85,9600.0,10229.49,11200.0,11247.62,11099.0,11796.37,13880.0,13355.61,12447.46,12386.76,12200.06,11200.41,10942.63,12009.0,12061.04,11440.0,11735.0,11627.0,12398.0,12883.48,13200.0,12104.97,11942.39,11846.61,11467.3,11080.37,11042.11,9993.0,10797.0,10776.99,11120.0,10839.09,10686.89,10327.33,9911.5,10187.0,9897.46,10235.0,9634.5,9725.17,9775.0,10143.2,10499.0,10670.0,10919.0,11085.99,11959.36,12325.0,12145.42,12061.1,12040.0,11976.68,11589.73,11551.57,11446.94,10862.25,10444.66,10540.0,10472.93,10515.0,10940.0,10955.48,10807.54,10238.29,10479.0,10432.0,10355.89,10650.0,10375.53,10280.71,9720.2,9700.0,9682.73,9832.0,10471.0,10783.0,10834.15,10664.13,10949.0,10580.0,10594.88,10542.93,10390.09,10243.01,10465.0,10458.13,10441.47,10383.2,10378.07,10280.53,10263.65,10380.07,10308.04,10180.43,10093.24,10048.06,9782.0,8746.83,8467.89,8294.04,8356.4,8244.07,8368.5,8531.25,8393.39,8419.23,8244.93,8195.0,8176.46,8313.7,8344.12,8707.8,8666.84,8820.0,8427.76,8474.48,8416.67,8420.85,8179.1,8130.71,8120.77,8096.76,8314.77,8352.0,8314.77,8052.04,7512.0,8784.29,10350.0,9819.92,9950.0,9573.35,9437.06,9438.61,9303.53,9396.91,9384.32,9586.5,9485.0,9448.19,9373.48,9253.39,8876.94,9142.33,9075.32,8872.47,8839.46,8791.78,8799.03,8539.53,8631.6,8508.4,8197.77,8231.04,8116.92,7714.7,7356.49,7349.68,7380.0,7344.91,7676.27,7659.92,7870.35,7815.0,7560.2,7431.07,7415.0,7772.71,7500.0,7618.99,7638.88,7580.0,7666.0,7400.0,7271.0,7296.19,7302.35,7269.0,7225.23,7147.91,6938.77,7449.68,7372.12,7218.11,7194.13,7530.0,7692.98,7431.1,7266.81,7432.0,7255.37,7349.65,7524.46,7384.9,7302.35],\"low\":[3629.66,3770.0,3760.0,3732.38,3780.0,3753.0,3964.01,3934.73,3948.44,3503.44,3569.85,3557.09,3476.0,3506.0,3534.68,3570.48,3534.25,3577.0,3602.6,3470.0,3485.58,3401.36,3518.0,3524.0,3511.0,3536.51,3456.0,3357.3,3322.19,3372.34,3392.6,3364.53,3406.38,3384.67,3394.85,3396.0,3328.7,3350.0,3337.91,3589.52,3576.16,3578.7,3548.28,3541.0,3531.01,3544.88,3561.96,3553.98,3614.82,3840.08,3861.49,3866.25,3882.59,3905.63,3714.42,3732.6,3760.09,3658.19,3755.0,3789.5,3760.0,3756.0,3670.0,3690.0,3808.8,3826.13,3760.1,3835.66,3862.0,3812.64,3791.07,3820.0,3775.01,3843.09,3899.12,3927.28,3929.83,3947.15,3962.6,3919.63,3958.94,3957.11,3942.04,3850.45,3879.5,3912.19,3992.6,4005.0,4040.0,4074.29,4052.56,4130.64,4800.5,4778.59,4883.83,4900.0,5028.3,5127.68,5136.01,5161.0,4966.87,4912.0,5033.73,5012.73,4948.57,5014.77,5170.01,5218.23,5180.37,5253.82,5212.8,5249.0,5363.24,5372.0,4991.42,5046.31,5113.0,5099.0,5071.58,5127.05,5263.03,5304.99,5363.1,5510.0,5624.25,5562.44,5686.88,5658.66,5932.83,6105.0,6338.93,6762.57,6863.75,7618.99,7838.0,7654.93,6178.0,7205.57,7247.86,7581.03,7676.27,7505.69,7468.31,7795.95,7939.76,7888.91,8653.68,8540.94,8421.12,8000.0,8109.74,8457.33,8546.01,8049.22,7432.84,7570.9,7449.68,7758.93,7777.67,7511.41,7523.16,7713.34,7821.73,8049.22,8174.92,8623.52,8805.0,8973.02,8918.0,9036.19,9211.08,9534.97,10085.5,10483.33,10551.51,11000.02,11647.07,10300.0,10739.1,11317.03,10651.3,9950.0,9614.08,10830.1,11052.74,10769.15,10982.89,11083.76,11332.19,12030.43,11550.0,10966.81,11083.52,10810.0,10090.0,9855.0,9366.0,9049.54,9280.33,10102.58,10359.17,10325.0,10052.25,9801.88,9514.96,9734.19,9650.0,9299.0,9111.0,9360.0,9373.48,9574.09,9878.09,10318.47,10502.8,10564.96,10986.55,11200.0,11388.01,11450.93,11650.0,11200.0,11080.37,11194.04,10738.58,9888.57,9467.57,9736.96,9974.51,10065.41,10267.56,10549.74,9853.45,9755.53,10051.0,9885.48,9907.86,10136.75,10019.1,9555.0,9320.0,9350.1,9443.19,9538.75,9753.24,10286.0,10378.7,10461.97,10204.18,10297.58,10229.49,10060.0,9910.0,9855.11,10027.52,10153.87,10217.01,10258.49,10060.95,10130.59,10080.0,9600.0,10055.0,9913.35,9842.35,9606.0,7998.0,8216.0,7733.99,7866.0,8009.84,7902.66,7714.7,8195.42,8170.91,8029.14,7986.65,8016.26,7772.71,7763.54,8109.74,8110.0,8450.61,8222.88,8254.68,8132.91,8215.41,8086.0,7912.66,7936.71,7811.62,7875.0,7874.68,8156.0,7989.15,7293.55,7356.0,7393.14,8642.46,9092.66,9177.84,9051.48,8985.25,8961.53,9054.6,9201.19,9067.0,9122.33,9165.2,9254.68,9080.0,8661.0,8720.0,8750.85,8593.0,8549.0,8700.0,8555.0,8363.0,8423.0,8375.0,8010.7,7989.15,8027.28,7394.09,6785.0,7102.16,6861.96,6515.0,7018.78,6847.72,7372.19,7411.17,7452.08,7233.87,7140.08,7238.04,7087.09,7150.06,7305.56,7486.7,7382.69,7268.03,7150.23,7122.28,7072.2,7179.65,7007.48,7007.0,6820.0,6550.0,6425.0,7000.0,7072.61,7109.73,7124.52,7247.86,7156.0,7110.73,7150.0,7052.0,7231.0,7274.43,7199.0,7112.55],\"open\":[3694.72,3825.41,3890.27,3785.64,3822.0,3795.38,4040.71,4005.0,3994.75,4003.09,3627.65,3631.0,3617.75,3517.03,3664.28,3576.92,3609.5,3638.01,3609.29,3680.0,3537.42,3531.51,3574.44,3553.2,3570.67,3560.94,3555.31,3532.23,3431.43,3391.25,3438.0,3413.69,3434.83,3470.5,3413.75,3409.81,3431.81,3364.0,3358.39,3626.12,3622.74,3651.32,3588.99,3585.7,3575.01,3560.45,3566.29,3580.43,3625.6,3870.97,3889.92,3936.8,3900.64,3939.83,4113.56,3733.78,3817.93,3794.42,3796.49,3791.02,3805.0,3810.47,3789.7,3698.65,3844.07,3851.26,3856.64,3841.27,3916.42,3898.14,3848.86,3861.37,3848.1,3857.33,3899.19,3990.0,3965.63,3969.94,3999.5,4033.7,3974.5,3980.4,3979.19,3970.23,3910.0,3922.58,4025.5,4011.0,4090.0,4094.92,4092.02,4133.93,4899.01,4972.83,4911.14,5041.0,5041.92,5192.92,5287.97,5184.03,5323.47,5037.82,5075.74,5064.0,5160.54,5027.33,5201.47,5227.6,5283.0,5289.91,5318.94,5295.96,5388.22,5531.29,5440.95,5132.5,5154.11,5171.51,5152.98,5150.21,5267.86,5322.28,5385.0,5659.82,5766.46,5714.4,5686.88,5751.54,5945.32,6151.66,6338.93,7214.4,6968.84,7810.72,7991.72,8203.97,7879.28,7352.39,7257.82,8193.45,8007.67,7949.18,7622.9,7880.4,7999.02,8066.15,8733.27,8774.45,8715.35,8663.07,8277.76,8545.8,8560.1,8735.84,8103.63,7673.41,7784.62,7801.97,8002.68,7933.17,7629.98,8017.99,7915.7,8171.12,8235.44,8694.74,8857.19,8973.02,9333.48,9076.51,9280.17,9534.99,10222.13,10665.66,10827.23,11030.0,11760.0,12927.44,11153.73,12354.45,11867.35,10759.24,10581.78,10830.1,11970.0,11144.82,10996.82,11233.21,11478.43,12299.94,12574.88,12101.44,11352.74,11811.08,11382.03,10191.87,10848.27,9427.45,9712.15,10638.44,10533.71,10757.15,10605.03,10315.87,9841.42,9781.52,9886.08,9846.94,9467.84,9538.73,9508.21,9592.26,10096.01,10416.79,10529.51,10812.58,10986.55,11800.0,11471.58,11973.46,11985.6,11859.32,11273.03,11527.44,11380.61,10862.25,10022.5,10294.9,10351.18,10221.94,10318.99,10927.3,10778.75,10123.56,10112.45,10401.87,10149.38,10136.75,10355.11,10171.39,9720.2,9490.56,9569.3,9593.5,9767.56,10384.07,10617.72,10586.26,10573.04,10309.04,10497.57,10387.33,10317.62,10093.39,10163.81,10423.99,10365.81,10362.52,10305.74,10257.2,10182.96,10161.59,10284.72,10169.02,9973.0,10022.38,9685.69,8536.71,8443.44,8055.25,8199.96,8218.07,8060.13,8304.47,8326.41,8377.68,8243.39,8157.89,8150.73,7863.75,8211.04,8185.85,8586.57,8589.08,8265.16,8303.43,8278.39,8353.33,8162.45,7995.73,8069.26,7950.48,7965.39,8236.49,8206.53,8021.57,7470.77,7427.0,8677.09,9262.72,9547.32,9216.39,9426.94,9169.55,9158.08,9250.7,9304.75,9207.0,9410.76,9319.1,9346.02,9209.3,8760.38,8806.85,9029.88,8720.36,8817.0,8765.53,8632.07,8459.38,8485.61,8499.53,8176.9,8124.08,8085.54,7612.23,7276.21,7330.98,6900.9,7127.12,7168.74,7517.82,7429.32,7753.69,7560.2,7411.75,7317.94,7299.2,7199.58,7397.35,7535.46,7505.86,7516.8,7332.05,7224.5,7208.95,7185.15,7255.94,7066.35,7115.08,6882.08,6619.53,7286.91,7157.53,7194.13,7147.4,7521.88,7317.47,7247.45,7195.8,7195.17,7247.7,7297.43,7372.79,7222.74],\"x\":[\"2019-01-01T00:00:00\",\"2019-01-02T00:00:00\",\"2019-01-03T00:00:00\",\"2019-01-04T00:00:00\",\"2019-01-05T00:00:00\",\"2019-01-06T00:00:00\",\"2019-01-07T00:00:00\",\"2019-01-08T00:00:00\",\"2019-01-09T00:00:00\",\"2019-01-10T00:00:00\",\"2019-01-11T00:00:00\",\"2019-01-12T00:00:00\",\"2019-01-13T00:00:00\",\"2019-01-14T00:00:00\",\"2019-01-15T00:00:00\",\"2019-01-16T00:00:00\",\"2019-01-17T00:00:00\",\"2019-01-18T00:00:00\",\"2019-01-19T00:00:00\",\"2019-01-20T00:00:00\",\"2019-01-21T00:00:00\",\"2019-01-22T00:00:00\",\"2019-01-23T00:00:00\",\"2019-01-24T00:00:00\",\"2019-01-25T00:00:00\",\"2019-01-26T00:00:00\",\"2019-01-27T00:00:00\",\"2019-01-28T00:00:00\",\"2019-01-29T00:00:00\",\"2019-01-30T00:00:00\",\"2019-01-31T00:00:00\",\"2019-02-01T00:00:00\",\"2019-02-02T00:00:00\",\"2019-02-03T00:00:00\",\"2019-02-04T00:00:00\",\"2019-02-05T00:00:00\",\"2019-02-06T00:00:00\",\"2019-02-07T00:00:00\",\"2019-02-08T00:00:00\",\"2019-02-09T00:00:00\",\"2019-02-10T00:00:00\",\"2019-02-11T00:00:00\",\"2019-02-12T00:00:00\",\"2019-02-13T00:00:00\",\"2019-02-14T00:00:00\",\"2019-02-15T00:00:00\",\"2019-02-16T00:00:00\",\"2019-02-17T00:00:00\",\"2019-02-18T00:00:00\",\"2019-02-19T00:00:00\",\"2019-02-20T00:00:00\",\"2019-02-21T00:00:00\",\"2019-02-22T00:00:00\",\"2019-02-23T00:00:00\",\"2019-02-24T00:00:00\",\"2019-02-25T00:00:00\",\"2019-02-26T00:00:00\",\"2019-02-27T00:00:00\",\"2019-02-28T00:00:00\",\"2019-03-01T00:00:00\",\"2019-03-02T00:00:00\",\"2019-03-03T00:00:00\",\"2019-03-04T00:00:00\",\"2019-03-05T00:00:00\",\"2019-03-06T00:00:00\",\"2019-03-07T00:00:00\",\"2019-03-08T00:00:00\",\"2019-03-09T00:00:00\",\"2019-03-10T00:00:00\",\"2019-03-11T00:00:00\",\"2019-03-12T00:00:00\",\"2019-03-13T00:00:00\",\"2019-03-14T00:00:00\",\"2019-03-15T00:00:00\",\"2019-03-16T00:00:00\",\"2019-03-17T00:00:00\",\"2019-03-18T00:00:00\",\"2019-03-19T00:00:00\",\"2019-03-20T00:00:00\",\"2019-03-21T00:00:00\",\"2019-03-22T00:00:00\",\"2019-03-23T00:00:00\",\"2019-03-24T00:00:00\",\"2019-03-25T00:00:00\",\"2019-03-26T00:00:00\",\"2019-03-27T00:00:00\",\"2019-03-28T00:00:00\",\"2019-03-29T00:00:00\",\"2019-03-30T00:00:00\",\"2019-03-31T00:00:00\",\"2019-04-01T00:00:00\",\"2019-04-02T00:00:00\",\"2019-04-03T00:00:00\",\"2019-04-04T00:00:00\",\"2019-04-05T00:00:00\",\"2019-04-06T00:00:00\",\"2019-04-07T00:00:00\",\"2019-04-08T00:00:00\",\"2019-04-09T00:00:00\",\"2019-04-10T00:00:00\",\"2019-04-11T00:00:00\",\"2019-04-12T00:00:00\",\"2019-04-13T00:00:00\",\"2019-04-14T00:00:00\",\"2019-04-15T00:00:00\",\"2019-04-16T00:00:00\",\"2019-04-17T00:00:00\",\"2019-04-18T00:00:00\",\"2019-04-19T00:00:00\",\"2019-04-20T00:00:00\",\"2019-04-21T00:00:00\",\"2019-04-22T00:00:00\",\"2019-04-23T00:00:00\",\"2019-04-24T00:00:00\",\"2019-04-25T00:00:00\",\"2019-04-26T00:00:00\",\"2019-04-27T00:00:00\",\"2019-04-28T00:00:00\",\"2019-04-29T00:00:00\",\"2019-04-30T00:00:00\",\"2019-05-01T00:00:00\",\"2019-05-02T00:00:00\",\"2019-05-03T00:00:00\",\"2019-05-04T00:00:00\",\"2019-05-05T00:00:00\",\"2019-05-06T00:00:00\",\"2019-05-07T00:00:00\",\"2019-05-08T00:00:00\",\"2019-05-09T00:00:00\",\"2019-05-10T00:00:00\",\"2019-05-11T00:00:00\",\"2019-05-12T00:00:00\",\"2019-05-13T00:00:00\",\"2019-05-14T00:00:00\",\"2019-05-15T00:00:00\",\"2019-05-16T00:00:00\",\"2019-05-17T00:00:00\",\"2019-05-18T00:00:00\",\"2019-05-19T00:00:00\",\"2019-05-20T00:00:00\",\"2019-05-21T00:00:00\",\"2019-05-22T00:00:00\",\"2019-05-23T00:00:00\",\"2019-05-24T00:00:00\",\"2019-05-25T00:00:00\",\"2019-05-26T00:00:00\",\"2019-05-27T00:00:00\",\"2019-05-28T00:00:00\",\"2019-05-29T00:00:00\",\"2019-05-30T00:00:00\",\"2019-05-31T00:00:00\",\"2019-06-01T00:00:00\",\"2019-06-02T00:00:00\",\"2019-06-03T00:00:00\",\"2019-06-04T00:00:00\",\"2019-06-05T00:00:00\",\"2019-06-06T00:00:00\",\"2019-06-07T00:00:00\",\"2019-06-08T00:00:00\",\"2019-06-09T00:00:00\",\"2019-06-10T00:00:00\",\"2019-06-11T00:00:00\",\"2019-06-12T00:00:00\",\"2019-06-13T00:00:00\",\"2019-06-14T00:00:00\",\"2019-06-15T00:00:00\",\"2019-06-16T00:00:00\",\"2019-06-17T00:00:00\",\"2019-06-18T00:00:00\",\"2019-06-19T00:00:00\",\"2019-06-20T00:00:00\",\"2019-06-21T00:00:00\",\"2019-06-22T00:00:00\",\"2019-06-23T00:00:00\",\"2019-06-24T00:00:00\",\"2019-06-25T00:00:00\",\"2019-06-26T00:00:00\",\"2019-06-27T00:00:00\",\"2019-06-28T00:00:00\",\"2019-06-29T00:00:00\",\"2019-06-30T00:00:00\",\"2019-07-01T00:00:00\",\"2019-07-02T00:00:00\",\"2019-07-03T00:00:00\",\"2019-07-04T00:00:00\",\"2019-07-05T00:00:00\",\"2019-07-06T00:00:00\",\"2019-07-07T00:00:00\",\"2019-07-08T00:00:00\",\"2019-07-09T00:00:00\",\"2019-07-10T00:00:00\",\"2019-07-11T00:00:00\",\"2019-07-12T00:00:00\",\"2019-07-13T00:00:00\",\"2019-07-14T00:00:00\",\"2019-07-15T00:00:00\",\"2019-07-16T00:00:00\",\"2019-07-17T00:00:00\",\"2019-07-18T00:00:00\",\"2019-07-19T00:00:00\",\"2019-07-20T00:00:00\",\"2019-07-21T00:00:00\",\"2019-07-22T00:00:00\",\"2019-07-23T00:00:00\",\"2019-07-24T00:00:00\",\"2019-07-25T00:00:00\",\"2019-07-26T00:00:00\",\"2019-07-27T00:00:00\",\"2019-07-28T00:00:00\",\"2019-07-29T00:00:00\",\"2019-07-30T00:00:00\",\"2019-07-31T00:00:00\",\"2019-08-01T00:00:00\",\"2019-08-02T00:00:00\",\"2019-08-03T00:00:00\",\"2019-08-04T00:00:00\",\"2019-08-05T00:00:00\",\"2019-08-06T00:00:00\",\"2019-08-07T00:00:00\",\"2019-08-08T00:00:00\",\"2019-08-09T00:00:00\",\"2019-08-10T00:00:00\",\"2019-08-11T00:00:00\",\"2019-08-12T00:00:00\",\"2019-08-13T00:00:00\",\"2019-08-14T00:00:00\",\"2019-08-15T00:00:00\",\"2019-08-16T00:00:00\",\"2019-08-17T00:00:00\",\"2019-08-18T00:00:00\",\"2019-08-19T00:00:00\",\"2019-08-20T00:00:00\",\"2019-08-21T00:00:00\",\"2019-08-22T00:00:00\",\"2019-08-23T00:00:00\",\"2019-08-24T00:00:00\",\"2019-08-25T00:00:00\",\"2019-08-26T00:00:00\",\"2019-08-27T00:00:00\",\"2019-08-28T00:00:00\",\"2019-08-29T00:00:00\",\"2019-08-30T00:00:00\",\"2019-08-31T00:00:00\",\"2019-09-01T00:00:00\",\"2019-09-02T00:00:00\",\"2019-09-03T00:00:00\",\"2019-09-04T00:00:00\",\"2019-09-05T00:00:00\",\"2019-09-06T00:00:00\",\"2019-09-07T00:00:00\",\"2019-09-08T00:00:00\",\"2019-09-09T00:00:00\",\"2019-09-10T00:00:00\",\"2019-09-11T00:00:00\",\"2019-09-12T00:00:00\",\"2019-09-13T00:00:00\",\"2019-09-14T00:00:00\",\"2019-09-15T00:00:00\",\"2019-09-16T00:00:00\",\"2019-09-17T00:00:00\",\"2019-09-18T00:00:00\",\"2019-09-19T00:00:00\",\"2019-09-20T00:00:00\",\"2019-09-21T00:00:00\",\"2019-09-22T00:00:00\",\"2019-09-23T00:00:00\",\"2019-09-24T00:00:00\",\"2019-09-25T00:00:00\",\"2019-09-26T00:00:00\",\"2019-09-27T00:00:00\",\"2019-09-28T00:00:00\",\"2019-09-29T00:00:00\",\"2019-09-30T00:00:00\",\"2019-10-01T00:00:00\",\"2019-10-02T00:00:00\",\"2019-10-03T00:00:00\",\"2019-10-04T00:00:00\",\"2019-10-05T00:00:00\",\"2019-10-06T00:00:00\",\"2019-10-07T00:00:00\",\"2019-10-08T00:00:00\",\"2019-10-09T00:00:00\",\"2019-10-10T00:00:00\",\"2019-10-11T00:00:00\",\"2019-10-12T00:00:00\",\"2019-10-13T00:00:00\",\"2019-10-14T00:00:00\",\"2019-10-15T00:00:00\",\"2019-10-16T00:00:00\",\"2019-10-17T00:00:00\",\"2019-10-18T00:00:00\",\"2019-10-19T00:00:00\",\"2019-10-20T00:00:00\",\"2019-10-21T00:00:00\",\"2019-10-22T00:00:00\",\"2019-10-23T00:00:00\",\"2019-10-24T00:00:00\",\"2019-10-25T00:00:00\",\"2019-10-26T00:00:00\",\"2019-10-27T00:00:00\",\"2019-10-28T00:00:00\",\"2019-10-29T00:00:00\",\"2019-10-30T00:00:00\",\"2019-10-31T00:00:00\",\"2019-11-01T00:00:00\",\"2019-11-02T00:00:00\",\"2019-11-03T00:00:00\",\"2019-11-04T00:00:00\",\"2019-11-05T00:00:00\",\"2019-11-06T00:00:00\",\"2019-11-07T00:00:00\",\"2019-11-08T00:00:00\",\"2019-11-09T00:00:00\",\"2019-11-10T00:00:00\",\"2019-11-11T00:00:00\",\"2019-11-12T00:00:00\",\"2019-11-13T00:00:00\",\"2019-11-14T00:00:00\",\"2019-11-15T00:00:00\",\"2019-11-16T00:00:00\",\"2019-11-17T00:00:00\",\"2019-11-18T00:00:00\",\"2019-11-19T00:00:00\",\"2019-11-20T00:00:00\",\"2019-11-21T00:00:00\",\"2019-11-22T00:00:00\",\"2019-11-23T00:00:00\",\"2019-11-24T00:00:00\",\"2019-11-25T00:00:00\",\"2019-11-26T00:00:00\",\"2019-11-27T00:00:00\",\"2019-11-28T00:00:00\",\"2019-11-29T00:00:00\",\"2019-11-30T00:00:00\",\"2019-12-01T00:00:00\",\"2019-12-02T00:00:00\",\"2019-12-03T00:00:00\",\"2019-12-04T00:00:00\",\"2019-12-05T00:00:00\",\"2019-12-06T00:00:00\",\"2019-12-07T00:00:00\",\"2019-12-08T00:00:00\",\"2019-12-09T00:00:00\",\"2019-12-10T00:00:00\",\"2019-12-11T00:00:00\",\"2019-12-12T00:00:00\",\"2019-12-13T00:00:00\",\"2019-12-14T00:00:00\",\"2019-12-15T00:00:00\",\"2019-12-16T00:00:00\",\"2019-12-17T00:00:00\",\"2019-12-18T00:00:00\",\"2019-12-19T00:00:00\",\"2019-12-20T00:00:00\",\"2019-12-21T00:00:00\",\"2019-12-22T00:00:00\",\"2019-12-23T00:00:00\",\"2019-12-24T00:00:00\",\"2019-12-25T00:00:00\",\"2019-12-26T00:00:00\",\"2019-12-27T00:00:00\",\"2019-12-28T00:00:00\",\"2019-12-29T00:00:00\",\"2019-12-30T00:00:00\",\"2019-12-31T00:00:00\"],\"type\":\"candlestick\"}],                        {\"template\":{\"data\":{\"histogram2dcontour\":[{\"type\":\"histogram2dcontour\",\"colorbar\":{\"outlinewidth\":0,\"ticks\":\"\"},\"colorscale\":[[0.0,\"#0d0887\"],[0.1111111111111111,\"#46039f\"],[0.2222222222222222,\"#7201a8\"],[0.3333333333333333,\"#9c179e\"],[0.4444444444444444,\"#bd3786\"],[0.5555555555555556,\"#d8576b\"],[0.6666666666666666,\"#ed7953\"],[0.7777777777777778,\"#fb9f3a\"],[0.8888888888888888,\"#fdca26\"],[1.0,\"#f0f921\"]]}],\"choropleth\":[{\"type\":\"choropleth\",\"colorbar\":{\"outlinewidth\":0,\"ticks\":\"\"}}],\"histogram2d\":[{\"type\":\"histogram2d\",\"colorbar\":{\"outlinewidth\":0,\"ticks\":\"\"},\"colorscale\":[[0.0,\"#0d0887\"],[0.1111111111111111,\"#46039f\"],[0.2222222222222222,\"#7201a8\"],[0.3333333333333333,\"#9c179e\"],[0.4444444444444444,\"#bd3786\"],[0.5555555555555556,\"#d8576b\"],[0.6666666666666666,\"#ed7953\"],[0.7777777777777778,\"#fb9f3a\"],[0.8888888888888888,\"#fdca26\"],[1.0,\"#f0f921\"]]}],\"heatmap\":[{\"type\":\"heatmap\",\"colorbar\":{\"outlinewidth\":0,\"ticks\":\"\"},\"colorscale\":[[0.0,\"#0d0887\"],[0.1111111111111111,\"#46039f\"],[0.2222222222222222,\"#7201a8\"],[0.3333333333333333,\"#9c179e\"],[0.4444444444444444,\"#bd3786\"],[0.5555555555555556,\"#d8576b\"],[0.6666666666666666,\"#ed7953\"],[0.7777777777777778,\"#fb9f3a\"],[0.8888888888888888,\"#fdca26\"],[1.0,\"#f0f921\"]]}],\"heatmapgl\":[{\"type\":\"heatmapgl\",\"colorbar\":{\"outlinewidth\":0,\"ticks\":\"\"},\"colorscale\":[[0.0,\"#0d0887\"],[0.1111111111111111,\"#46039f\"],[0.2222222222222222,\"#7201a8\"],[0.3333333333333333,\"#9c179e\"],[0.4444444444444444,\"#bd3786\"],[0.5555555555555556,\"#d8576b\"],[0.6666666666666666,\"#ed7953\"],[0.7777777777777778,\"#fb9f3a\"],[0.8888888888888888,\"#fdca26\"],[1.0,\"#f0f921\"]]}],\"contourcarpet\":[{\"type\":\"contourcarpet\",\"colorbar\":{\"outlinewidth\":0,\"ticks\":\"\"}}],\"contour\":[{\"type\":\"contour\",\"colorbar\":{\"outlinewidth\":0,\"ticks\":\"\"},\"colorscale\":[[0.0,\"#0d0887\"],[0.1111111111111111,\"#46039f\"],[0.2222222222222222,\"#7201a8\"],[0.3333333333333333,\"#9c179e\"],[0.4444444444444444,\"#bd3786\"],[0.5555555555555556,\"#d8576b\"],[0.6666666666666666,\"#ed7953\"],[0.7777777777777778,\"#fb9f3a\"],[0.8888888888888888,\"#fdca26\"],[1.0,\"#f0f921\"]]}],\"surface\":[{\"type\":\"surface\",\"colorbar\":{\"outlinewidth\":0,\"ticks\":\"\"},\"colorscale\":[[0.0,\"#0d0887\"],[0.1111111111111111,\"#46039f\"],[0.2222222222222222,\"#7201a8\"],[0.3333333333333333,\"#9c179e\"],[0.4444444444444444,\"#bd3786\"],[0.5555555555555556,\"#d8576b\"],[0.6666666666666666,\"#ed7953\"],[0.7777777777777778,\"#fb9f3a\"],[0.8888888888888888,\"#fdca26\"],[1.0,\"#f0f921\"]]}],\"mesh3d\":[{\"type\":\"mesh3d\",\"colorbar\":{\"outlinewidth\":0,\"ticks\":\"\"}}],\"scatter\":[{\"fillpattern\":{\"fillmode\":\"overlay\",\"size\":10,\"solidity\":0.2},\"type\":\"scatter\"}],\"parcoords\":[{\"type\":\"parcoords\",\"line\":{\"colorbar\":{\"outlinewidth\":0,\"ticks\":\"\"}}}],\"scatterpolargl\":[{\"type\":\"scatterpolargl\",\"marker\":{\"colorbar\":{\"outlinewidth\":0,\"ticks\":\"\"}}}],\"bar\":[{\"error_x\":{\"color\":\"#2a3f5f\"},\"error_y\":{\"color\":\"#2a3f5f\"},\"marker\":{\"line\":{\"color\":\"#E5ECF6\",\"width\":0.5},\"pattern\":{\"fillmode\":\"overlay\",\"size\":10,\"solidity\":0.2}},\"type\":\"bar\"}],\"scattergeo\":[{\"type\":\"scattergeo\",\"marker\":{\"colorbar\":{\"outlinewidth\":0,\"ticks\":\"\"}}}],\"scatterpolar\":[{\"type\":\"scatterpolar\",\"marker\":{\"colorbar\":{\"outlinewidth\":0,\"ticks\":\"\"}}}],\"histogram\":[{\"marker\":{\"pattern\":{\"fillmode\":\"overlay\",\"size\":10,\"solidity\":0.2}},\"type\":\"histogram\"}],\"scattergl\":[{\"type\":\"scattergl\",\"marker\":{\"colorbar\":{\"outlinewidth\":0,\"ticks\":\"\"}}}],\"scatter3d\":[{\"type\":\"scatter3d\",\"line\":{\"colorbar\":{\"outlinewidth\":0,\"ticks\":\"\"}},\"marker\":{\"colorbar\":{\"outlinewidth\":0,\"ticks\":\"\"}}}],\"scattermapbox\":[{\"type\":\"scattermapbox\",\"marker\":{\"colorbar\":{\"outlinewidth\":0,\"ticks\":\"\"}}}],\"scatterternary\":[{\"type\":\"scatterternary\",\"marker\":{\"colorbar\":{\"outlinewidth\":0,\"ticks\":\"\"}}}],\"scattercarpet\":[{\"type\":\"scattercarpet\",\"marker\":{\"colorbar\":{\"outlinewidth\":0,\"ticks\":\"\"}}}],\"carpet\":[{\"aaxis\":{\"endlinecolor\":\"#2a3f5f\",\"gridcolor\":\"white\",\"linecolor\":\"white\",\"minorgridcolor\":\"white\",\"startlinecolor\":\"#2a3f5f\"},\"baxis\":{\"endlinecolor\":\"#2a3f5f\",\"gridcolor\":\"white\",\"linecolor\":\"white\",\"minorgridcolor\":\"white\",\"startlinecolor\":\"#2a3f5f\"},\"type\":\"carpet\"}],\"table\":[{\"cells\":{\"fill\":{\"color\":\"#EBF0F8\"},\"line\":{\"color\":\"white\"}},\"header\":{\"fill\":{\"color\":\"#C8D4E3\"},\"line\":{\"color\":\"white\"}},\"type\":\"table\"}],\"barpolar\":[{\"marker\":{\"line\":{\"color\":\"#E5ECF6\",\"width\":0.5},\"pattern\":{\"fillmode\":\"overlay\",\"size\":10,\"solidity\":0.2}},\"type\":\"barpolar\"}],\"pie\":[{\"automargin\":true,\"type\":\"pie\"}]},\"layout\":{\"autotypenumbers\":\"strict\",\"colorway\":[\"#636efa\",\"#EF553B\",\"#00cc96\",\"#ab63fa\",\"#FFA15A\",\"#19d3f3\",\"#FF6692\",\"#B6E880\",\"#FF97FF\",\"#FECB52\"],\"font\":{\"color\":\"#2a3f5f\"},\"hovermode\":\"closest\",\"hoverlabel\":{\"align\":\"left\"},\"paper_bgcolor\":\"white\",\"plot_bgcolor\":\"#E5ECF6\",\"polar\":{\"bgcolor\":\"#E5ECF6\",\"angularaxis\":{\"gridcolor\":\"white\",\"linecolor\":\"white\",\"ticks\":\"\"},\"radialaxis\":{\"gridcolor\":\"white\",\"linecolor\":\"white\",\"ticks\":\"\"}},\"ternary\":{\"bgcolor\":\"#E5ECF6\",\"aaxis\":{\"gridcolor\":\"white\",\"linecolor\":\"white\",\"ticks\":\"\"},\"baxis\":{\"gridcolor\":\"white\",\"linecolor\":\"white\",\"ticks\":\"\"},\"caxis\":{\"gridcolor\":\"white\",\"linecolor\":\"white\",\"ticks\":\"\"}},\"coloraxis\":{\"colorbar\":{\"outlinewidth\":0,\"ticks\":\"\"}},\"colorscale\":{\"sequential\":[[0.0,\"#0d0887\"],[0.1111111111111111,\"#46039f\"],[0.2222222222222222,\"#7201a8\"],[0.3333333333333333,\"#9c179e\"],[0.4444444444444444,\"#bd3786\"],[0.5555555555555556,\"#d8576b\"],[0.6666666666666666,\"#ed7953\"],[0.7777777777777778,\"#fb9f3a\"],[0.8888888888888888,\"#fdca26\"],[1.0,\"#f0f921\"]],\"sequentialminus\":[[0.0,\"#0d0887\"],[0.1111111111111111,\"#46039f\"],[0.2222222222222222,\"#7201a8\"],[0.3333333333333333,\"#9c179e\"],[0.4444444444444444,\"#bd3786\"],[0.5555555555555556,\"#d8576b\"],[0.6666666666666666,\"#ed7953\"],[0.7777777777777778,\"#fb9f3a\"],[0.8888888888888888,\"#fdca26\"],[1.0,\"#f0f921\"]],\"diverging\":[[0,\"#8e0152\"],[0.1,\"#c51b7d\"],[0.2,\"#de77ae\"],[0.3,\"#f1b6da\"],[0.4,\"#fde0ef\"],[0.5,\"#f7f7f7\"],[0.6,\"#e6f5d0\"],[0.7,\"#b8e186\"],[0.8,\"#7fbc41\"],[0.9,\"#4d9221\"],[1,\"#276419\"]]},\"xaxis\":{\"gridcolor\":\"white\",\"linecolor\":\"white\",\"ticks\":\"\",\"title\":{\"standoff\":15},\"zerolinecolor\":\"white\",\"automargin\":true,\"zerolinewidth\":2},\"yaxis\":{\"gridcolor\":\"white\",\"linecolor\":\"white\",\"ticks\":\"\",\"title\":{\"standoff\":15},\"zerolinecolor\":\"white\",\"automargin\":true,\"zerolinewidth\":2},\"scene\":{\"xaxis\":{\"backgroundcolor\":\"#E5ECF6\",\"gridcolor\":\"white\",\"linecolor\":\"white\",\"showbackground\":true,\"ticks\":\"\",\"zerolinecolor\":\"white\",\"gridwidth\":2},\"yaxis\":{\"backgroundcolor\":\"#E5ECF6\",\"gridcolor\":\"white\",\"linecolor\":\"white\",\"showbackground\":true,\"ticks\":\"\",\"zerolinecolor\":\"white\",\"gridwidth\":2},\"zaxis\":{\"backgroundcolor\":\"#E5ECF6\",\"gridcolor\":\"white\",\"linecolor\":\"white\",\"showbackground\":true,\"ticks\":\"\",\"zerolinecolor\":\"white\",\"gridwidth\":2}},\"shapedefaults\":{\"line\":{\"color\":\"#2a3f5f\"}},\"annotationdefaults\":{\"arrowcolor\":\"#2a3f5f\",\"arrowhead\":0,\"arrowwidth\":1},\"geo\":{\"bgcolor\":\"white\",\"landcolor\":\"#E5ECF6\",\"subunitcolor\":\"white\",\"showland\":true,\"showlakes\":true,\"lakecolor\":\"white\"},\"title\":{\"x\":0.05},\"mapbox\":{\"style\":\"light\"}}},\"title\":{\"text\":\"Bitcoin Candlestick Chart\"},\"xaxis\":{\"title\":{\"text\":\"Date\"}},\"yaxis\":{\"title\":{\"text\":\"Price (USD)\"}}},                        {\"responsive\": true}                    ).then(function(){\n",
       "                            \n",
       "var gd = document.getElementById('3b09a879-fd03-4140-a381-6e0c2949437e');\n",
       "var x = new MutationObserver(function (mutations, observer) {{\n",
       "        var display = window.getComputedStyle(gd).display;\n",
       "        if (!display || display === 'none') {{\n",
       "            console.log([gd, 'removed!']);\n",
       "            Plotly.purge(gd);\n",
       "            observer.disconnect();\n",
       "        }}\n",
       "}});\n",
       "\n",
       "// Listen for the removal of the full notebook cells\n",
       "var notebookContainer = gd.closest('#notebook-container');\n",
       "if (notebookContainer) {{\n",
       "    x.observe(notebookContainer, {childList: true});\n",
       "}}\n",
       "\n",
       "// Listen for the clearing of the current output cell\n",
       "var outputEl = gd.closest('.output');\n",
       "if (outputEl) {{\n",
       "    x.observe(outputEl, {childList: true});\n",
       "}}\n",
       "\n",
       "                        })                };                });            </script>        </div>"
      ]
     },
     "metadata": {},
     "output_type": "display_data"
    }
   ],
   "source": [
    "import pandas as pd\n",
    "import plotly.graph_objects as go\n",
    "\n",
    "\n",
    "\n",
    "# Create a candlestick chart\n",
    "fig = go.Figure(data=[go.Candlestick(\n",
    "    x=bitcoin_daily.index,\n",
    "    open=bitcoin_daily['open'],\n",
    "    high=bitcoin_daily['high'],\n",
    "    low=bitcoin_daily['low'],\n",
    "    close=bitcoin_daily['close']\n",
    ")])\n",
    "\n",
    "# Add title and labels\n",
    "fig.update_layout(\n",
    "    title='Bitcoin Candlestick Chart',\n",
    "    xaxis_title='Date',\n",
    "    yaxis_title='Price (USD)'\n",
    ")\n",
    "\n",
    "# Show the chart\n",
    "fig.show()\n"
   ]
  },
  {
   "cell_type": "code",
   "execution_count": 63,
   "id": "65ce1d00-fdac-4b6a-a409-ced0d1cb4475",
   "metadata": {},
   "outputs": [],
   "source": [
    "# calculate moving average to see trends"
   ]
  },
  {
   "cell_type": "code",
   "execution_count": 86,
   "id": "3ff971ca-4b87-4ff2-8d8c-9455e76de1ec",
   "metadata": {},
   "outputs": [],
   "source": [
    "bitcoin_daily['50_day_MA'] = bitcoin_daily['close'].rolling(window=50).mean()"
   ]
  },
  {
   "cell_type": "code",
   "execution_count": 87,
   "id": "b6f58182-90a2-43dd-9e13-8bb964a804b5",
   "metadata": {},
   "outputs": [
    {
     "data": {
      "text/html": [
       "<div>\n",
       "<style scoped>\n",
       "    .dataframe tbody tr th:only-of-type {\n",
       "        vertical-align: middle;\n",
       "    }\n",
       "\n",
       "    .dataframe tbody tr th {\n",
       "        vertical-align: top;\n",
       "    }\n",
       "\n",
       "    .dataframe thead th {\n",
       "        text-align: right;\n",
       "    }\n",
       "</style>\n",
       "<table border=\"1\" class=\"dataframe\">\n",
       "  <thead>\n",
       "    <tr style=\"text-align: right;\">\n",
       "      <th></th>\n",
       "      <th>open</th>\n",
       "      <th>high</th>\n",
       "      <th>low</th>\n",
       "      <th>close</th>\n",
       "      <th>10_day_MA</th>\n",
       "      <th>50_day_MA</th>\n",
       "    </tr>\n",
       "    <tr>\n",
       "      <th>date</th>\n",
       "      <th></th>\n",
       "      <th></th>\n",
       "      <th></th>\n",
       "      <th></th>\n",
       "      <th></th>\n",
       "      <th></th>\n",
       "    </tr>\n",
       "  </thead>\n",
       "  <tbody>\n",
       "    <tr>\n",
       "      <th>2019-01-01</th>\n",
       "      <td>3694.72</td>\n",
       "      <td>3845.46</td>\n",
       "      <td>3629.66</td>\n",
       "      <td>3823.44</td>\n",
       "      <td>NaN</td>\n",
       "      <td>NaN</td>\n",
       "    </tr>\n",
       "    <tr>\n",
       "      <th>2019-01-02</th>\n",
       "      <td>3825.41</td>\n",
       "      <td>3918.67</td>\n",
       "      <td>3770.00</td>\n",
       "      <td>3885.87</td>\n",
       "      <td>NaN</td>\n",
       "      <td>NaN</td>\n",
       "    </tr>\n",
       "    <tr>\n",
       "      <th>2019-01-03</th>\n",
       "      <td>3890.27</td>\n",
       "      <td>3893.40</td>\n",
       "      <td>3760.00</td>\n",
       "      <td>3787.81</td>\n",
       "      <td>NaN</td>\n",
       "      <td>NaN</td>\n",
       "    </tr>\n",
       "    <tr>\n",
       "      <th>2019-01-04</th>\n",
       "      <td>3785.64</td>\n",
       "      <td>3850.33</td>\n",
       "      <td>3732.38</td>\n",
       "      <td>3817.71</td>\n",
       "      <td>NaN</td>\n",
       "      <td>NaN</td>\n",
       "    </tr>\n",
       "    <tr>\n",
       "      <th>2019-01-05</th>\n",
       "      <td>3822.00</td>\n",
       "      <td>3887.09</td>\n",
       "      <td>3780.00</td>\n",
       "      <td>3791.84</td>\n",
       "      <td>NaN</td>\n",
       "      <td>NaN</td>\n",
       "    </tr>\n",
       "    <tr>\n",
       "      <th>...</th>\n",
       "      <td>...</td>\n",
       "      <td>...</td>\n",
       "      <td>...</td>\n",
       "      <td>...</td>\n",
       "      <td>...</td>\n",
       "      <td>...</td>\n",
       "    </tr>\n",
       "    <tr>\n",
       "      <th>2019-12-27</th>\n",
       "      <td>7195.17</td>\n",
       "      <td>7255.37</td>\n",
       "      <td>7052.00</td>\n",
       "      <td>7246.00</td>\n",
       "      <td>7248.547</td>\n",
       "      <td>7611.5724</td>\n",
       "    </tr>\n",
       "    <tr>\n",
       "      <th>2019-12-28</th>\n",
       "      <td>7247.70</td>\n",
       "      <td>7349.65</td>\n",
       "      <td>7231.00</td>\n",
       "      <td>7296.24</td>\n",
       "      <td>7249.480</td>\n",
       "      <td>7582.1498</td>\n",
       "    </tr>\n",
       "    <tr>\n",
       "      <th>2019-12-29</th>\n",
       "      <td>7297.43</td>\n",
       "      <td>7524.46</td>\n",
       "      <td>7274.43</td>\n",
       "      <td>7385.54</td>\n",
       "      <td>7273.077</td>\n",
       "      <td>7553.6164</td>\n",
       "    </tr>\n",
       "    <tr>\n",
       "      <th>2019-12-30</th>\n",
       "      <td>7372.79</td>\n",
       "      <td>7384.90</td>\n",
       "      <td>7199.00</td>\n",
       "      <td>7220.24</td>\n",
       "      <td>7275.690</td>\n",
       "      <td>7517.5314</td>\n",
       "    </tr>\n",
       "    <tr>\n",
       "      <th>2019-12-31</th>\n",
       "      <td>7222.74</td>\n",
       "      <td>7302.35</td>\n",
       "      <td>7112.55</td>\n",
       "      <td>7168.36</td>\n",
       "      <td>7277.786</td>\n",
       "      <td>7486.4914</td>\n",
       "    </tr>\n",
       "  </tbody>\n",
       "</table>\n",
       "<p>365 rows × 6 columns</p>\n",
       "</div>"
      ],
      "text/plain": [
       "               open     high      low    close  10_day_MA  50_day_MA\n",
       "date                                                                \n",
       "2019-01-01  3694.72  3845.46  3629.66  3823.44        NaN        NaN\n",
       "2019-01-02  3825.41  3918.67  3770.00  3885.87        NaN        NaN\n",
       "2019-01-03  3890.27  3893.40  3760.00  3787.81        NaN        NaN\n",
       "2019-01-04  3785.64  3850.33  3732.38  3817.71        NaN        NaN\n",
       "2019-01-05  3822.00  3887.09  3780.00  3791.84        NaN        NaN\n",
       "...             ...      ...      ...      ...        ...        ...\n",
       "2019-12-27  7195.17  7255.37  7052.00  7246.00   7248.547  7611.5724\n",
       "2019-12-28  7247.70  7349.65  7231.00  7296.24   7249.480  7582.1498\n",
       "2019-12-29  7297.43  7524.46  7274.43  7385.54   7273.077  7553.6164\n",
       "2019-12-30  7372.79  7384.90  7199.00  7220.24   7275.690  7517.5314\n",
       "2019-12-31  7222.74  7302.35  7112.55  7168.36   7277.786  7486.4914\n",
       "\n",
       "[365 rows x 6 columns]"
      ]
     },
     "execution_count": 87,
     "metadata": {},
     "output_type": "execute_result"
    }
   ],
   "source": [
    "bitcoin_daily"
   ]
  },
  {
   "cell_type": "code",
   "execution_count": 90,
   "id": "564ef5bc-f33c-43af-9625-c982d98bb48a",
   "metadata": {},
   "outputs": [
    {
     "data": {
      "text/plain": [
       "<matplotlib.legend.Legend at 0x701ce0ae4b60>"
      ]
     },
     "execution_count": 90,
     "metadata": {},
     "output_type": "execute_result"
    },
    {
     "data": {
      "image/png": "[encoded data removed]",
      "text/plain": [
       "<Figure size 640x480 with 1 Axes>"
      ]
     },
     "metadata": {},
     "output_type": "display_data"
    }
   ],
   "source": [
    "plt.plot(bitcoin_daily.index, bitcoin_daily['50_day_MA'], label=\"Price\")\n",
    "plt.title(\"Bitcoin moving average per 50 days\", fontsize=15)\n",
    "plt.xlabel(\"Time\", fontsize=12)\n",
    "plt.ylabel(\"Price (close)\", fontsize=12)\n",
    "plt.grid(True, linestyle='--', alpha=0.5)\n",
    "plt.tight_layout()\n",
    "plt.xticks(rotation=45, ha='right')\n",
    "plt.legend()"
   ]
  },
  {
   "cell_type": "markdown",
   "id": "c34509a2-f63c-421e-a599-da0e9eacca14",
   "metadata": {},
   "source": [
    "- ### Create a random walk simulation and visualize the distributions that arise from this process:"
   ]
  },
  {
   "cell_type": "code",
   "execution_count": 91,
   "id": "2dca0438-b912-4a9a-901b-0f9562e8650c",
   "metadata": {},
   "outputs": [],
   "source": [
    "# 1D process"
   ]
  },
  {
   "cell_type": "code",
   "execution_count": 95,
   "id": "7e10dd16-78af-46cf-b0f4-dec8f8ef5795",
   "metadata": {},
   "outputs": [],
   "source": [
    "n_steps = 1000"
   ]
  },
  {
   "cell_type": "code",
   "execution_count": 96,
   "id": "bfbe76f8-c34f-4cab-9e34-6429985da504",
   "metadata": {},
   "outputs": [],
   "source": [
    "moves = np.random.choice([1,-1], size=n_steps)"
   ]
  },
  {
   "cell_type": "code",
   "execution_count": 98,
   "id": "05042926-fb77-4b07-a51d-d6813a17e4cf",
   "metadata": {},
   "outputs": [],
   "source": [
    "point_position = np.cumsum(moves)"
   ]
  },
  {
   "cell_type": "code",
   "execution_count": 110,
   "id": "997b464c-25f5-4acc-8890-47872ad424af",
   "metadata": {},
   "outputs": [
    {
     "data": {
      "text/plain": [
       "<matplotlib.legend.Legend at 0x701cdaa38380>"
      ]
     },
     "execution_count": 110,
     "metadata": {},
     "output_type": "execute_result"
    },
    {
     "data": {
      "image/png": "[encoded data removed]",
      "text/plain": [
       "<Figure size 640x480 with 1 Axes>"
      ]
     },
     "metadata": {},
     "output_type": "display_data"
    }
   ],
   "source": [
    "plt.plot(range(1, n_steps+1), point_position, label=\"Position\")\n",
    "plt.xlabel(\"N Step\")\n",
    "plt.ylabel(\"X Coord\")\n",
    "plt.title(\"1D Random Walk\")\n",
    "plt.grid(True, linestyle='--', alpha=0.5)\n",
    "plt.legend()"
   ]
  },
  {
   "cell_type": "code",
   "execution_count": 112,
   "id": "22a3695a-e5cd-4cb8-ab6b-4f0cc5aeba29",
   "metadata": {},
   "outputs": [],
   "source": [
    "# 2D Walk"
   ]
  },
  {
   "cell_type": "code",
   "execution_count": 115,
   "id": "c825d88b-c352-4223-a09f-37081a0a013a",
   "metadata": {},
   "outputs": [],
   "source": [
    "moves_dirs = [(1,0),(-1,0), (0,1), (0,-1)]"
   ]
  },
  {
   "cell_type": "code",
   "execution_count": 116,
   "id": "260bdf46-4c10-450a-b362-ced0fd2a3eba",
   "metadata": {},
   "outputs": [],
   "source": [
    "moves = np.random.choice(range(len(moves_dirs)), size=n_steps)"
   ]
  },
  {
   "cell_type": "code",
   "execution_count": 133,
   "id": "b8061a50-ab2c-4bd6-b662-5360b5851006",
   "metadata": {},
   "outputs": [],
   "source": [
    "moves_changes = [moves_dirs[idx] for idx in moves]"
   ]
  },
  {
   "cell_type": "code",
   "execution_count": 134,
   "id": "c2946741-8dd4-43ff-bec6-4cc6f027c57a",
   "metadata": {},
   "outputs": [],
   "source": [
    "positions = np.cumsum(moves_changes, axis=0)"
   ]
  },
  {
   "cell_type": "code",
   "execution_count": 138,
   "id": "657340f5-639e-4dc8-bf0c-88392261b31a",
   "metadata": {},
   "outputs": [],
   "source": [
    "positions_df = pd.DataFrame(positions, columns=['x', 'y'])"
   ]
  },
  {
   "cell_type": "code",
   "execution_count": 157,
   "id": "2a8902bf-d916-4e72-8ee3-62fe9d7f6388",
   "metadata": {},
   "outputs": [
    {
     "data": {
      "text/plain": [
       "<matplotlib.legend.Legend at 0x701ce09cff50>"
      ]
     },
     "execution_count": 157,
     "metadata": {},
     "output_type": "execute_result"
    },
    {
     "data": {
      "image/png": "[encoded data removed]",
      "text/plain": [
       "<Figure size 640x480 with 1 Axes>"
      ]
     },
     "metadata": {},
     "output_type": "display_data"
    }
   ],
   "source": [
    "plt.plot(positions_df['x'], positions_df['y'], label=\"Position\")\n",
    "plt.xlabel(\"X Coord\")\n",
    "plt.ylabel(\"Y Coord\")\n",
    "plt.title(\"2D Random Walk\")\n",
    "plt.scatter(0,0, color=\"green\", label=\"Start\")\n",
    "plt.scatter(positions_df.iloc[-1]['x'], positions_df.iloc[-1]['y'], color=\"red\", label=\"Stop\")\n",
    "plt.grid(True, linestyle='--', alpha=0.5)\n",
    "plt.legend()"
   ]
  },
  {
   "cell_type": "code",
   "execution_count": 155,
   "id": "ab374aeb-5581-4e2f-af19-710f91f7cb95",
   "metadata": {},
   "outputs": [],
   "source": [
    "# Does your simulation align with the relevant formulas? "
   ]
  },
  {
   "cell_type": "code",
   "execution_count": 175,
   "id": "28c46b07-af20-4b49-9692-d2f0b1e9b07a",
   "metadata": {},
   "outputs": [],
   "source": [
    "# with increasing number of steps mean should be close to zero (expectation -> 0)"
   ]
  },
  {
   "cell_type": "code",
   "execution_count": 186,
   "id": "36ce5af0-370b-4ce5-a1d2-f52b098abef5",
   "metadata": {},
   "outputs": [],
   "source": [
    "# variance should -> to number of steps"
   ]
  },
  {
   "cell_type": "code",
   "execution_count": 264,
   "id": "f4a1fa78-8c77-47ee-9d72-d50ce7976186",
   "metadata": {},
   "outputs": [
    {
     "data": {
      "image/png": "[encoded data removed]",
      "text/plain": [
       "<Figure size 1200x800 with 2 Axes>"
      ]
     },
     "metadata": {},
     "output_type": "display_data"
    }
   ],
   "source": [
    "import numpy as np\n",
    "import matplotlib.pyplot as plt\n",
    "\n",
    "# Parameters\n",
    "num_experiments = 30000  # Number of experiments\n",
    "n_steps = 1000  # Total steps in a single walk\n",
    "\n",
    "# Simulate random walks\n",
    "all_walks = np.random.choice([1, -1], size=(num_experiments, n_steps))  # Shape: (num_experiments, n_steps)\n",
    "cumulative_positions = np.cumsum(all_walks, axis=1)  # Cumulative sum along each row\n",
    "\n",
    "# Calculate mean and standard deviation for each step\n",
    "mean_positions = np.mean(cumulative_positions, axis=0)  # Mean across all experiments\n",
    "std_positions = np.std(cumulative_positions, axis=0)  # Std across all experiments\n",
    "\n",
    "# Theoretical values\n",
    "steps = np.arange(1, n_steps + 1)\n",
    "theoretical_mean = np.zeros_like(steps)\n",
    "theoretical_std = np.sqrt(steps)\n",
    "\n",
    "# Plot results\n",
    "plt.figure(figsize=(12, 8))\n",
    "\n",
    "# Mean plot\n",
    "plt.subplot(2, 1, 1)\n",
    "plt.plot(steps, mean_positions, label=\"Mean (Simulated)\", color=\"blue\")\n",
    "plt.plot(steps, theoretical_mean, label=\"Mean (Theoretical = 0)\", linestyle=\"--\", color=\"red\")\n",
    "plt.title(\"Mean of Positions vs. Number of Steps\")\n",
    "plt.xlabel(\"Number of Steps\")\n",
    "plt.ylabel(\"Mean Position\")\n",
    "plt.legend()\n",
    "\n",
    "# Std plot\n",
    "plt.subplot(2, 1, 2)\n",
    "plt.plot(steps, std_positions, label=\"Std (Simulated)\", color=\"green\")\n",
    "plt.plot(steps, theoretical_std, label=\"Std (Theoretical = √n)\", linestyle=\"--\", color=\"red\")\n",
    "plt.title(\"Standard Deviation of Positions vs. Number of Steps\")\n",
    "plt.xlabel(\"Number of Steps\")\n",
    "plt.ylabel(\"Standard Deviation\")\n",
    "plt.legend()\n",
    "\n",
    "plt.tight_layout()\n",
    "plt.show()\n"
   ]
  },
  {
   "cell_type": "code",
   "execution_count": 281,
   "id": "887cd3a3-1892-4ff4-97b9-a64f119adfa5",
   "metadata": {},
   "outputs": [],
   "source": [
    "# Introduce biases to the process, vary the range of possible steps in terms of direction and size."
   ]
  },
  {
   "cell_type": "code",
   "execution_count": 280,
   "id": "c2c7ca55-4677-443d-978a-7ddd990ecb6f",
   "metadata": {},
   "outputs": [
    {
     "data": {
      "image/png": "[encoded data removed]",
      "text/plain": [
       "<Figure size 1200x800 with 1 Axes>"
      ]
     },
     "metadata": {},
     "output_type": "display_data"
    }
   ],
   "source": [
    "import numpy as np\n",
    "import matplotlib.pyplot as plt\n",
    "\n",
    "# Parameters\n",
    "num_experiments = 5000  # Number of random walks\n",
    "n_steps = 1000  # Number of steps in each walk\n",
    "\n",
    "# Different biases\n",
    "biases = [[0.5, 0.5], [0.6, 0.4], [0.7, 0.3], [0.8, 0.2]]\n",
    "colors = ['blue', 'green', 'orange', 'red']\n",
    "\n",
    "# Initialize figure\n",
    "plt.figure(figsize=(12, 8))\n",
    "\n",
    "# Simulate and plot for each bias\n",
    "for bias, color in zip(biases, colors):\n",
    "    # Simulate biased random walks\n",
    "    all_walks = np.random.choice([-1, 1], size=(num_experiments, n_steps), p=bias)\n",
    "    cumulative_positions = np.cumsum(all_walks, axis=1)\n",
    "\n",
    "    # Calculate statistics\n",
    "    mean_positions = np.mean(cumulative_positions, axis=0)\n",
    "    std_positions = np.std(cumulative_positions, axis=0)\n",
    "\n",
    "    # Plot mean position with standard deviation band\n",
    "    plt.plot(mean_positions, label=f\"Bias {bias[0]}/{bias[1]}\", color=color)\n",
    "    plt.fill_between(range(n_steps), mean_positions - std_positions, mean_positions + std_positions, \n",
    "                     color=color, alpha=0.2)\n",
    "\n",
    "# Add labels, legend, and title\n",
    "plt.title(\"Biased Random Walk Mean Positions for Different Biases\", fontsize=14)\n",
    "plt.xlabel(\"Number of Steps\", fontsize=12)\n",
    "plt.ylabel(\"Cumulative Position\", fontsize=12)\n",
    "plt.legend()\n",
    "plt.grid()\n",
    "plt.show()"
   ]
  },
  {
   "cell_type": "markdown",
   "id": "b4be5647-ac2a-48d7-85b7-5da30454e658",
   "metadata": {},
   "source": [
    "### Explore and visualize the Titanic dataset"
   ]
  },
  {
   "cell_type": "markdown",
   "id": "48518e56-95bc-4383-b437-75f722d5b48c",
   "metadata": {},
   "source": [
    "- Between men and women, who had the higher likelihood of survival?"
   ]
  },
  {
   "cell_type": "code",
   "execution_count": 283,
   "id": "2c0efffe-4871-45e4-8825-31bef398ce51",
   "metadata": {},
   "outputs": [],
   "source": [
    "titanic_df = pd.read_csv(\"https://github.com/datasciencedojo/datasets/raw/master/titanic.csv\")"
   ]
  },
  {
   "cell_type": "code",
   "execution_count": 284,
   "id": "b7886c4e-4e4f-4418-931f-eb1172ecb3d5",
   "metadata": {},
   "outputs": [],
   "source": [
    "# pie chart of survival rate"
   ]
  },
  {
   "cell_type": "code",
   "execution_count": 321,
   "id": "168d6aa9-86de-4636-adcf-3d4f3d895a30",
   "metadata": {},
   "outputs": [],
   "source": [
    "survived = titanic_df.groupby(\"Sex\")[\"Survived\"].sum()"
   ]
  },
  {
   "cell_type": "code",
   "execution_count": 322,
   "id": "a055b46a-fef1-417f-99e9-3959d0403044",
   "metadata": {},
   "outputs": [],
   "source": [
    "total_count = titanic_df.groupby(\"Sex\")[\"Survived\"].count()"
   ]
  },
  {
   "cell_type": "code",
   "execution_count": 324,
   "id": "9c49291b-61a1-4c32-8c08-4af575cc4573",
   "metadata": {},
   "outputs": [
    {
     "data": {
      "image/png": "[encoded data removed]",
      "text/plain": [
       "<Figure size 1400x600 with 2 Axes>"
      ]
     },
     "metadata": {},
     "output_type": "display_data"
    }
   ],
   "source": [
    "# Calculate survival rates for each gender\n",
    "survival_rate_men = survived[\"male\"] / total_count[\"male\"]\n",
    "survival_rate_women = survived[\"female\"] / total_count[\"female\"]\n",
    "\n",
    "# Prepare the data for the pie charts\n",
    "labels = ['Survived', 'Not Survived']\n",
    "\n",
    "# For Men\n",
    "men_data = [survival_rate_men, 1 - survival_rate_men]\n",
    "# For Women\n",
    "women_data = [survival_rate_women, 1 - survival_rate_women]\n",
    "\n",
    "# Create the plot\n",
    "fig, ax = plt.subplots(1, 2, figsize=(14, 6))\n",
    "\n",
    "# Plot for Men\n",
    "ax[0].pie(men_data, labels=labels, autopct='%1.1f%%', colors=['lightblue', 'lightcoral'])\n",
    "ax[0].set_title(\"Survival Rate of Men\")\n",
    "\n",
    "# Plot for Women\n",
    "ax[1].pie(women_data, labels=labels, autopct='%1.1f%%', colors=['lightblue', 'lightcoral'])\n",
    "ax[1].set_title(\"Survival Rate of Women\")\n",
    "\n",
    "# Display the plot\n",
    "plt.tight_layout()\n",
    "plt.show()"
   ]
  },
  {
   "cell_type": "markdown",
   "id": "589e1e12-c780-4896-b42a-24b1ae600f44",
   "metadata": {},
   "source": [
    "- Which passenger class offered the best value for money?"
   ]
  },
  {
   "cell_type": "code",
   "execution_count": 297,
   "id": "9fe6de76-258e-4a24-a518-24ad45aebeda",
   "metadata": {},
   "outputs": [
    {
     "data": {
      "text/html": [
       "<div>\n",
       "<style scoped>\n",
       "    .dataframe tbody tr th:only-of-type {\n",
       "        vertical-align: middle;\n",
       "    }\n",
       "\n",
       "    .dataframe tbody tr th {\n",
       "        vertical-align: top;\n",
       "    }\n",
       "\n",
       "    .dataframe thead th {\n",
       "        text-align: right;\n",
       "    }\n",
       "</style>\n",
       "<table border=\"1\" class=\"dataframe\">\n",
       "  <thead>\n",
       "    <tr style=\"text-align: right;\">\n",
       "      <th></th>\n",
       "      <th>PassengerId</th>\n",
       "      <th>Survived</th>\n",
       "      <th>Pclass</th>\n",
       "      <th>Name</th>\n",
       "      <th>Sex</th>\n",
       "      <th>Age</th>\n",
       "      <th>SibSp</th>\n",
       "      <th>Parch</th>\n",
       "      <th>Ticket</th>\n",
       "      <th>Fare</th>\n",
       "      <th>Cabin</th>\n",
       "      <th>Embarked</th>\n",
       "    </tr>\n",
       "  </thead>\n",
       "  <tbody>\n",
       "    <tr>\n",
       "      <th>0</th>\n",
       "      <td>1</td>\n",
       "      <td>0</td>\n",
       "      <td>3</td>\n",
       "      <td>Braund, Mr. Owen Harris</td>\n",
       "      <td>male</td>\n",
       "      <td>22.0</td>\n",
       "      <td>1</td>\n",
       "      <td>0</td>\n",
       "      <td>A/5 21171</td>\n",
       "      <td>7.2500</td>\n",
       "      <td>NaN</td>\n",
       "      <td>S</td>\n",
       "    </tr>\n",
       "    <tr>\n",
       "      <th>1</th>\n",
       "      <td>2</td>\n",
       "      <td>1</td>\n",
       "      <td>1</td>\n",
       "      <td>Cumings, Mrs. John Bradley (Florence Briggs Th...</td>\n",
       "      <td>female</td>\n",
       "      <td>38.0</td>\n",
       "      <td>1</td>\n",
       "      <td>0</td>\n",
       "      <td>PC 17599</td>\n",
       "      <td>71.2833</td>\n",
       "      <td>C85</td>\n",
       "      <td>C</td>\n",
       "    </tr>\n",
       "    <tr>\n",
       "      <th>2</th>\n",
       "      <td>3</td>\n",
       "      <td>1</td>\n",
       "      <td>3</td>\n",
       "      <td>Heikkinen, Miss. Laina</td>\n",
       "      <td>female</td>\n",
       "      <td>26.0</td>\n",
       "      <td>0</td>\n",
       "      <td>0</td>\n",
       "      <td>STON/O2. 3101282</td>\n",
       "      <td>7.9250</td>\n",
       "      <td>NaN</td>\n",
       "      <td>S</td>\n",
       "    </tr>\n",
       "    <tr>\n",
       "      <th>3</th>\n",
       "      <td>4</td>\n",
       "      <td>1</td>\n",
       "      <td>1</td>\n",
       "      <td>Futrelle, Mrs. Jacques Heath (Lily May Peel)</td>\n",
       "      <td>female</td>\n",
       "      <td>35.0</td>\n",
       "      <td>1</td>\n",
       "      <td>0</td>\n",
       "      <td>113803</td>\n",
       "      <td>53.1000</td>\n",
       "      <td>C123</td>\n",
       "      <td>S</td>\n",
       "    </tr>\n",
       "    <tr>\n",
       "      <th>4</th>\n",
       "      <td>5</td>\n",
       "      <td>0</td>\n",
       "      <td>3</td>\n",
       "      <td>Allen, Mr. William Henry</td>\n",
       "      <td>male</td>\n",
       "      <td>35.0</td>\n",
       "      <td>0</td>\n",
       "      <td>0</td>\n",
       "      <td>373450</td>\n",
       "      <td>8.0500</td>\n",
       "      <td>NaN</td>\n",
       "      <td>S</td>\n",
       "    </tr>\n",
       "    <tr>\n",
       "      <th>...</th>\n",
       "      <td>...</td>\n",
       "      <td>...</td>\n",
       "      <td>...</td>\n",
       "      <td>...</td>\n",
       "      <td>...</td>\n",
       "      <td>...</td>\n",
       "      <td>...</td>\n",
       "      <td>...</td>\n",
       "      <td>...</td>\n",
       "      <td>...</td>\n",
       "      <td>...</td>\n",
       "      <td>...</td>\n",
       "    </tr>\n",
       "    <tr>\n",
       "      <th>886</th>\n",
       "      <td>887</td>\n",
       "      <td>0</td>\n",
       "      <td>2</td>\n",
       "      <td>Montvila, Rev. Juozas</td>\n",
       "      <td>male</td>\n",
       "      <td>27.0</td>\n",
       "      <td>0</td>\n",
       "      <td>0</td>\n",
       "      <td>211536</td>\n",
       "      <td>13.0000</td>\n",
       "      <td>NaN</td>\n",
       "      <td>S</td>\n",
       "    </tr>\n",
       "    <tr>\n",
       "      <th>887</th>\n",
       "      <td>888</td>\n",
       "      <td>1</td>\n",
       "      <td>1</td>\n",
       "      <td>Graham, Miss. Margaret Edith</td>\n",
       "      <td>female</td>\n",
       "      <td>19.0</td>\n",
       "      <td>0</td>\n",
       "      <td>0</td>\n",
       "      <td>112053</td>\n",
       "      <td>30.0000</td>\n",
       "      <td>B42</td>\n",
       "      <td>S</td>\n",
       "    </tr>\n",
       "    <tr>\n",
       "      <th>888</th>\n",
       "      <td>889</td>\n",
       "      <td>0</td>\n",
       "      <td>3</td>\n",
       "      <td>Johnston, Miss. Catherine Helen \"Carrie\"</td>\n",
       "      <td>female</td>\n",
       "      <td>NaN</td>\n",
       "      <td>1</td>\n",
       "      <td>2</td>\n",
       "      <td>W./C. 6607</td>\n",
       "      <td>23.4500</td>\n",
       "      <td>NaN</td>\n",
       "      <td>S</td>\n",
       "    </tr>\n",
       "    <tr>\n",
       "      <th>889</th>\n",
       "      <td>890</td>\n",
       "      <td>1</td>\n",
       "      <td>1</td>\n",
       "      <td>Behr, Mr. Karl Howell</td>\n",
       "      <td>male</td>\n",
       "      <td>26.0</td>\n",
       "      <td>0</td>\n",
       "      <td>0</td>\n",
       "      <td>111369</td>\n",
       "      <td>30.0000</td>\n",
       "      <td>C148</td>\n",
       "      <td>C</td>\n",
       "    </tr>\n",
       "    <tr>\n",
       "      <th>890</th>\n",
       "      <td>891</td>\n",
       "      <td>0</td>\n",
       "      <td>3</td>\n",
       "      <td>Dooley, Mr. Patrick</td>\n",
       "      <td>male</td>\n",
       "      <td>32.0</td>\n",
       "      <td>0</td>\n",
       "      <td>0</td>\n",
       "      <td>370376</td>\n",
       "      <td>7.7500</td>\n",
       "      <td>NaN</td>\n",
       "      <td>Q</td>\n",
       "    </tr>\n",
       "  </tbody>\n",
       "</table>\n",
       "<p>891 rows × 12 columns</p>\n",
       "</div>"
      ],
      "text/plain": [
       "     PassengerId  Survived  Pclass  \\\n",
       "0              1         0       3   \n",
       "1              2         1       1   \n",
       "2              3         1       3   \n",
       "3              4         1       1   \n",
       "4              5         0       3   \n",
       "..           ...       ...     ...   \n",
       "886          887         0       2   \n",
       "887          888         1       1   \n",
       "888          889         0       3   \n",
       "889          890         1       1   \n",
       "890          891         0       3   \n",
       "\n",
       "                                                  Name     Sex   Age  SibSp  \\\n",
       "0                              Braund, Mr. Owen Harris    male  22.0      1   \n",
       "1    Cumings, Mrs. John Bradley (Florence Briggs Th...  female  38.0      1   \n",
       "2                               Heikkinen, Miss. Laina  female  26.0      0   \n",
       "3         Futrelle, Mrs. Jacques Heath (Lily May Peel)  female  35.0      1   \n",
       "4                             Allen, Mr. William Henry    male  35.0      0   \n",
       "..                                                 ...     ...   ...    ...   \n",
       "886                              Montvila, Rev. Juozas    male  27.0      0   \n",
       "887                       Graham, Miss. Margaret Edith  female  19.0      0   \n",
       "888           Johnston, Miss. Catherine Helen \"Carrie\"  female   NaN      1   \n",
       "889                              Behr, Mr. Karl Howell    male  26.0      0   \n",
       "890                                Dooley, Mr. Patrick    male  32.0      0   \n",
       "\n",
       "     Parch            Ticket     Fare Cabin Embarked  \n",
       "0        0         A/5 21171   7.2500   NaN        S  \n",
       "1        0          PC 17599  71.2833   C85        C  \n",
       "2        0  STON/O2. 3101282   7.9250   NaN        S  \n",
       "3        0            113803  53.1000  C123        S  \n",
       "4        0            373450   8.0500   NaN        S  \n",
       "..     ...               ...      ...   ...      ...  \n",
       "886      0            211536  13.0000   NaN        S  \n",
       "887      0            112053  30.0000   B42        S  \n",
       "888      2        W./C. 6607  23.4500   NaN        S  \n",
       "889      0            111369  30.0000  C148        C  \n",
       "890      0            370376   7.7500   NaN        Q  \n",
       "\n",
       "[891 rows x 12 columns]"
      ]
     },
     "execution_count": 297,
     "metadata": {},
     "output_type": "execute_result"
    }
   ],
   "source": [
    "titanic_df"
   ]
  },
  {
   "cell_type": "code",
   "execution_count": 333,
   "id": "dfc81bdd-6fe2-46d7-9892-9fefa6a29e6b",
   "metadata": {},
   "outputs": [],
   "source": [
    "class_stats = titanic_df.groupby(by=\"Pclass\").agg({\n",
    "    \"Fare\": \"mean\", \n",
    "    \"Survived\": [\"count\", \"sum\"]\n",
    "})"
   ]
  },
  {
   "cell_type": "code",
   "execution_count": 336,
   "id": "da4813b7-60de-433b-a88d-e45bbd042d78",
   "metadata": {},
   "outputs": [],
   "source": [
    "class_stats.columns = [\"Avg_Fare\", \"Total_Passengers\", \"Survived_Count\"]"
   ]
  },
  {
   "cell_type": "code",
   "execution_count": 338,
   "id": "2ffb97d0-0d85-44e9-92a1-63201a89b582",
   "metadata": {},
   "outputs": [],
   "source": [
    "class_stats[\"Survived_Rate\"] = class_stats[\"Survived_Count\"] / class_stats[\"Total_Passengers\"]"
   ]
  },
  {
   "cell_type": "code",
   "execution_count": 348,
   "id": "2a9e6f2e-1fad-47ba-a3b5-2d9fd422f742",
   "metadata": {},
   "outputs": [
    {
     "data": {
      "image/png": "[encoded data removed]",
      "text/plain": [
       "<Figure size 800x600 with 1 Axes>"
      ]
     },
     "metadata": {},
     "output_type": "display_data"
    }
   ],
   "source": [
    "# Create the plot\n",
    "fig, ax = plt.subplots(figsize=(8, 6))\n",
    "\n",
    "# Plot each class with a different label for the legend\n",
    "for pclass in class_stats.index:\n",
    "    ax.scatter(\n",
    "        class_stats.loc[pclass, \"Avg_Fare\"], \n",
    "        class_stats.loc[pclass, \"Survived_Rate\"], \n",
    "        label=f'Class {pclass}'  # Label for the legend\n",
    "    )\n",
    "\n",
    "# Set the title and labels\n",
    "ax.set_title(\"Survival Rate vs. Average Fare by Class\")\n",
    "ax.set_xlabel(\"Average Fare\")\n",
    "ax.set_ylabel(\"Survival Rate\")\n",
    "\n",
    "# Add the legend\n",
    "ax.legend(title=\"Pclass\")\n",
    "\n",
    "# Display the plot\n",
    "plt.show()"
   ]
  },
  {
   "cell_type": "markdown",
   "id": "72df7c83-13a4-449d-a09c-f21f42ee0201",
   "metadata": {},
   "source": [
    "- If I were to embark on the Titanic with my child, would I be charged the same fare for both of us?"
   ]
  },
  {
   "cell_type": "code",
   "execution_count": 381,
   "id": "313d5ad5-1921-4390-b468-d1b5027a286d",
   "metadata": {},
   "outputs": [],
   "source": [
    "# calculate average fare per children / per adult"
   ]
  },
  {
   "cell_type": "code",
   "execution_count": 391,
   "id": "13a9c441-55e7-4875-8f32-4dbd5a84617c",
   "metadata": {},
   "outputs": [],
   "source": [
    "titanic_df.loc[:, \"is_child\"] = (titanic_df[\"Age\"] < 18)"
   ]
  },
  {
   "cell_type": "code",
   "execution_count": 394,
   "id": "2fd496f7-8656-4428-a3ec-55df335cc045",
   "metadata": {},
   "outputs": [],
   "source": [
    "child_fares = titanic_df.groupby(\"is_child\").agg({\"Fare\" : \"mean\"})"
   ]
  },
  {
   "cell_type": "code",
   "execution_count": 396,
   "id": "42c53a16-a8fd-4000-87d3-27d2188f6d0c",
   "metadata": {},
   "outputs": [
    {
     "data": {
      "text/plain": [
       "<Axes: xlabel='is_child'>"
      ]
     },
     "execution_count": 396,
     "metadata": {},
     "output_type": "execute_result"
    },
    {
     "data": {
      "image/png": "[encoded data removed]",
      "text/plain": [
       "<Figure size 640x480 with 1 Axes>"
      ]
     },
     "metadata": {},
     "output_type": "display_data"
    }
   ],
   "source": [
    "child_fares.plot(kind=\"bar\")"
   ]
  },
  {
   "cell_type": "code",
   "execution_count": null,
   "id": "8993f317-1b4b-44ef-b2cf-7f52ae8b4945",
   "metadata": {},
   "outputs": [],
   "source": []
  },
  {
   "cell_type": "markdown",
   "id": "2f3039e1-c627-4f42-8b3f-27716720aac3",
   "metadata": {},
   "source": [
    "- Would the presence of my child on board affect my chances of survival?"
   ]
  },
  {
   "cell_type": "code",
   "execution_count": 355,
   "id": "b4e20d82-7953-4165-aa6a-504aaa2cbd6a",
   "metadata": {},
   "outputs": [],
   "source": [
    "# count percentage of survival of people with child and without"
   ]
  },
  {
   "cell_type": "code",
   "execution_count": 360,
   "id": "11cef97d-5bcf-4fd9-9b82-10ec03855057",
   "metadata": {},
   "outputs": [],
   "source": [
    "adult_passengers = titanic_df.loc[(titanic_df.Age >= 18)]"
   ]
  },
  {
   "cell_type": "code",
   "execution_count": 365,
   "id": "5a688004-fcd7-4265-80f4-7d8a0c2e4f0d",
   "metadata": {},
   "outputs": [],
   "source": [
    "adult_passengers.loc[:, \"has_child\"] = (adult_passengers[\"Parch\"] > 0)"
   ]
  },
  {
   "cell_type": "code",
   "execution_count": 376,
   "id": "0eaeffcb-6710-4600-8470-e85e352be6cd",
   "metadata": {},
   "outputs": [],
   "source": [
    "child_stats_df = pd.DataFrame(adult_passengers.groupby(['has_child','Survived'])[\"PassengerId\"].count()).reset_index()"
   ]
  },
  {
   "cell_type": "code",
   "execution_count": 378,
   "id": "ca53ad43-49e4-43ee-8ff9-6498c14b4de2",
   "metadata": {},
   "outputs": [],
   "source": [
    "pivot_df = child_stats_df.pivot_table(index='has_child', columns='Survived', values='PassengerId', aggfunc='sum', fill_value=0)"
   ]
  },
  {
   "cell_type": "code",
   "execution_count": 380,
   "id": "46d81dad-687f-4b58-950e-8ff873c384ce",
   "metadata": {},
   "outputs": [
    {
     "data": {
      "image/png": "[encoded data removed]",
      "text/plain": [
       "<Figure size 800x600 with 1 Axes>"
      ]
     },
     "metadata": {},
     "output_type": "display_data"
    }
   ],
   "source": [
    "# Plot the stacked bar chart\n",
    "ax = pivot_df.plot(kind='bar', stacked=True, color=['red', 'green'], figsize=(8, 6))\n",
    "\n",
    "# Set the title and labels\n",
    "ax.set_title(\"Survival Based on Having a Child\")\n",
    "ax.set_xlabel(\"Has Child\")\n",
    "ax.set_ylabel(\"Count\")\n",
    "ax.set_xticklabels([\"No Child\", \"Has Child\"], rotation=0)\n",
    "\n",
    "# Add the legend\n",
    "ax.legend([\"Not Survived\", \"Survived\"], title=\"Survival Status\")\n",
    "\n",
    "# Display percentages on the bars\n",
    "for pclass in pivot_df.index:\n",
    "    total = pivot_df.loc[pclass].sum()\n",
    "    for surv in pivot_df.columns:\n",
    "        count = pivot_df.loc[pclass, surv]\n",
    "        percentage = (count / total) * 100\n",
    "        ax.text(pclass, pivot_df.loc[pclass, :surv].sum() - count / 2, f'{percentage:.1f}%', \n",
    "                ha='center', va='center', color='white', fontsize=12)\n",
    "\n",
    "# Display the plot\n",
    "plt.show()"
   ]
  },
  {
   "cell_type": "code",
   "execution_count": null,
   "id": "8d36c31c-b52c-45be-b1d6-e5349352652b",
   "metadata": {},
   "outputs": [],
   "source": []
  }
 ],
 "metadata": {
  "kernelspec": {
   "display_name": "football_env",
   "language": "python",
   "name": "footbal_env"
  },
  "language_info": {
   "codemirror_mode": {
    "name": "ipython",
    "version": 3
   },
   "file_extension": ".py",
   "mimetype": "text/x-python",
   "name": "python",
   "nbconvert_exporter": "python",
   "pygments_lexer": "ipython3",
   "version": "3.12.3"
  }
 },
 "nbformat": 4,
 "nbformat_minor": 5
}
