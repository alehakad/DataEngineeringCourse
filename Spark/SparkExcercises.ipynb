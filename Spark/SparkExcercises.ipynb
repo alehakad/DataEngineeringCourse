{
 "cells": [
  {
   "cell_type": "code",
   "execution_count": 1,
   "id": "9d256d67-78bb-44b8-a0ea-3bff05f8af28",
   "metadata": {},
   "outputs": [],
   "source": [
    "import pyspark"
   ]
  },
  {
   "cell_type": "markdown",
   "id": "06059c80-a09d-4f6c-9e76-8677e76ddad8",
   "metadata": {},
   "source": [
    "## Using Spark, inspect the Bank Marketing dataset"
   ]
  },
  {
   "cell_type": "markdown",
   "id": "22351f06-7b5d-4eff-b5f4-d433382f6543",
   "metadata": {},
   "source": [
    "- Load df"
   ]
  },
  {
   "cell_type": "code",
   "execution_count": 22,
   "id": "720d1581-fd1c-453a-be86-dff02f211426",
   "metadata": {},
   "outputs": [
    {
     "name": "stderr",
     "output_type": "stream",
     "text": [
      "25/01/31 23:14:01 WARN SparkSession: Using an existing Spark session; only runtime SQL configurations will take effect.\n"
     ]
    }
   ],
   "source": [
    "# create dataframe\n",
    "from pyspark.sql import SparkSession\n",
    "\n",
    "# Initialize Spark\n",
    "spark = SparkSession.builder.appName(\"bank_df\").getOrCreate()"
   ]
  },
  {
   "cell_type": "code",
   "execution_count": 23,
   "id": "d766baee-2fb3-480d-a49c-092ea67b4c52",
   "metadata": {},
   "outputs": [],
   "source": [
    "df = spark.read.csv(\"bank.csv\", inferSchema=True, header=True)"
   ]
  },
  {
   "cell_type": "markdown",
   "id": "51b89a94-7826-4168-894a-8f7199d5b106",
   "metadata": {},
   "source": [
    "- Print 10 random rows from the dataset"
   ]
  },
  {
   "cell_type": "code",
   "execution_count": 24,
   "id": "3ab28008-16cf-4fe9-8e74-46b561c0704f",
   "metadata": {},
   "outputs": [
    {
     "name": "stdout",
     "output_type": "stream",
     "text": [
      "+---+----------+--------+---------+-------+-------+-------+----+-------+---+-----+--------+--------+-----+--------+--------+-------+\n",
      "|age|       job| marital|education|default|balance|housing|loan|contact|day|month|duration|campaign|pdays|previous|poutcome|deposit|\n",
      "+---+----------+--------+---------+-------+-------+-------+----+-------+---+-----+--------+--------+-----+--------+--------+-------+\n",
      "| 56|    admin.| married|secondary|     no|     45|     no|  no|unknown|  5|  may|    1467|       1|   -1|       0| unknown|    yes|\n",
      "| 41|technician| married|secondary|     no|   1270|    yes|  no|unknown|  5|  may|    1389|       1|   -1|       0| unknown|    yes|\n",
      "| 56|management| married| tertiary|     no|    830|    yes| yes|unknown|  6|  may|    1201|       1|   -1|       0| unknown|    yes|\n",
      "| 60|   retired|divorced|secondary|     no|    545|    yes|  no|unknown|  6|  may|    1030|       1|   -1|       0| unknown|    yes|\n",
      "| 28|  services|  single|secondary|     no|   5090|    yes|  no|unknown|  6|  may|    1297|       3|   -1|       0| unknown|    yes|\n",
      "| 38|    admin.|  single|secondary|     no|    100|    yes|  no|unknown|  7|  may|     786|       1|   -1|       0| unknown|    yes|\n",
      "| 31|technician|  single| tertiary|     no|    703|    yes|  no|unknown|  8|  may|     943|       2|   -1|       0| unknown|    yes|\n",
      "| 49|  services| married|secondary|     no|     -8|    yes|  no|unknown|  8|  may|    1119|       1|   -1|       0| unknown|    yes|\n",
      "| 41|    admin.| married|secondary|     no|     55|    yes|  no|unknown|  8|  may|    1120|       2|   -1|       0| unknown|    yes|\n",
      "| 49|    admin.|divorced|secondary|     no|    168|    yes| yes|unknown|  8|  may|     513|       1|   -1|       0| unknown|    yes|\n",
      "+---+----------+--------+---------+-------+-------+-------+----+-------+---+-----+--------+--------+-----+--------+--------+-------+\n",
      "\n"
     ]
    }
   ],
   "source": [
    "df.sample(0.5).limit(10).show()"
   ]
  },
  {
   "cell_type": "markdown",
   "id": "2b3f7c42-8fb5-4cbf-8ee1-840299da082a",
   "metadata": {},
   "source": [
    "- What are the relative proportions of no and yes for deposit feature? (inspect also other qualitative variables)"
   ]
  },
  {
   "cell_type": "code",
   "execution_count": 28,
   "id": "23663390-8368-41dd-9c78-2b2a026ee975",
   "metadata": {},
   "outputs": [],
   "source": [
    "from pyspark.sql import functions as F"
   ]
  },
  {
   "cell_type": "code",
   "execution_count": 38,
   "id": "2b9610fa-dd02-4756-be02-75057305f052",
   "metadata": {},
   "outputs": [
    {
     "name": "stdout",
     "output_type": "stream",
     "text": [
      "+-------+-----+--------+\n",
      "|deposit|count|fraction|\n",
      "+-------+-----+--------+\n",
      "|     no| 5873|    0.53|\n",
      "|    yes| 5289|    0.47|\n",
      "+-------+-----+--------+\n",
      "\n"
     ]
    }
   ],
   "source": [
    "df.groupBy(\"deposit\").count().withColumn(\"fraction\", F.round(F.col(\"count\") / F.lit(df.count()),2)).show()"
   ]
  },
  {
   "cell_type": "code",
   "execution_count": 39,
   "id": "b047550e-778c-47c6-a406-1ccf557e513e",
   "metadata": {},
   "outputs": [
    {
     "name": "stdout",
     "output_type": "stream",
     "text": [
      "+--------+-----+--------+\n",
      "| marital|count|fraction|\n",
      "+--------+-----+--------+\n",
      "|divorced| 1293|    0.12|\n",
      "| married| 6351|    0.57|\n",
      "|  single| 3518|    0.32|\n",
      "+--------+-----+--------+\n",
      "\n"
     ]
    }
   ],
   "source": [
    "df.groupBy(\"marital\").count().withColumn(\"fraction\", F.round(F.col(\"count\") / F.lit(df.count()),2)).show()"
   ]
  },
  {
   "cell_type": "code",
   "execution_count": 40,
   "id": "4feab25a-43aa-4815-9d7c-1d6ff7e5c561",
   "metadata": {},
   "outputs": [
    {
     "name": "stdout",
     "output_type": "stream",
     "text": [
      "+---------+-----+--------+\n",
      "|education|count|fraction|\n",
      "+---------+-----+--------+\n",
      "|  unknown|  497|    0.04|\n",
      "| tertiary| 3689|    0.33|\n",
      "|secondary| 5476|    0.49|\n",
      "|  primary| 1500|    0.13|\n",
      "+---------+-----+--------+\n",
      "\n"
     ]
    }
   ],
   "source": [
    "df.groupBy(\"education\").count().withColumn(\"fraction\", F.round(F.col(\"count\") / F.lit(df.count()),2)).show()"
   ]
  },
  {
   "cell_type": "markdown",
   "id": "ac0df468-b692-4403-8319-36c03af8185b",
   "metadata": {},
   "source": [
    "- Get descriptive statistics for numerical variables"
   ]
  },
  {
   "cell_type": "code",
   "execution_count": 45,
   "id": "d2ff3209-8a57-4931-9a92-58d92beea699",
   "metadata": {},
   "outputs": [
    {
     "name": "stdout",
     "output_type": "stream",
     "text": [
      "+------------------+-----------+------------------+\n",
      "|round(avg(age), 3)|median(age)|     skewness(age)|\n",
      "+------------------+-----------+------------------+\n",
      "|            41.232|       39.0|0.8626636888266418|\n",
      "+------------------+-----------+------------------+\n",
      "\n"
     ]
    }
   ],
   "source": [
    "df.select(F.round(F.mean(\"age\"),3), F.median(\"age\"), F.skewness(\"age\")).show()"
   ]
  },
  {
   "cell_type": "code",
   "execution_count": 46,
   "id": "b6e119cb-2961-4446-88dd-d811a27b7575",
   "metadata": {},
   "outputs": [
    {
     "name": "stdout",
     "output_type": "stream",
     "text": [
      "+-------------------------+------------+--------------+\n",
      "|round(stddev(balance), 3)|sum(balance)|count(balance)|\n",
      "+-------------------------+------------+--------------+\n",
      "|                 3225.413|    17061547|         11162|\n",
      "+-------------------------+------------+--------------+\n",
      "\n"
     ]
    }
   ],
   "source": [
    "df.select(F.round(F.stddev(\"balance\"),3), F.sum(\"balance\"), F.count(\"balance\")).show()"
   ]
  },
  {
   "cell_type": "code",
   "execution_count": 47,
   "id": "aa2ab54c-a144-4058-b1b4-0dc36e341e92",
   "metadata": {},
   "outputs": [
    {
     "data": {
      "text/plain": [
       "[113.0, 525.0, 1631.0]"
      ]
     },
     "execution_count": 47,
     "metadata": {},
     "output_type": "execute_result"
    }
   ],
   "source": [
    "df.approxQuantile(\"balance\", [0.25, 0.5, 0.75], 0.01)"
   ]
  },
  {
   "cell_type": "markdown",
   "id": "92bb6918-3b88-4756-ba22-d4b4901dacb4",
   "metadata": {},
   "source": [
    "- Use relevant visualizations to inspect variables and relations between them"
   ]
  },
  {
   "cell_type": "markdown",
   "id": "2f73603e-d40e-40ba-9d44-c1edabc9fb16",
   "metadata": {},
   "source": [
    "- Who is the client with the biggest balance?"
   ]
  },
  {
   "cell_type": "code",
   "execution_count": 50,
   "id": "3dd28490-4935-49b9-9130-6b8823484e1b",
   "metadata": {},
   "outputs": [
    {
     "name": "stdout",
     "output_type": "stream",
     "text": [
      "+---+-------+-------+---------+-------+-------+-------+----+---------+---+-----+--------+--------+-----+--------+--------+-------+\n",
      "|age|    job|marital|education|default|balance|housing|loan|  contact|day|month|duration|campaign|pdays|previous|poutcome|deposit|\n",
      "+---+-------+-------+---------+-------+-------+-------+----+---------+---+-----+--------+--------+-----+--------+--------+-------+\n",
      "| 84|retired|married|secondary|     no|  81204|     no|  no|telephone| 28|  dec|     679|       1|  313|       2|   other|    yes|\n",
      "+---+-------+-------+---------+-------+-------+-------+----+---------+---+-----+--------+--------+-----+--------+--------+-------+\n",
      "\n"
     ]
    }
   ],
   "source": [
    "df.orderBy(\"balance\", ascending=False).limit(1).show()"
   ]
  },
  {
   "cell_type": "markdown",
   "id": "f0fc8341-1ee4-477e-a217-9c0e77b4f012",
   "metadata": {},
   "source": [
    "- What is the proportion of clients who's balance is more than twice the average?"
   ]
  },
  {
   "cell_type": "code",
   "execution_count": 55,
   "id": "4201b337-3eef-4ccf-9d96-4c3eb5ad5d9a",
   "metadata": {},
   "outputs": [],
   "source": [
    "avg_balance = df.select(F.avg(\"balance\")).collect()[0][0]"
   ]
  },
  {
   "cell_type": "code",
   "execution_count": 57,
   "id": "1bd28904-f1c2-4cfd-9ea4-62f0410c6e7c",
   "metadata": {},
   "outputs": [
    {
     "data": {
      "text/plain": [
       "0.13931195126321447"
      ]
     },
     "execution_count": 57,
     "metadata": {},
     "output_type": "execute_result"
    }
   ],
   "source": [
    "df.filter(df[\"balance\"] > 2*avg_balance).count() / df.count()"
   ]
  },
  {
   "cell_type": "markdown",
   "id": "6f83e0ca-4a3a-4a87-9ff7-7c6c5392649c",
   "metadata": {},
   "source": [
    "- Do people with higher education have a better chance to deposit?"
   ]
  },
  {
   "cell_type": "code",
   "execution_count": null,
   "id": "b7ec0601-4828-4d3b-acf4-14397fc6d8d1",
   "metadata": {},
   "outputs": [],
   "source": []
  },
  {
   "cell_type": "markdown",
   "id": "84b63c77-6ab5-4dbc-b7bc-0ae5f5bb20fd",
   "metadata": {},
   "source": [
    "## OULAD Data 7 queries"
   ]
  },
  {
   "cell_type": "code",
   "execution_count": null,
   "id": "93ca7969-a82d-4ad8-a396-8b0493704318",
   "metadata": {},
   "outputs": [],
   "source": []
  },
  {
   "cell_type": "code",
   "execution_count": null,
   "id": "122f9645-abf7-486f-8542-b387477563cb",
   "metadata": {},
   "outputs": [],
   "source": []
  },
  {
   "cell_type": "markdown",
   "id": "d9b5a49c-dea3-40eb-8c1c-8c16dd643234",
   "metadata": {},
   "source": [
    "## Use PySpark syntax to find pairs of coprimes up to some constant n. "
   ]
  },
  {
   "cell_type": "code",
   "execution_count": 5,
   "id": "c33d89fc-1dcf-4b88-8685-fccfc4f60abe",
   "metadata": {},
   "outputs": [
    {
     "name": "stderr",
     "output_type": "stream",
     "text": [
      "25/01/31 23:11:03 WARN Utils: Your hostname, alehak-ThinkPad-S5-S540 resolves to a loopback address: 127.0.1.1; using 10.0.0.46 instead (on interface wlp4s0)\n",
      "25/01/31 23:11:03 WARN Utils: Set SPARK_LOCAL_IP if you need to bind to another address\n",
      "Setting default log level to \"WARN\".\n",
      "To adjust logging level use sc.setLogLevel(newLevel). For SparkR, use setLogLevel(newLevel).\n",
      "25/01/31 23:11:04 WARN NativeCodeLoader: Unable to load native-hadoop library for your platform... using builtin-java classes where applicable\n"
     ]
    }
   ],
   "source": [
    "# create dataframe\n",
    "from pyspark.sql import SparkSession\n",
    "\n",
    "# Initialize Spark\n",
    "spark = SparkSession.builder.appName(\"primes\").getOrCreate()"
   ]
  },
  {
   "cell_type": "code",
   "execution_count": 16,
   "id": "745fa312-d850-419c-b09c-1d0743a929af",
   "metadata": {},
   "outputs": [],
   "source": [
    "data = [(i,) for i in range(1,100)]"
   ]
  },
  {
   "cell_type": "code",
   "execution_count": 17,
   "id": "8b3fffc9-dfd1-4ec2-ab9c-6dd7b89562be",
   "metadata": {},
   "outputs": [],
   "source": [
    "columns = [\"n\",]"
   ]
  },
  {
   "cell_type": "code",
   "execution_count": 18,
   "id": "485644e5-1c25-4463-b2d5-9f46fe8c025c",
   "metadata": {},
   "outputs": [],
   "source": [
    "df = spark.createDataFrame(data, columns)"
   ]
  },
  {
   "cell_type": "code",
   "execution_count": 19,
   "id": "f0f3c9a8-d54d-4ad1-94a6-2c8bbf5ffd4c",
   "metadata": {},
   "outputs": [
    {
     "name": "stdout",
     "output_type": "stream",
     "text": [
      "+---+\n",
      "|  n|\n",
      "+---+\n",
      "|  1|\n",
      "|  2|\n",
      "|  3|\n",
      "+---+\n",
      "only showing top 3 rows\n",
      "\n"
     ]
    }
   ],
   "source": [
    "df.show(3)"
   ]
  },
  {
   "cell_type": "code",
   "execution_count": null,
   "id": "46c7a4f6-3b3d-47a5-b31b-06a0003d7417",
   "metadata": {},
   "outputs": [],
   "source": []
  }
 ],
 "metadata": {
  "kernelspec": {
   "display_name": "spark_env",
   "language": "python",
   "name": "your_environment_name"
  },
  "language_info": {
   "codemirror_mode": {
    "name": "ipython",
    "version": 3
   },
   "file_extension": ".py",
   "mimetype": "text/x-python",
   "name": "python",
   "nbconvert_exporter": "python",
   "pygments_lexer": "ipython3",
   "version": "3.12.3"
  }
 },
 "nbformat": 4,
 "nbformat_minor": 5
}
